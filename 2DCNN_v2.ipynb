{
  "nbformat": 4,
  "nbformat_minor": 0,
  "metadata": {
    "kernelspec": {
      "display_name": "Python 3",
      "language": "python",
      "name": "python3"
    },
    "language_info": {
      "codemirror_mode": {
        "name": "ipython",
        "version": 3
      },
      "file_extension": ".py",
      "mimetype": "text/x-python",
      "name": "python",
      "nbconvert_exporter": "python",
      "pygments_lexer": "ipython3",
      "version": "3.7.6"
    },
    "colab": {
      "name": "2DCNN.ipynb",
      "provenance": [],
      "collapsed_sections": [],
      "include_colab_link": true
    }
  },
  "cells": [
    {
      "cell_type": "markdown",
      "metadata": {
        "id": "view-in-github",
        "colab_type": "text"
      },
      "source": [
        "<a href=\"https://colab.research.google.com/github/sid-vt/DL-Research/blob/main/2DCNN_v2.ipynb\" target=\"_parent\"><img src=\"https://colab.research.google.com/assets/colab-badge.svg\" alt=\"Open In Colab\"/></a>"
      ]
    },
    {
      "cell_type": "code",
      "metadata": {
        "id": "fZTOsA_Zf-Qf"
      },
      "source": [
        "import pandas as pd\n",
        "import numpy as np\n",
        "import matplotlib.pyplot as plt\n",
        "\n",
        "import os\n",
        "import glob\n",
        "\n",
        "from PIL import Image\n",
        "import cv2\n",
        "\n",
        "import random\n",
        "import math\n",
        "\n",
        "import tensorflow as tf\n",
        "from tensorflow import keras\n",
        "from tensorflow.keras.models import Sequential\n",
        "from tensorflow.keras.layers import Dense, Flatten, Conv2D, MaxPooling2D, Dropout, BatchNormalization\n",
        "from tensorflow.keras.utils import to_categorical\n",
        "\n",
        "import sklearn as sk\n",
        "from sklearn.model_selection import train_test_split\n",
        "from sklearn import preprocessing\n",
        "from sklearn.preprocessing import StandardScaler\n",
        "\n",
        "pd.options.display.max_rows = 3000\n",
        "\n",
        "# import h5py\n",
        "# import torchvision"
      ],
      "execution_count": 146,
      "outputs": []
    },
    {
      "cell_type": "code",
      "metadata": {
        "id": "euMe_MF43R_c"
      },
      "source": [
        "# f=[]\r\n",
        "# for i in range(100):\r\n",
        "#   f.append(float(\"{0:.4f}\".format(random.uniform(-math.pi/2, math.pi/2))))\r\n",
        "# (unique, counts) = np.unique(f, return_counts=True)\r\n",
        "# frequencies = np.asarray((unique, counts)).T\r\n",
        "# frequencies\r\n",
        "# counts.sort()\r\n",
        "# counts"
      ],
      "execution_count": 147,
      "outputs": []
    },
    {
      "cell_type": "code",
      "metadata": {
        "id": "KSZb2l7cBK03",
        "colab": {
          "base_uri": "https://localhost:8080/"
        },
        "outputId": "1931c725-57be-4c25-e8d1-a68c9927dbaa"
      },
      "source": [
        "from google.colab import drive\n",
        "drive.mount('/content/drive')"
      ],
      "execution_count": 148,
      "outputs": [
        {
          "output_type": "stream",
          "text": [
            "Drive already mounted at /content/drive; to attempt to forcibly remount, call drive.mount(\"/content/drive\", force_remount=True).\n"
          ],
          "name": "stdout"
        }
      ]
    },
    {
      "cell_type": "code",
      "metadata": {
        "id": "6irloPy7-OvW"
      },
      "source": [
        "# top left corner +1 and bottom corner as it is \r\n",
        "# img_read[y1+1:y2, x1:x2]\r\n",
        "\r\n",
        "image = []\r\n",
        "for image_path in glob.glob('/content/drive/MyDrive/Colab Notebooks/ResearchCNN/MisesFiles_12/*.png'):\r\n",
        "    img_read = cv2.imread(image_path)\r\n",
        "    crop_img = img_read[81:147, 80:147]\r\n",
        "    resize = cv2.resize(crop_img, (64, 64))\r\n",
        "    image.append(resize)\r\n",
        "    # image.append(crop_img)\r\n",
        "image12 = np.asarray(image)"
      ],
      "execution_count": 149,
      "outputs": []
    },
    {
      "cell_type": "code",
      "metadata": {
        "colab": {
          "base_uri": "https://localhost:8080/",
          "height": 268
        },
        "id": "F3OvtIqy-aSo",
        "outputId": "b3029d7d-dfc6-4299-b416-dc68e1f31ab4"
      },
      "source": [
        "data = image12[15]\r\n",
        "img_show = Image.fromarray(image12[15], 'RGB')\r\n",
        "plt.imshow(data, interpolation='nearest')\r\n",
        "plt.show()"
      ],
      "execution_count": 150,
      "outputs": [
        {
          "output_type": "display_data",
          "data": {
            "image/png": "[encoded data removed]",
            "text/plain": [
              "<Figure size 432x288 with 1 Axes>"
            ]
          },
          "metadata": {
            "tags": [],
            "needs_background": "light"
          }
        }
      ]
    },
    {
      "cell_type": "code",
      "metadata": {
        "id": "y74Ckpcr1fuS"
      },
      "source": [
        "image = []\r\n",
        "for image_path in glob.glob('/content/drive/MyDrive/Colab Notebooks/ResearchCNN/MisesFiles_24/*.png'):\r\n",
        "    img_read = cv2.imread(image_path)\r\n",
        "    crop_img = img_read[81:147, 80:147]\r\n",
        "    resize = cv2.resize(crop_img, (64, 64))\r\n",
        "    image.append(resize)\r\n",
        "    # image.append(crop_img)\r\n",
        "image24 = np.asarray(image)"
      ],
      "execution_count": 151,
      "outputs": []
    },
    {
      "cell_type": "code",
      "metadata": {
        "id": "1JaKQcK33Nee",
        "colab": {
          "base_uri": "https://localhost:8080/",
          "height": 268
        },
        "outputId": "183cecb8-7d5e-42b0-ceb0-ef93a4d41185"
      },
      "source": [
        "data = image24[15]\r\n",
        "img_show = Image.fromarray(image12[15], 'RGB')\r\n",
        "plt.imshow(data, interpolation='nearest')\r\n",
        "plt.show()"
      ],
      "execution_count": 152,
      "outputs": [
        {
          "output_type": "display_data",
          "data": {
            "image/png": "[encoded data removed]",
            "text/plain": [
              "<Figure size 432x288 with 1 Axes>"
            ]
          },
          "metadata": {
            "tags": [],
            "needs_background": "light"
          }
        }
      ]
    },
    {
      "cell_type": "code",
      "metadata": {
        "id": "fmymEeqXf-Qr"
      },
      "source": [
        "X12 = image12\r\n",
        "X24 = image24"
      ],
      "execution_count": 153,
      "outputs": []
    },
    {
      "cell_type": "code",
      "metadata": {
        "colab": {
          "base_uri": "https://localhost:8080/"
        },
        "id": "nBnq1dHsCgT1",
        "outputId": "623f3f2d-53fc-4918-d870-fc3a92dea75c"
      },
      "source": [
        "X12.shape\r\n",
        "X24.shape"
      ],
      "execution_count": 154,
      "outputs": [
        {
          "output_type": "execute_result",
          "data": {
            "text/plain": [
              "(100, 64, 64, 3)"
            ]
          },
          "metadata": {
            "tags": []
          },
          "execution_count": 154
        }
      ]
    },
    {
      "cell_type": "code",
      "metadata": {
        "colab": {
          "base_uri": "https://localhost:8080/"
        },
        "id": "5bP9DBbkWIq7",
        "outputId": "68bab901-9017-4921-db6e-ff24a88643b5"
      },
      "source": [
        "X12_single = X12.mean(axis=3).mean(axis=2).mean(axis=1)\r\n",
        "X12_single"
      ],
      "execution_count": 155,
      "outputs": [
        {
          "output_type": "execute_result",
          "data": {
            "text/plain": [
              "array([131.33333333, 131.33333333, 146.66666667, 146.66666667,\n",
              "       115.66666667, 115.66666667, 100.33333333, 146.66666667,\n",
              "       115.66666667, 162.        , 146.66666667, 146.66666667,\n",
              "       146.66666667, 146.66666667, 115.66666667, 115.66666667,\n",
              "       115.66666667, 115.66666667, 162.        , 115.66666667,\n",
              "        85.        , 162.        , 131.33333333, 115.66666667,\n",
              "       162.        , 115.66666667, 115.66666667, 115.66666667,\n",
              "        85.        , 131.33333333, 162.        , 162.        ,\n",
              "       131.33333333, 146.66666667, 146.66666667, 146.66666667,\n",
              "       115.66666667,  85.        , 115.66666667,  85.        ,\n",
              "       115.66666667, 115.66666667,  85.        , 146.66666667,\n",
              "        85.        , 162.        , 146.66666667,  85.        ,\n",
              "       115.66666667,  85.        , 100.33333333, 131.33333333,\n",
              "        85.        , 131.33333333, 131.33333333,  85.        ,\n",
              "        85.        , 146.66666667, 115.66666667, 115.66666667,\n",
              "       115.66666667, 162.        , 100.33333333,  85.        ,\n",
              "       146.66666667, 146.66666667, 115.66666667, 115.66666667,\n",
              "       131.33333333, 115.66666667,  85.        , 100.33333333,\n",
              "       100.33333333, 131.33333333, 100.33333333, 115.66666667,\n",
              "       115.66666667, 162.        ,  85.        , 131.33333333,\n",
              "       115.66666667, 115.66666667, 146.66666667, 115.66666667,\n",
              "       100.33333333, 115.66666667, 162.        , 162.        ,\n",
              "       100.33333333, 115.66666667,  85.        , 100.33333333,\n",
              "       115.66666667, 146.66666667, 146.66666667, 115.66666667,\n",
              "       131.33333333, 115.66666667, 162.        , 162.        ])"
            ]
          },
          "metadata": {
            "tags": []
          },
          "execution_count": 155
        }
      ]
    },
    {
      "cell_type": "code",
      "metadata": {
        "colab": {
          "base_uri": "https://localhost:8080/"
        },
        "id": "CNmAWdyaE68l",
        "outputId": "fc681d10-abd6-4720-edcc-37f3eb84ea63"
      },
      "source": [
        "X24_single = X24.mean(axis=3).mean(axis=2).mean(axis=1)\r\n",
        "X24_single"
      ],
      "execution_count": 156,
      "outputs": [
        {
          "output_type": "execute_result",
          "data": {
            "text/plain": [
              "array([129.33333333,  85.        ,  99.66666667, 121.66666667,\n",
              "       151.33333333, 114.33333333, 129.33333333,  85.        ,\n",
              "        99.66666667,  99.66666667, 144.        ,  99.66666667,\n",
              "       129.33333333, 121.66666667, 121.66666667, 114.33333333,\n",
              "        99.66666667, 114.33333333, 121.66666667, 144.        ,\n",
              "       166.        , 129.33333333,  99.66666667, 107.        ,\n",
              "        85.        ,  99.66666667, 144.        , 144.        ,\n",
              "       144.        ,  92.33333333, 114.33333333, 151.33333333,\n",
              "       107.        , 129.33333333, 121.66666667, 129.33333333,\n",
              "       129.33333333, 121.66666667, 107.        , 121.66666667,\n",
              "       136.66666667, 114.33333333, 107.        ,  99.66666667,\n",
              "       158.66666667, 114.33333333, 114.33333333, 158.66666667,\n",
              "       158.66666667, 151.33333333, 114.33333333, 158.66666667,\n",
              "        85.        , 121.66666667, 114.33333333, 129.33333333,\n",
              "       144.        , 114.33333333, 107.        , 151.33333333,\n",
              "       166.        , 114.33333333, 114.33333333, 121.66666667,\n",
              "       114.33333333,  99.66666667, 151.33333333, 114.33333333,\n",
              "       114.33333333, 151.33333333, 114.33333333, 114.33333333,\n",
              "       107.        , 114.33333333, 107.        , 158.66666667,\n",
              "       158.66666667, 166.        , 158.66666667,  92.33333333,\n",
              "        99.66666667, 114.33333333, 129.33333333, 136.66666667,\n",
              "        99.66666667, 114.33333333, 121.66666667, 129.33333333,\n",
              "       166.        , 151.33333333, 114.33333333, 151.33333333,\n",
              "       158.66666667, 129.33333333, 158.66666667, 158.66666667,\n",
              "       144.        , 166.        , 114.33333333, 158.66666667])"
            ]
          },
          "metadata": {
            "tags": []
          },
          "execution_count": 156
        }
      ]
    },
    {
      "cell_type": "code",
      "metadata": {
        "id": "HbAz1fKef-Qt",
        "colab": {
          "base_uri": "https://localhost:8080/"
        },
        "outputId": "8857220b-b436-4399-dbb1-19f043c3af4a"
      },
      "source": [
        "# Scaling with min max\n",
        "X12norm = (X12_single - X12_single.min())/(X12_single.max() - X12_single.min())\n",
        "X12norm"
      ],
      "execution_count": 157,
      "outputs": [
        {
          "output_type": "execute_result",
          "data": {
            "text/plain": [
              "array([0.6017316, 0.6017316, 0.8008658, 0.8008658, 0.3982684, 0.3982684,\n",
              "       0.1991342, 0.8008658, 0.3982684, 1.       , 0.8008658, 0.8008658,\n",
              "       0.8008658, 0.8008658, 0.3982684, 0.3982684, 0.3982684, 0.3982684,\n",
              "       1.       , 0.3982684, 0.       , 1.       , 0.6017316, 0.3982684,\n",
              "       1.       , 0.3982684, 0.3982684, 0.3982684, 0.       , 0.6017316,\n",
              "       1.       , 1.       , 0.6017316, 0.8008658, 0.8008658, 0.8008658,\n",
              "       0.3982684, 0.       , 0.3982684, 0.       , 0.3982684, 0.3982684,\n",
              "       0.       , 0.8008658, 0.       , 1.       , 0.8008658, 0.       ,\n",
              "       0.3982684, 0.       , 0.1991342, 0.6017316, 0.       , 0.6017316,\n",
              "       0.6017316, 0.       , 0.       , 0.8008658, 0.3982684, 0.3982684,\n",
              "       0.3982684, 1.       , 0.1991342, 0.       , 0.8008658, 0.8008658,\n",
              "       0.3982684, 0.3982684, 0.6017316, 0.3982684, 0.       , 0.1991342,\n",
              "       0.1991342, 0.6017316, 0.1991342, 0.3982684, 0.3982684, 1.       ,\n",
              "       0.       , 0.6017316, 0.3982684, 0.3982684, 0.8008658, 0.3982684,\n",
              "       0.1991342, 0.3982684, 1.       , 1.       , 0.1991342, 0.3982684,\n",
              "       0.       , 0.1991342, 0.3982684, 0.8008658, 0.8008658, 0.3982684,\n",
              "       0.6017316, 0.3982684, 1.       , 1.       ])"
            ]
          },
          "metadata": {
            "tags": []
          },
          "execution_count": 157
        }
      ]
    },
    {
      "cell_type": "code",
      "metadata": {
        "colab": {
          "base_uri": "https://localhost:8080/"
        },
        "id": "-u1_ORbaeAyB",
        "outputId": "e9a15689-1f16-4181-e312-f37ba2870617"
      },
      "source": [
        "X24norm = (X24_single - X24_single.min())/(X24_single.max() - X24_single.min())\r\n",
        "X24norm"
      ],
      "execution_count": 169,
      "outputs": [
        {
          "output_type": "execute_result",
          "data": {
            "text/plain": [
              "array([0.5473251 , 0.        , 0.18106996, 0.4526749 , 0.81893004,\n",
              "       0.36213992, 0.5473251 , 0.        , 0.18106996, 0.18106996,\n",
              "       0.72839506, 0.18106996, 0.5473251 , 0.4526749 , 0.4526749 ,\n",
              "       0.36213992, 0.18106996, 0.36213992, 0.4526749 , 0.72839506,\n",
              "       1.        , 0.5473251 , 0.18106996, 0.27160494, 0.        ,\n",
              "       0.18106996, 0.72839506, 0.72839506, 0.72839506, 0.09053498,\n",
              "       0.36213992, 0.81893004, 0.27160494, 0.5473251 , 0.4526749 ,\n",
              "       0.5473251 , 0.5473251 , 0.4526749 , 0.27160494, 0.4526749 ,\n",
              "       0.63786008, 0.36213992, 0.27160494, 0.18106996, 0.90946502,\n",
              "       0.36213992, 0.36213992, 0.90946502, 0.90946502, 0.81893004,\n",
              "       0.36213992, 0.90946502, 0.        , 0.4526749 , 0.36213992,\n",
              "       0.5473251 , 0.72839506, 0.36213992, 0.27160494, 0.81893004,\n",
              "       1.        , 0.36213992, 0.36213992, 0.4526749 , 0.36213992,\n",
              "       0.18106996, 0.81893004, 0.36213992, 0.36213992, 0.81893004,\n",
              "       0.36213992, 0.36213992, 0.27160494, 0.36213992, 0.27160494,\n",
              "       0.90946502, 0.90946502, 1.        , 0.90946502, 0.09053498,\n",
              "       0.18106996, 0.36213992, 0.5473251 , 0.63786008, 0.18106996,\n",
              "       0.36213992, 0.4526749 , 0.5473251 , 1.        , 0.81893004,\n",
              "       0.36213992, 0.81893004, 0.90946502, 0.5473251 , 0.90946502,\n",
              "       0.90946502, 0.72839506, 1.        , 0.36213992, 0.90946502])"
            ]
          },
          "metadata": {
            "tags": []
          },
          "execution_count": 169
        }
      ]
    },
    {
      "cell_type": "code",
      "metadata": {
        "id": "QJ-5uRn0f-Qy"
      },
      "source": [
        "# y = []\n",
        "# for i in range (X.shape[0]):\n",
        "#     temp = X[i].mean()\n",
        "#     y.append(temp)"
      ],
      "execution_count": 170,
      "outputs": []
    },
    {
      "cell_type": "code",
      "metadata": {
        "id": "1Sk5sv2Zf-Q1"
      },
      "source": [
        "# X = np.array(y)"
      ],
      "execution_count": 171,
      "outputs": []
    },
    {
      "cell_type": "code",
      "metadata": {
        "id": "7yaA_gJIf-Q2",
        "colab": {
          "base_uri": "https://localhost:8080/"
        },
        "outputId": "25abe354-0267-48c4-a042-8f48d2312eeb"
      },
      "source": [
        "y12 = np.loadtxt('/content/drive/MyDrive/Colab Notebooks/ResearchCNN/MisesFiles_12/results.txt')\r\n",
        "y12norm = (y12 - y12.min())/(y12.max() - y12.min())\r\n",
        "y12norm"
      ],
      "execution_count": 172,
      "outputs": [
        {
          "output_type": "execute_result",
          "data": {
            "text/plain": [
              "array([0.31240073, 0.97630487, 0.45717335, 0.32810979, 0.6617581 ,\n",
              "       0.09344794, 0.99019417, 0.99376232, 0.98845972, 0.04173491,\n",
              "       0.98898419, 0.47555996, 0.76196271, 0.97503957, 0.80633126,\n",
              "       0.0034585 , 0.8965379 , 0.64886975, 0.9553336 , 0.15350148,\n",
              "       0.82259759, 0.98645767, 0.76069431, 0.97711326, 0.85377543,\n",
              "       0.06784888, 0.06154645, 0.09075054, 0.20594422, 0.84254595,\n",
              "       0.87331263, 0.77840316, 0.8211904 , 0.0824113 , 0.58474019,\n",
              "       0.67038252, 0.45617057, 0.92991316, 0.63018725, 0.02549518,\n",
              "       0.59352593, 0.36401269, 0.92829103, 0.66661365, 0.9629841 ,\n",
              "       0.75034022, 0.92443306, 0.05350253, 0.0044693 , 0.9029079 ,\n",
              "       0.11765714, 0.63887473, 0.5697476 , 0.18809039, 0.97087079,\n",
              "       0.17249408, 0.04372499, 0.05588195, 0.58301854, 0.79518187,\n",
              "       0.65931561, 0.92954268, 0.39699988, 0.18757647, 0.0977907 ,\n",
              "       0.86977559, 0.02419089, 0.00618377, 0.04425566, 0.02188227,\n",
              "       0.90804117, 0.9608237 , 0.02223685, 0.        , 0.23405066,\n",
              "       0.71854979, 0.22589258, 0.90657092, 0.43163791, 0.2115893 ,\n",
              "       0.94095769, 0.75493494, 0.41380504, 0.04659384, 0.92275744,\n",
              "       0.72905379, 0.99359425, 0.06988963, 0.81032816, 0.36928292,\n",
              "       1.        , 0.98387302, 0.85660768, 0.50659606, 0.25896802,\n",
              "       0.96298353, 0.8215409 , 0.11556233, 0.22023033, 0.6015006 ])"
            ]
          },
          "metadata": {
            "tags": []
          },
          "execution_count": 172
        }
      ]
    },
    {
      "cell_type": "code",
      "metadata": {
        "colab": {
          "base_uri": "https://localhost:8080/"
        },
        "id": "hmh7MYkDc3nl",
        "outputId": "7b1674b7-5efd-4afb-a1d6-634f706bc684"
      },
      "source": [
        "y24 = np.loadtxt('/content/drive/MyDrive/Colab Notebooks/ResearchCNN/MisesFiles_24/results.txt')\r\n",
        "y24norm = (y24 - y24.min())/(y24.max() - y24.min())\r\n",
        "y24norm"
      ],
      "execution_count": 173,
      "outputs": [
        {
          "output_type": "execute_result",
          "data": {
            "text/plain": [
              "array([0.31240073, 0.97630487, 0.45717335, 0.32810979, 0.6617581 ,\n",
              "       0.09344794, 0.99019417, 0.99376232, 0.98845972, 0.04173491,\n",
              "       0.98898419, 0.47555996, 0.76196271, 0.97503957, 0.80633126,\n",
              "       0.0034585 , 0.8965379 , 0.64886975, 0.9553336 , 0.15350148,\n",
              "       0.82259759, 0.98645767, 0.76069431, 0.97711326, 0.85377543,\n",
              "       0.06784888, 0.06154645, 0.09075054, 0.20594422, 0.84254595,\n",
              "       0.87331263, 0.77840316, 0.8211904 , 0.0824113 , 0.58474019,\n",
              "       0.67038252, 0.45617057, 0.92991316, 0.63018725, 0.02549518,\n",
              "       0.59352593, 0.36401269, 0.92829103, 0.66661365, 0.9629841 ,\n",
              "       0.75034022, 0.92443306, 0.05350253, 0.0044693 , 0.9029079 ,\n",
              "       0.11765714, 0.63887473, 0.5697476 , 0.18809039, 0.97087079,\n",
              "       0.17249408, 0.04372499, 0.05588195, 0.58301854, 0.79518187,\n",
              "       0.65931561, 0.92954268, 0.39699988, 0.18757647, 0.0977907 ,\n",
              "       0.86977559, 0.02419089, 0.00618377, 0.04425566, 0.02188227,\n",
              "       0.90804117, 0.9608237 , 0.02223685, 0.        , 0.23405066,\n",
              "       0.71854979, 0.22589258, 0.90657092, 0.43163791, 0.2115893 ,\n",
              "       0.94095769, 0.75493494, 0.41380504, 0.04659384, 0.92275744,\n",
              "       0.72905379, 0.99359425, 0.06988963, 0.81032816, 0.36928292,\n",
              "       1.        , 0.98387302, 0.85660768, 0.50659606, 0.25896802,\n",
              "       0.96298353, 0.8215409 , 0.11556233, 0.22023033, 0.6015006 ])"
            ]
          },
          "metadata": {
            "tags": []
          },
          "execution_count": 173
        }
      ]
    },
    {
      "cell_type": "code",
      "metadata": {
        "id": "VoFQeqBPf-Q4",
        "colab": {
          "base_uri": "https://localhost:8080/",
          "height": 283
        },
        "outputId": "65b15067-640c-4ca4-980e-03b1d35f7806"
      },
      "source": [
        "plt.scatter(X12norm, y12norm)"
      ],
      "execution_count": 174,
      "outputs": [
        {
          "output_type": "execute_result",
          "data": {
            "text/plain": [
              "<matplotlib.collections.PathCollection at 0x7f5950256a20>"
            ]
          },
          "metadata": {
            "tags": []
          },
          "execution_count": 174
        },
        {
          "output_type": "display_data",
          "data": {
            "image/png": "[encoded data removed]",
            "text/plain": [
              "<Figure size 432x288 with 1 Axes>"
            ]
          },
          "metadata": {
            "tags": [],
            "needs_background": "light"
          }
        }
      ]
    },
    {
      "cell_type": "code",
      "metadata": {
        "colab": {
          "base_uri": "https://localhost:8080/",
          "height": 283
        },
        "id": "4ksDQk4EJyA3",
        "outputId": "8a66e6b7-58a7-4569-83fa-ef0e747b8945"
      },
      "source": [
        "plt.scatter(X24norm, y12norm)"
      ],
      "execution_count": 177,
      "outputs": [
        {
          "output_type": "execute_result",
          "data": {
            "text/plain": [
              "<matplotlib.collections.PathCollection at 0x7f594fa1a828>"
            ]
          },
          "metadata": {
            "tags": []
          },
          "execution_count": 177
        },
        {
          "output_type": "display_data",
          "data": {
            "image/png": "[encoded data removed]",
            "text/plain": [
              "<Figure size 432x288 with 1 Axes>"
            ]
          },
          "metadata": {
            "tags": [],
            "needs_background": "light"
          }
        }
      ]
    },
    {
      "cell_type": "code",
      "metadata": {
        "colab": {
          "base_uri": "https://localhost:8080/",
          "height": 294
        },
        "id": "ahR5TTxtPmfD",
        "outputId": "ede956b6-c237-4baf-e470-f415ead80a04"
      },
      "source": [
        "# x = np.random.normal(size = 1000)\r\n",
        "plt.hist(y24, bins=100)\r\n",
        "plt.gca().set(title='Frequency Histogram', ylabel='Frequency');"
      ],
      "execution_count": 178,
      "outputs": [
        {
          "output_type": "display_data",
          "data": {
            "image/png": "[encoded data removed]",
            "text/plain": [
              "<Figure size 432x288 with 1 Axes>"
            ]
          },
          "metadata": {
            "tags": [],
            "needs_background": "light"
          }
        }
      ]
    },
    {
      "cell_type": "code",
      "metadata": {
        "colab": {
          "base_uri": "https://localhost:8080/"
        },
        "id": "kcwbf5-WUU8c",
        "outputId": "cbe8fa96-b8e1-4db4-a3ee-92698311cfe3"
      },
      "source": [
        "(unique, counts) = np.unique(X24norm, return_counts=True)\r\n",
        "frequencies = np.asarray((unique, counts)).T\r\n",
        "frequencies"
      ],
      "execution_count": 180,
      "outputs": [
        {
          "output_type": "execute_result",
          "data": {
            "text/plain": [
              "array([[ 0.        ,  4.        ],\n",
              "       [ 0.09053498,  2.        ],\n",
              "       [ 0.18106996, 11.        ],\n",
              "       [ 0.27160494,  7.        ],\n",
              "       [ 0.36213992, 22.        ],\n",
              "       [ 0.4526749 , 10.        ],\n",
              "       [ 0.5473251 , 11.        ],\n",
              "       [ 0.63786008,  2.        ],\n",
              "       [ 0.72839506,  7.        ],\n",
              "       [ 0.81893004,  8.        ],\n",
              "       [ 0.90946502, 11.        ],\n",
              "       [ 1.        ,  5.        ]])"
            ]
          },
          "metadata": {
            "tags": []
          },
          "execution_count": 180
        }
      ]
    },
    {
      "cell_type": "code",
      "metadata": {
        "colab": {
          "base_uri": "https://localhost:8080/"
        },
        "id": "lXLxRBx9IJuH",
        "outputId": "2c9ace4b-62a2-477c-d021-1befd7fe9d1c"
      },
      "source": [
        "(unique, counts) = np.unique(y24, return_counts=True)\r\n",
        "frequencies = np.asarray((unique, counts)).T\r\n",
        "counts"
      ],
      "execution_count": 185,
      "outputs": [
        {
          "output_type": "execute_result",
          "data": {
            "text/plain": [
              "array([1, 1, 1, 1, 1, 1, 1, 1, 1, 1, 1, 1, 1, 1, 1, 1, 1, 1, 1, 1, 1, 1,\n",
              "       1, 1, 1, 1, 1, 1, 1, 1, 1, 1, 1, 1, 1, 1, 1, 1, 1, 1, 1, 1, 1, 1,\n",
              "       1, 1, 1, 1, 1, 1, 1, 1, 1, 1, 1, 1, 1, 1, 1, 1, 1, 1, 1, 1, 1, 1,\n",
              "       1, 1, 1, 1, 1, 1, 1, 1, 1, 1, 1, 1, 1, 1, 1, 1, 1, 1, 1, 1, 1, 1,\n",
              "       1, 1, 1, 1, 1, 1, 1, 1, 1, 1, 1, 1])"
            ]
          },
          "metadata": {
            "tags": []
          },
          "execution_count": 185
        }
      ]
    },
    {
      "cell_type": "code",
      "metadata": {
        "id": "ZTcGNt6ef-Q5"
      },
      "source": [
        "X12_train, X12_test, y12_train, y12_test = train_test_split(X12, y12norm , test_size=0.1)\r\n",
        "X24_train, X24_test, y24_train, y24_test = train_test_split(X24, y24norm , test_size=0.1)"
      ],
      "execution_count": 75,
      "outputs": []
    },
    {
      "cell_type": "code",
      "metadata": {
        "id": "p0PM9nInf-Q6",
        "colab": {
          "base_uri": "https://localhost:8080/"
        },
        "outputId": "79ef4cd3-bd35-46bc-dc6a-42829f289211"
      },
      "source": [
        "X12_train.shape"
      ],
      "execution_count": 76,
      "outputs": [
        {
          "output_type": "execute_result",
          "data": {
            "text/plain": [
              "(90, 64, 64, 3)"
            ]
          },
          "metadata": {
            "tags": []
          },
          "execution_count": 76
        }
      ]
    },
    {
      "cell_type": "code",
      "metadata": {
        "id": "YMr-AT9Ef-Q7",
        "colab": {
          "base_uri": "https://localhost:8080/"
        },
        "outputId": "f053089f-86aa-46cb-d600-bb52d6f8b524"
      },
      "source": [
        "y12_train.shape"
      ],
      "execution_count": 77,
      "outputs": [
        {
          "output_type": "execute_result",
          "data": {
            "text/plain": [
              "(90,)"
            ]
          },
          "metadata": {
            "tags": []
          },
          "execution_count": 77
        }
      ]
    },
    {
      "cell_type": "code",
      "metadata": {
        "colab": {
          "base_uri": "https://localhost:8080/"
        },
        "id": "MXhhOiP2M7Cp",
        "outputId": "1f866656-a284-40cb-99c5-1994060f6c03"
      },
      "source": [
        "X24_train.shape"
      ],
      "execution_count": 78,
      "outputs": [
        {
          "output_type": "execute_result",
          "data": {
            "text/plain": [
              "(90, 64, 64, 3)"
            ]
          },
          "metadata": {
            "tags": []
          },
          "execution_count": 78
        }
      ]
    },
    {
      "cell_type": "code",
      "metadata": {
        "colab": {
          "base_uri": "https://localhost:8080/"
        },
        "id": "4GUyvIrcM7Ku",
        "outputId": "dfe82479-0040-473c-bff9-d93e59d04490"
      },
      "source": [
        "y24_train.shape"
      ],
      "execution_count": 79,
      "outputs": [
        {
          "output_type": "execute_result",
          "data": {
            "text/plain": [
              "(90,)"
            ]
          },
          "metadata": {
            "tags": []
          },
          "execution_count": 79
        }
      ]
    },
    {
      "cell_type": "code",
      "metadata": {
        "id": "S1zZtzDGNYpT"
      },
      "source": [
        "model = Sequential()\r\n",
        "\r\n",
        "model.add(Conv2D(64, kernel_size=(2,2 ), activation='relu', kernel_initializer='glorot_uniform', input_shape=(64,64,3)))\r\n",
        "model.add(MaxPooling2D(pool_size=(2, 2)))\r\n",
        "model.add(Dropout(0.1))\r\n",
        "\r\n",
        "model.add(Flatten())\r\n",
        "\r\n",
        "model.add(Dense(100, activation='relu', kernel_initializer='glorot_uniform'))\r\n",
        "model.add(Dense(1, activation='linear'))\r\n",
        "\r\n",
        "model.summary()"
      ],
      "execution_count": null,
      "outputs": []
    },
    {
      "cell_type": "code",
      "metadata": {
        "id": "OzB49ASINfMb"
      },
      "source": [
        "# Compile the model\r\n",
        "model.compile( loss=tf.keras.losses.MeanSquaredError(),\r\n",
        "              optimizer=keras.optimizers.Adam(lr=0.00001),\r\n",
        "              metrics=['mae'])\r\n",
        "\r\n",
        "# Fit data to model\r\n",
        "history = model.fit(X12_train ,y12_train, validation_data=(X12_test,y12_test),\r\n",
        "            batch_size=2,\r\n",
        "            epochs=500,\r\n",
        "            verbose=1)"
      ],
      "execution_count": null,
      "outputs": []
    },
    {
      "cell_type": "code",
      "metadata": {
        "id": "QCD5i_1wf-Q-",
        "colab": {
          "base_uri": "https://localhost:8080/",
          "height": 295
        },
        "outputId": "38d0be28-b621-4443-a7a8-fe31bae24136"
      },
      "source": [
        "plt.semilogy(history.history['loss'])\n",
        "plt.semilogy(history.history['val_loss'])\n",
        "plt.title('Loss vs Epochs')\n",
        "plt.ylabel('Loss')\n",
        "plt.yscale('log')\n",
        "plt.xlabel('epoch')\n",
        "plt.legend(['train', 'val'], loc='upper left')\n",
        "plt.show()"
      ],
      "execution_count": null,
      "outputs": [
        {
          "output_type": "display_data",
          "data": {
            "image/png": "[encoded data removed]",
            "text/plain": [
              "<Figure size 432x288 with 1 Axes>"
            ]
          },
          "metadata": {
            "tags": [],
            "needs_background": "light"
          }
        }
      ]
    },
    {
      "cell_type": "code",
      "metadata": {
        "id": "Fq94hhs0f-Q_"
      },
      "source": [
        "predictions_all = model.predict(X12)\n",
        "predictions_train = model.predict(X12_train)\n",
        "predictions_test = model.predict(X12_test)"
      ],
      "execution_count": null,
      "outputs": []
    },
    {
      "cell_type": "code",
      "metadata": {
        "id": "acjwVhl7f-Q_",
        "colab": {
          "base_uri": "https://localhost:8080/",
          "height": 284
        },
        "outputId": "5b2e0ab9-12a8-4875-ae43-2b67e319886e"
      },
      "source": [
        "xlim = 1\n",
        "x = np.linspace(0,xlim,11)\n",
        "plt.plot(x, x)\n",
        "\n",
        "# x = np.linspace(1,1,10)\n",
        "plt.scatter(predictions_all,y12)\n",
        "# plt.plot(x,x)"
      ],
      "execution_count": null,
      "outputs": [
        {
          "output_type": "execute_result",
          "data": {
            "text/plain": [
              "<matplotlib.collections.PathCollection at 0x7fa3d3732588>"
            ]
          },
          "metadata": {
            "tags": []
          },
          "execution_count": 81
        },
        {
          "output_type": "display_data",
          "data": {
            "image/png": "[encoded data removed]",
            "text/plain": [
              "<Figure size 432x288 with 1 Axes>"
            ]
          },
          "metadata": {
            "tags": [],
            "needs_background": "light"
          }
        }
      ]
    },
    {
      "cell_type": "code",
      "metadata": {
        "id": "GKgL1IT7f-Q8",
        "colab": {
          "base_uri": "https://localhost:8080/"
        },
        "outputId": "2ea1e272-5eee-4c0a-cb71-76169afba433"
      },
      "source": [
        "# model = Sequential()\n",
        "\n",
        "# model.add(Conv2D(64, kernel_size=(2,2 ), activation='relu', kernel_initializer='glorot_uniform', input_shape=(64,64,3)))\n",
        "# # model.add(BatchNormalization(axis = 1))\n",
        "# model.add(MaxPooling2D(pool_size=(2, 2)))\n",
        "# model.add(Dropout(0.1))\n",
        "\n",
        "# # model.add(Conv2D(64, kernel_size=(2, 2), activation='relu', kernel_initializer='glorot_uniform'))\n",
        "# # model.add(MaxPooling2D(pool_size=(2, 2,)))\n",
        "# # model.add(Dropout(0.5))\n",
        "\n",
        "# # model.add(Conv2D(128, kernel_size=(2, 2), activation='relu', kernel_initializer='glorot_uniform'))\n",
        "# # model.add(MaxPooling2D(pool_size=(2, 2,)))\n",
        "# # model.add(Dropout(0.5))\n",
        "\n",
        "# # model.add(Conv3D(256, kernel_size=(2, 2, 2), activation='relu', kernel_initializer='glorot_uniform'))\n",
        "# # model.add(MaxPooling3D(pool_size=(2, 2, 2)))\n",
        "# # model.add(BatchNormalization())\n",
        "\n",
        "# # model.add(BatchNormalization(center=True, scale=True))\n",
        "# # model.add(Dropout(0.5))\n",
        "\n",
        "\n",
        "# model.add(Flatten())\n",
        "\n",
        "# # model.add(Dense(256, activation='relu', kernel_initializer='glorot_uniform'))\n",
        "# model.add(Dense(100, activation='relu', kernel_initializer='glorot_uniform'))\n",
        "# model.add(Dense(1, activation='linear'))\n",
        "\n",
        "# model.summary()"
      ],
      "execution_count": 80,
      "outputs": [
        {
          "output_type": "stream",
          "text": [
            "Model: \"sequential\"\n",
            "_________________________________________________________________\n",
            "Layer (type)                 Output Shape              Param #   \n",
            "=================================================================\n",
            "conv2d (Conv2D)              (None, 63, 63, 64)        832       \n",
            "_________________________________________________________________\n",
            "max_pooling2d (MaxPooling2D) (None, 31, 31, 64)        0         \n",
            "_________________________________________________________________\n",
            "dropout (Dropout)            (None, 31, 31, 64)        0         \n",
            "_________________________________________________________________\n",
            "flatten (Flatten)            (None, 61504)             0         \n",
            "_________________________________________________________________\n",
            "dense (Dense)                (None, 100)               6150500   \n",
            "_________________________________________________________________\n",
            "dense_1 (Dense)              (None, 1)                 101       \n",
            "=================================================================\n",
            "Total params: 6,151,433\n",
            "Trainable params: 6,151,433\n",
            "Non-trainable params: 0\n",
            "_________________________________________________________________\n"
          ],
          "name": "stdout"
        }
      ]
    },
    {
      "cell_type": "code",
      "metadata": {
        "colab": {
          "base_uri": "https://localhost:8080/",
          "height": 246
        },
        "id": "DoBGbYIBf-Q9",
        "outputId": "abe5b1eb-638d-4220-e037-902e133f3121"
      },
      "source": [
        "# # Compile the model\n",
        "# model.compile( loss=tf.keras.losses.MeanSquaredError(),\n",
        "#               optimizer=keras.optimizers.Adam(lr=0.00001),\n",
        "#               metrics=['mae'])\n",
        "\n",
        "# # Fit data to model\n",
        "# history = model.fit(X_train ,y_train, validation_data=(X_test,y_test),\n",
        "#             batch_size=2,\n",
        "#             epochs=500,\n",
        "#             verbose=1)"
      ],
      "execution_count": 81,
      "outputs": [
        {
          "output_type": "error",
          "ename": "NameError",
          "evalue": "ignored",
          "traceback": [
            "\u001b[0;31m---------------------------------------------------------------------------\u001b[0m",
            "\u001b[0;31mNameError\u001b[0m                                 Traceback (most recent call last)",
            "\u001b[0;32m<ipython-input-81-b2bf56edb6f5>\u001b[0m in \u001b[0;36m<module>\u001b[0;34m()\u001b[0m\n\u001b[1;32m      5\u001b[0m \u001b[0;34m\u001b[0m\u001b[0m\n\u001b[1;32m      6\u001b[0m \u001b[0;31m# Fit data to model\u001b[0m\u001b[0;34m\u001b[0m\u001b[0;34m\u001b[0m\u001b[0;34m\u001b[0m\u001b[0m\n\u001b[0;32m----> 7\u001b[0;31m history = model.fit(X_train ,y_train, validation_data=(X_test,y_test),\n\u001b[0m\u001b[1;32m      8\u001b[0m             \u001b[0mbatch_size\u001b[0m\u001b[0;34m=\u001b[0m\u001b[0;36m2\u001b[0m\u001b[0;34m,\u001b[0m\u001b[0;34m\u001b[0m\u001b[0;34m\u001b[0m\u001b[0m\n\u001b[1;32m      9\u001b[0m             \u001b[0mepochs\u001b[0m\u001b[0;34m=\u001b[0m\u001b[0;36m500\u001b[0m\u001b[0;34m,\u001b[0m\u001b[0;34m\u001b[0m\u001b[0;34m\u001b[0m\u001b[0m\n",
            "\u001b[0;31mNameError\u001b[0m: name 'X_train' is not defined"
          ]
        }
      ]
    },
    {
      "cell_type": "code",
      "metadata": {
        "id": "FOALfuzcf-RA"
      },
      "source": [
        "import seaborn as snsn"
      ],
      "execution_count": null,
      "outputs": []
    },
    {
      "cell_type": "code",
      "metadata": {
        "id": "JV2Z23cMf-RA",
        "colab": {
          "base_uri": "https://localhost:8080/",
          "height": 763
        },
        "outputId": "be18fd83-b74e-4d9f-e0e3-e3c8d2e77c8d"
      },
      "source": [
        "import seaborn as sns\n",
        "fig,ax=plt.subplots(figsize=(8,6))\n",
        "sns.kdeplot(predictions_test.ravel(),label=\"\",ax=ax,c='b')\n",
        "sns.kdeplot(y_test.ravel(),label=\"\",ax=ax,c='g')\n",
        "ax.legend(['Actual','Pred'],fontsize=14)\n",
        "ax.title.set_text('Test_set')\n",
        "\n",
        "fig,ax=plt.subplots(figsize=(8,6))\n",
        "sns.kdeplot(predictions_train.ravel(),label=\"\",ax=ax,c='b')\n",
        "sns.kdeplot(y_train.ravel(),label=\"\",ax=ax,c='g')\n",
        "ax.legend(['Actual','Pred'],fontsize=14)\n",
        "ax.title.set_text('Test_set')\n"
      ],
      "execution_count": null,
      "outputs": [
        {
          "output_type": "display_data",
          "data": {
            "image/png": "[encoded data removed]",
            "text/plain": [
              "<Figure size 576x432 with 1 Axes>"
            ]
          },
          "metadata": {
            "tags": [],
            "needs_background": "light"
          }
        },
        {
          "output_type": "display_data",
          "data": {
            "image/png": "[encoded data removed]",
            "text/plain": [
              "<Figure size 576x432 with 1 Axes>"
            ]
          },
          "metadata": {
            "tags": [],
            "needs_background": "light"
          }
        }
      ]
    },
    {
      "cell_type": "code",
      "metadata": {
        "id": "WQnuPsSLf-RB",
        "colab": {
          "base_uri": "https://localhost:8080/"
        },
        "outputId": "e67d5b45-e37a-4daf-e014-1c4c9a66465b"
      },
      "source": [
        "sns.kdeplot(y,label=\"\",ax=ax,c='b')"
      ],
      "execution_count": null,
      "outputs": [
        {
          "output_type": "execute_result",
          "data": {
            "text/plain": [
              "<matplotlib.axes._subplots.AxesSubplot at 0x7fa372197470>"
            ]
          },
          "metadata": {
            "tags": []
          },
          "execution_count": 84
        }
      ]
    },
    {
      "cell_type": "code",
      "metadata": {
        "id": "ZxIDnQTZf-RB"
      },
      "source": [
        "fig,ax=plt.subplots(figsize=(8,6))\n",
        "sns.kdeplot(y.ravel(),label=\"\",ax=ax,c='b')\n",
        "# sns.kdeplot(y_test.ravel(),label=\"\",ax=ax,c='g')\n",
        "ax.legend(['Actual','Pred'],fontsize=14)\n",
        "ax.title.set_text('Test_set')"
      ],
      "execution_count": null,
      "outputs": []
    },
    {
      "cell_type": "code",
      "metadata": {
        "id": "_UqGxyVcVBrR"
      },
      "source": [
        ""
      ],
      "execution_count": null,
      "outputs": []
    }
  ]
}