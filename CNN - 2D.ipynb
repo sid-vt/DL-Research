{
  "nbformat": 4,
  "nbformat_minor": 0,
  "metadata": {
    "kernelspec": {
      "display_name": "Python 3",
      "language": "python",
      "name": "python3"
    },
    "language_info": {
      "codemirror_mode": {
        "name": "ipython",
        "version": 3
      },
      "file_extension": ".py",
      "mimetype": "text/x-python",
      "name": "python",
      "nbconvert_exporter": "python",
      "pygments_lexer": "ipython3",
      "version": "3.7.6"
    },
    "colab": {
      "name": "2DCNN.ipynb",
      "provenance": [],
      "include_colab_link": true
    },
    "accelerator": "GPU"
  },
  "cells": [
    {
      "cell_type": "markdown",
      "metadata": {
        "id": "view-in-github",
        "colab_type": "text"
      },
      "source": [
        "<a href=\"https://colab.research.google.com/github/sid-vt/DL-Research/blob/main/CNN%20-%202D.ipynb\" target=\"_parent\"><img src=\"https://colab.research.google.com/assets/colab-badge.svg\" alt=\"Open In Colab\"/></a>"
      ]
    },
    {
      "cell_type": "code",
      "metadata": {
        "id": "fZTOsA_Zf-Qf"
      },
      "source": [
        "import tensorflow as tf\n",
        "from tensorflow import keras\n",
        "import pandas as pd\n",
        "import numpy as np\n",
        "# import CV\n",
        "from PIL import Image\n",
        "from matplotlib import pyplot as plt\n",
        "# import scikit\n",
        "from sklearn.model_selection import train_test_split\n",
        "import os\n",
        "import numpy as np\n",
        "import tensorflow as tf\n",
        "import pandas  as pd\n",
        "from tensorflow import keras\n",
        "from tensorflow.keras.models import Sequential\n",
        "from tensorflow.keras.layers import Dense, Flatten, Conv2D, MaxPooling2D, Dropout, BatchNormalization\n",
        "from tensorflow.keras.utils import to_categorical\n",
        "import matplotlib.pyplot as plt\n",
        "import h5py\n",
        "import sklearn as sk\n",
        "from sklearn import preprocessing\n",
        "import matplotlib.pyplot as plt\n",
        "from sklearn.preprocessing import StandardScaler\n",
        "from sklearn.model_selection import train_test_split\n",
        "pd.options.display.max_rows = 3000\n",
        "import torchvision"
      ],
      "execution_count": 3,
      "outputs": []
    },
    {
      "cell_type": "code",
      "metadata": {
        "colab": {
          "resources": {
            "http://localhost:8080/nbextensions/google.colab/files.js": {
              "data": "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",
              "ok": true,
              "headers": [
                [
                  "content-type",
                  "application/javascript"
                ]
              ],
              "status": 200,
              "status_text": "OK"
            }
          },
          "base_uri": "https://localhost:8080/",
          "height": 75
        },
        "id": "lXbX2qBZgPkr",
        "outputId": "ddefe8b3-e14f-4f80-b246-6f89b3fa6950"
      },
      "source": [
        "# from google.colab import files\r\n",
        "# uploaded = files.upload()"
      ],
      "execution_count": 13,
      "outputs": [
        {
          "output_type": "display_data",
          "data": {
            "text/html": [
              "\n",
              "     <input type=\"file\" id=\"files-c0f153b8-8cf9-4b1e-8a9b-0c99ef5fa0c6\" name=\"files[]\" multiple disabled\n",
              "        style=\"border:none\" />\n",
              "     <output id=\"result-c0f153b8-8cf9-4b1e-8a9b-0c99ef5fa0c6\">\n",
              "      Upload widget is only available when the cell has been executed in the\n",
              "      current browser session. Please rerun this cell to enable.\n",
              "      </output>\n",
              "      <script src=\"/nbextensions/google.colab/files.js\"></script> "
            ],
            "text/plain": [
              "<IPython.core.display.HTML object>"
            ]
          },
          "metadata": {
            "tags": []
          }
        },
        {
          "output_type": "stream",
          "text": [
            "Saving results.txt to results.txt\n"
          ],
          "name": "stdout"
        }
      ]
    },
    {
      "cell_type": "code",
      "metadata": {
        "colab": {
          "base_uri": "https://localhost:8080/"
        },
        "id": "fmymEeqXf-Qr",
        "outputId": "a8982f8f-0171-4be6-dbb7-34a2cf774a71"
      },
      "source": [
        "X = np.load('ImgDS1.npy')\r\n",
        "X.shape"
      ],
      "execution_count": 38,
      "outputs": [
        {
          "output_type": "execute_result",
          "data": {
            "text/plain": [
              "(5000, 64, 65, 3)"
            ]
          },
          "metadata": {
            "tags": []
          },
          "execution_count": 38
        }
      ]
    },
    {
      "cell_type": "code",
      "metadata": {
        "id": "HbAz1fKef-Qt"
      },
      "source": [
        "# Scaling with min max\n",
        "\n",
        "X_min = X.min()\n",
        "X_max = X.max()\n",
        "\n",
        "X = (X - X_min)/(X_max - X_min)"
      ],
      "execution_count": 39,
      "outputs": []
    },
    {
      "cell_type": "code",
      "metadata": {
        "colab": {
          "base_uri": "https://localhost:8080/",
          "height": 286
        },
        "id": "wWWHTlr_f-Qu",
        "outputId": "c73f5aa3-b53a-448b-a1c1-8f975bc3b841"
      },
      "source": [
        "from PIL import Image\n",
        "\n",
        "data = X[10]\n",
        "# data[0:256, 0:256] = [255, 0, 0] # red patch in upper left\n",
        "img = Image.fromarray(data, 'RGB')\n",
        "# img.save('my.png')\n",
        "# img.show()\n",
        "plt.imshow(data, interpolation='nearest')\n",
        "plt.show()\n",
        "X[10].mean()"
      ],
      "execution_count": 52,
      "outputs": [
        {
          "output_type": "display_data",
          "data": {
            "image/png": "[encoded data removed]",
            "text/plain": [
              "<Figure size 432x288 with 1 Axes>"
            ]
          },
          "metadata": {
            "tags": [],
            "needs_background": "light"
          }
        },
        {
          "output_type": "execute_result",
          "data": {
            "text/plain": [
              "0.5143671442936147"
            ]
          },
          "metadata": {
            "tags": []
          },
          "execution_count": 52
        }
      ]
    },
    {
      "cell_type": "code",
      "metadata": {
        "colab": {
          "base_uri": "https://localhost:8080/",
          "height": 286
        },
        "id": "COMbmvOBf-Qx",
        "outputId": "a65fdb62-fe0a-4dca-a4f1-032774a06243"
      },
      "source": [
        "from PIL import Image\n",
        "\n",
        "data = X[9]\n",
        "# data[0:256, 0:256] = [255, 0, 0] # red patch in upper left\n",
        "img = Image.fromarray(data, 'RGB')\n",
        "# img.save('my.png')\n",
        "# img.show()\n",
        "plt.imshow(data, interpolation='nearest')\n",
        "plt.show()\n",
        "X[11].mean()"
      ],
      "execution_count": 53,
      "outputs": [
        {
          "output_type": "display_data",
          "data": {
            "image/png": "[encoded data removed]",
            "text/plain": [
              "<Figure size 432x288 with 1 Axes>"
            ]
          },
          "metadata": {
            "tags": [],
            "needs_background": "light"
          }
        },
        {
          "output_type": "execute_result",
          "data": {
            "text/plain": [
              "0.5638555806938159"
            ]
          },
          "metadata": {
            "tags": []
          },
          "execution_count": 53
        }
      ]
    },
    {
      "cell_type": "code",
      "metadata": {
        "id": "QJ-5uRn0f-Qy"
      },
      "source": [
        "# y = []\n",
        "# for i in range (X.shape[0]):\n",
        "#     temp = X[i].mean()\n",
        "#     y.append(temp)"
      ],
      "execution_count": 54,
      "outputs": []
    },
    {
      "cell_type": "code",
      "metadata": {
        "id": "1Sk5sv2Zf-Q1"
      },
      "source": [
        "# X = np.array(y)"
      ],
      "execution_count": 55,
      "outputs": []
    },
    {
      "cell_type": "code",
      "metadata": {
        "id": "7yaA_gJIf-Q2"
      },
      "source": [
        "y = np.loadtxt('results.txt')"
      ],
      "execution_count": 56,
      "outputs": []
    },
    {
      "cell_type": "code",
      "metadata": {
        "id": "dapzGjZwf-Q3"
      },
      "source": [
        "y  = (y - y.min())/(y.max()-y.min())"
      ],
      "execution_count": 57,
      "outputs": []
    },
    {
      "cell_type": "code",
      "metadata": {
        "id": "VoFQeqBPf-Q4"
      },
      "source": [
        "# plt.scatter(X,y)"
      ],
      "execution_count": 189,
      "outputs": []
    },
    {
      "cell_type": "code",
      "metadata": {
        "id": "ZTcGNt6ef-Q5"
      },
      "source": [
        " X_train, X_test, y_train, y_test = train_test_split(X, y , test_size=0.1)"
      ],
      "execution_count": 286,
      "outputs": []
    },
    {
      "cell_type": "code",
      "metadata": {
        "colab": {
          "base_uri": "https://localhost:8080/"
        },
        "id": "p0PM9nInf-Q6",
        "outputId": "7464af61-5fcf-4b29-c711-bac8294e9e78"
      },
      "source": [
        "X_train.shape"
      ],
      "execution_count": 287,
      "outputs": [
        {
          "output_type": "execute_result",
          "data": {
            "text/plain": [
              "(4500, 64, 65, 3)"
            ]
          },
          "metadata": {
            "tags": []
          },
          "execution_count": 287
        }
      ]
    },
    {
      "cell_type": "code",
      "metadata": {
        "colab": {
          "base_uri": "https://localhost:8080/"
        },
        "id": "YMr-AT9Ef-Q7",
        "outputId": "7659e895-8df6-4370-a256-515b4284e953"
      },
      "source": [
        "y_train.shape"
      ],
      "execution_count": 288,
      "outputs": [
        {
          "output_type": "execute_result",
          "data": {
            "text/plain": [
              "(4500,)"
            ]
          },
          "metadata": {
            "tags": []
          },
          "execution_count": 288
        }
      ]
    },
    {
      "cell_type": "code",
      "metadata": {
        "colab": {
          "base_uri": "https://localhost:8080/"
        },
        "id": "GKgL1IT7f-Q8",
        "outputId": "38c37059-7b41-417b-9a81-60120102396c"
      },
      "source": [
        "model = Sequential()\n",
        "\n",
        "model.add(Conv2D(64, kernel_size=(2,2 ), activation='relu', kernel_initializer='glorot_uniform', input_shape=(64,65,3)))\n",
        "model.add(MaxPooling2D(pool_size=(2, 2)))\n",
        "# model.add(BatchNormalization(axis = 1))\n",
        "model.add(Dropout(0.1))\n",
        "\n",
        "# model.add(Conv2D(32, kernel_size=(2, 2), activation='relu', kernel_initializer='glorot_uniform'))\n",
        "# model.add(MaxPooling2D(pool_size=(2, 2,)))\n",
        "# model.add(Dropout(0.1))\n",
        "\n",
        "# model.add(Conv2D(128, kernel_size=(2, 2), activation='relu', kernel_initializer='glorot_uniform'))\n",
        "# model.add(MaxPooling2D(pool_size=(2, 2,)))\n",
        "# model.add(Dropout(0.5))\n",
        "\n",
        "# model.add(Conv3D(256, kernel_size=(2, 2, 2), activation='relu', kernel_initializer='glorot_uniform'))\n",
        "# model.add(MaxPooling3D(pool_size=(2, 2, 2)))\n",
        "# model.add(BatchNormalization())\n",
        "\n",
        "# model.add(BatchNormalization(center=True, scale=True))\n",
        "# model.add(Dropout(0.5))\n",
        "\n",
        "\n",
        "model.add(Flatten())\n",
        "\n",
        "# model.add(Dense(256, activation='relu', kernel_initializer='glorot_uniform'))\n",
        "model.add(Dense(256, activation='relu', kernel_initializer='glorot_uniform'))\n",
        "model.add(Dense(1, activation='linear'))\n",
        "\n",
        "model.summary()"
      ],
      "execution_count": 289,
      "outputs": [
        {
          "output_type": "stream",
          "text": [
            "Model: \"sequential_23\"\n",
            "_________________________________________________________________\n",
            "Layer (type)                 Output Shape              Param #   \n",
            "=================================================================\n",
            "conv2d_27 (Conv2D)           (None, 63, 64, 64)        832       \n",
            "_________________________________________________________________\n",
            "max_pooling2d_27 (MaxPooling (None, 31, 32, 64)        0         \n",
            "_________________________________________________________________\n",
            "dropout_27 (Dropout)         (None, 31, 32, 64)        0         \n",
            "_________________________________________________________________\n",
            "flatten_23 (Flatten)         (None, 63488)             0         \n",
            "_________________________________________________________________\n",
            "dense_46 (Dense)             (None, 256)               16253184  \n",
            "_________________________________________________________________\n",
            "dense_47 (Dense)             (None, 1)                 257       \n",
            "=================================================================\n",
            "Total params: 16,254,273\n",
            "Trainable params: 16,254,273\n",
            "Non-trainable params: 0\n",
            "_________________________________________________________________\n"
          ],
          "name": "stdout"
        }
      ]
    },
    {
      "cell_type": "code",
      "metadata": {
        "colab": {
          "base_uri": "https://localhost:8080/"
        },
        "id": "DoBGbYIBf-Q9",
        "outputId": "6d579158-7737-4bce-e223-3c55adcef4ac"
      },
      "source": [
        "# Compile the model\n",
        "model.compile( loss=tf.keras.losses.MeanSquaredError(),\n",
        "              optimizer=keras.optimizers.Adam(lr=0.0001),\n",
        "              metrics=['mae'])\n",
        "\n",
        "# Fit data to model\n",
        "history = model.fit(X_train ,y_train, validation_data=(X_test,y_test),\n",
        "            batch_size=75,\n",
        "            epochs=100,\n",
        "            verbose=1)"
      ],
      "execution_count": 300,
      "outputs": [
        {
          "output_type": "stream",
          "text": [
            "Epoch 1/100\n",
            "60/60 [==============================] - 1s 17ms/step - loss: 0.0492 - mae: 0.1829 - val_loss: 0.0448 - val_mae: 0.1734\n",
            "Epoch 2/100\n",
            "60/60 [==============================] - 1s 13ms/step - loss: 0.0450 - mae: 0.1744 - val_loss: 0.0518 - val_mae: 0.1950\n",
            "Epoch 3/100\n",
            "60/60 [==============================] - 1s 14ms/step - loss: 0.0473 - mae: 0.1795 - val_loss: 0.0470 - val_mae: 0.1835\n",
            "Epoch 4/100\n",
            "60/60 [==============================] - 1s 13ms/step - loss: 0.0452 - mae: 0.1777 - val_loss: 0.0493 - val_mae: 0.1896\n",
            "Epoch 5/100\n",
            "60/60 [==============================] - 1s 13ms/step - loss: 0.0448 - mae: 0.1746 - val_loss: 0.0462 - val_mae: 0.1807\n",
            "Epoch 6/100\n",
            "60/60 [==============================] - 1s 14ms/step - loss: 0.0449 - mae: 0.1772 - val_loss: 0.0509 - val_mae: 0.1933\n",
            "Epoch 7/100\n",
            "60/60 [==============================] - 1s 14ms/step - loss: 0.0452 - mae: 0.1775 - val_loss: 0.0457 - val_mae: 0.1696\n",
            "Epoch 8/100\n",
            "60/60 [==============================] - 1s 14ms/step - loss: 0.0464 - mae: 0.1769 - val_loss: 0.0458 - val_mae: 0.1796\n",
            "Epoch 9/100\n",
            "60/60 [==============================] - 1s 14ms/step - loss: 0.0436 - mae: 0.1736 - val_loss: 0.0459 - val_mae: 0.1803\n",
            "Epoch 10/100\n",
            "60/60 [==============================] - 1s 14ms/step - loss: 0.0438 - mae: 0.1739 - val_loss: 0.0471 - val_mae: 0.1839\n",
            "Epoch 11/100\n",
            "60/60 [==============================] - 1s 13ms/step - loss: 0.0435 - mae: 0.1742 - val_loss: 0.0480 - val_mae: 0.1860\n",
            "Epoch 12/100\n",
            "60/60 [==============================] - 1s 14ms/step - loss: 0.0446 - mae: 0.1757 - val_loss: 0.0483 - val_mae: 0.1870\n",
            "Epoch 13/100\n",
            "60/60 [==============================] - 1s 13ms/step - loss: 0.0436 - mae: 0.1733 - val_loss: 0.0472 - val_mae: 0.1832\n",
            "Epoch 14/100\n",
            "60/60 [==============================] - 1s 13ms/step - loss: 0.0451 - mae: 0.1769 - val_loss: 0.0467 - val_mae: 0.1814\n",
            "Epoch 15/100\n",
            "60/60 [==============================] - 1s 14ms/step - loss: 0.0438 - mae: 0.1739 - val_loss: 0.0449 - val_mae: 0.1757\n",
            "Epoch 16/100\n",
            "60/60 [==============================] - 1s 13ms/step - loss: 0.0482 - mae: 0.1822 - val_loss: 0.0463 - val_mae: 0.1808\n",
            "Epoch 17/100\n",
            "60/60 [==============================] - 1s 14ms/step - loss: 0.0449 - mae: 0.1759 - val_loss: 0.0474 - val_mae: 0.1842\n",
            "Epoch 18/100\n",
            "60/60 [==============================] - 1s 14ms/step - loss: 0.0433 - mae: 0.1729 - val_loss: 0.0449 - val_mae: 0.1699\n",
            "Epoch 19/100\n",
            "60/60 [==============================] - 1s 14ms/step - loss: 0.0435 - mae: 0.1733 - val_loss: 0.0448 - val_mae: 0.1729\n",
            "Epoch 20/100\n",
            "60/60 [==============================] - 1s 14ms/step - loss: 0.0450 - mae: 0.1765 - val_loss: 0.0449 - val_mae: 0.1756\n",
            "Epoch 21/100\n",
            "60/60 [==============================] - 1s 17ms/step - loss: 0.0449 - mae: 0.1761 - val_loss: 0.0455 - val_mae: 0.1721\n",
            "Epoch 22/100\n",
            "60/60 [==============================] - 1s 14ms/step - loss: 0.0446 - mae: 0.1758 - val_loss: 0.0448 - val_mae: 0.1719\n",
            "Epoch 23/100\n",
            "60/60 [==============================] - 1s 14ms/step - loss: 0.0438 - mae: 0.1747 - val_loss: 0.0448 - val_mae: 0.1740\n",
            "Epoch 24/100\n",
            "60/60 [==============================] - 1s 14ms/step - loss: 0.0443 - mae: 0.1737 - val_loss: 0.0451 - val_mae: 0.1767\n",
            "Epoch 25/100\n",
            "60/60 [==============================] - 1s 14ms/step - loss: 0.0445 - mae: 0.1738 - val_loss: 0.0512 - val_mae: 0.1739\n",
            "Epoch 26/100\n",
            "60/60 [==============================] - 1s 14ms/step - loss: 0.0453 - mae: 0.1759 - val_loss: 0.0470 - val_mae: 0.1747\n",
            "Epoch 27/100\n",
            "60/60 [==============================] - 1s 14ms/step - loss: 0.0438 - mae: 0.1735 - val_loss: 0.0452 - val_mae: 0.1773\n",
            "Epoch 28/100\n",
            "60/60 [==============================] - 1s 14ms/step - loss: 0.0440 - mae: 0.1746 - val_loss: 0.0535 - val_mae: 0.1990\n",
            "Epoch 29/100\n",
            "60/60 [==============================] - 1s 14ms/step - loss: 0.0457 - mae: 0.1770 - val_loss: 0.0476 - val_mae: 0.1850\n",
            "Epoch 30/100\n",
            "60/60 [==============================] - 1s 14ms/step - loss: 0.0440 - mae: 0.1737 - val_loss: 0.0529 - val_mae: 0.1973\n",
            "Epoch 31/100\n",
            "60/60 [==============================] - 1s 14ms/step - loss: 0.0441 - mae: 0.1730 - val_loss: 0.0450 - val_mae: 0.1749\n",
            "Epoch 32/100\n",
            "60/60 [==============================] - 1s 14ms/step - loss: 0.0427 - mae: 0.1716 - val_loss: 0.0490 - val_mae: 0.1886\n",
            "Epoch 33/100\n",
            "60/60 [==============================] - 1s 14ms/step - loss: 0.0425 - mae: 0.1718 - val_loss: 0.0453 - val_mae: 0.1775\n",
            "Epoch 34/100\n",
            "60/60 [==============================] - 1s 14ms/step - loss: 0.0440 - mae: 0.1732 - val_loss: 0.0444 - val_mae: 0.1734\n",
            "Epoch 35/100\n",
            "60/60 [==============================] - 1s 14ms/step - loss: 0.0422 - mae: 0.1702 - val_loss: 0.0449 - val_mae: 0.1747\n",
            "Epoch 36/100\n",
            "60/60 [==============================] - 1s 14ms/step - loss: 0.0422 - mae: 0.1710 - val_loss: 0.0454 - val_mae: 0.1774\n",
            "Epoch 37/100\n",
            "60/60 [==============================] - 1s 14ms/step - loss: 0.0422 - mae: 0.1704 - val_loss: 0.0453 - val_mae: 0.1759\n",
            "Epoch 38/100\n",
            "60/60 [==============================] - 1s 14ms/step - loss: 0.0435 - mae: 0.1745 - val_loss: 0.0448 - val_mae: 0.1725\n",
            "Epoch 39/100\n",
            "60/60 [==============================] - 1s 14ms/step - loss: 0.0423 - mae: 0.1712 - val_loss: 0.0453 - val_mae: 0.1769\n",
            "Epoch 40/100\n",
            "60/60 [==============================] - 1s 14ms/step - loss: 0.0426 - mae: 0.1711 - val_loss: 0.0483 - val_mae: 0.1718\n",
            "Epoch 41/100\n",
            "60/60 [==============================] - 1s 14ms/step - loss: 0.0458 - mae: 0.1772 - val_loss: 0.0453 - val_mae: 0.1734\n",
            "Epoch 42/100\n",
            "60/60 [==============================] - 1s 14ms/step - loss: 0.0433 - mae: 0.1737 - val_loss: 0.0464 - val_mae: 0.1709\n",
            "Epoch 43/100\n",
            "60/60 [==============================] - 1s 14ms/step - loss: 0.0441 - mae: 0.1743 - val_loss: 0.0456 - val_mae: 0.1699\n",
            "Epoch 44/100\n",
            "60/60 [==============================] - 1s 14ms/step - loss: 0.0435 - mae: 0.1741 - val_loss: 0.0451 - val_mae: 0.1740\n",
            "Epoch 45/100\n",
            "60/60 [==============================] - 1s 14ms/step - loss: 0.0426 - mae: 0.1715 - val_loss: 0.0457 - val_mae: 0.1774\n",
            "Epoch 46/100\n",
            "60/60 [==============================] - 1s 14ms/step - loss: 0.0426 - mae: 0.1705 - val_loss: 0.0451 - val_mae: 0.1756\n",
            "Epoch 47/100\n",
            "60/60 [==============================] - 1s 14ms/step - loss: 0.0431 - mae: 0.1722 - val_loss: 0.0456 - val_mae: 0.1769\n",
            "Epoch 48/100\n",
            "60/60 [==============================] - 1s 14ms/step - loss: 0.0427 - mae: 0.1725 - val_loss: 0.0453 - val_mae: 0.1764\n",
            "Epoch 49/100\n",
            "60/60 [==============================] - 1s 14ms/step - loss: 0.0420 - mae: 0.1701 - val_loss: 0.0494 - val_mae: 0.1891\n",
            "Epoch 50/100\n",
            "60/60 [==============================] - 1s 14ms/step - loss: 0.0453 - mae: 0.1773 - val_loss: 0.0452 - val_mae: 0.1738\n",
            "Epoch 51/100\n",
            "60/60 [==============================] - 1s 14ms/step - loss: 0.0435 - mae: 0.1729 - val_loss: 0.0460 - val_mae: 0.1794\n",
            "Epoch 52/100\n",
            "60/60 [==============================] - 1s 14ms/step - loss: 0.0429 - mae: 0.1706 - val_loss: 0.0468 - val_mae: 0.1804\n",
            "Epoch 53/100\n",
            "60/60 [==============================] - 1s 14ms/step - loss: 0.0423 - mae: 0.1709 - val_loss: 0.0455 - val_mae: 0.1756\n",
            "Epoch 54/100\n",
            "60/60 [==============================] - 1s 14ms/step - loss: 0.0436 - mae: 0.1727 - val_loss: 0.0475 - val_mae: 0.1845\n",
            "Epoch 55/100\n",
            "60/60 [==============================] - 1s 14ms/step - loss: 0.0435 - mae: 0.1732 - val_loss: 0.0462 - val_mae: 0.1796\n",
            "Epoch 56/100\n",
            "60/60 [==============================] - 1s 14ms/step - loss: 0.0447 - mae: 0.1764 - val_loss: 0.0472 - val_mae: 0.1828\n",
            "Epoch 57/100\n",
            "60/60 [==============================] - 1s 14ms/step - loss: 0.0432 - mae: 0.1726 - val_loss: 0.0479 - val_mae: 0.1720\n",
            "Epoch 58/100\n",
            "60/60 [==============================] - 1s 14ms/step - loss: 0.0446 - mae: 0.1744 - val_loss: 0.0461 - val_mae: 0.1795\n",
            "Epoch 59/100\n",
            "60/60 [==============================] - 1s 14ms/step - loss: 0.0416 - mae: 0.1688 - val_loss: 0.0456 - val_mae: 0.1770\n",
            "Epoch 60/100\n",
            "60/60 [==============================] - 1s 14ms/step - loss: 0.0433 - mae: 0.1728 - val_loss: 0.0454 - val_mae: 0.1767\n",
            "Epoch 61/100\n",
            "60/60 [==============================] - 1s 14ms/step - loss: 0.0427 - mae: 0.1712 - val_loss: 0.0465 - val_mae: 0.1787\n",
            "Epoch 62/100\n",
            "60/60 [==============================] - 1s 14ms/step - loss: 0.0425 - mae: 0.1703 - val_loss: 0.0481 - val_mae: 0.1851\n",
            "Epoch 63/100\n",
            "60/60 [==============================] - 1s 14ms/step - loss: 0.0424 - mae: 0.1690 - val_loss: 0.0485 - val_mae: 0.1866\n",
            "Epoch 64/100\n",
            "60/60 [==============================] - 1s 14ms/step - loss: 0.0424 - mae: 0.1708 - val_loss: 0.0454 - val_mae: 0.1747\n",
            "Epoch 65/100\n",
            "60/60 [==============================] - 1s 14ms/step - loss: 0.0428 - mae: 0.1710 - val_loss: 0.0459 - val_mae: 0.1766\n",
            "Epoch 66/100\n",
            "60/60 [==============================] - 1s 14ms/step - loss: 0.0431 - mae: 0.1719 - val_loss: 0.0457 - val_mae: 0.1727\n",
            "Epoch 67/100\n",
            "60/60 [==============================] - 1s 14ms/step - loss: 0.0421 - mae: 0.1694 - val_loss: 0.0470 - val_mae: 0.1812\n",
            "Epoch 68/100\n",
            "60/60 [==============================] - 1s 14ms/step - loss: 0.0413 - mae: 0.1680 - val_loss: 0.0458 - val_mae: 0.1771\n",
            "Epoch 69/100\n",
            "60/60 [==============================] - 1s 14ms/step - loss: 0.0415 - mae: 0.1684 - val_loss: 0.0463 - val_mae: 0.1802\n",
            "Epoch 70/100\n",
            "60/60 [==============================] - 1s 14ms/step - loss: 0.0423 - mae: 0.1697 - val_loss: 0.0459 - val_mae: 0.1761\n",
            "Epoch 71/100\n",
            "60/60 [==============================] - 1s 14ms/step - loss: 0.0416 - mae: 0.1682 - val_loss: 0.0465 - val_mae: 0.1799\n",
            "Epoch 72/100\n",
            "60/60 [==============================] - 1s 14ms/step - loss: 0.0420 - mae: 0.1703 - val_loss: 0.0474 - val_mae: 0.1827\n",
            "Epoch 73/100\n",
            "60/60 [==============================] - 1s 14ms/step - loss: 0.0428 - mae: 0.1721 - val_loss: 0.0488 - val_mae: 0.1871\n",
            "Epoch 74/100\n",
            "60/60 [==============================] - 1s 14ms/step - loss: 0.0426 - mae: 0.1695 - val_loss: 0.0459 - val_mae: 0.1759\n",
            "Epoch 75/100\n",
            "60/60 [==============================] - 1s 14ms/step - loss: 0.0431 - mae: 0.1709 - val_loss: 0.0466 - val_mae: 0.1799\n",
            "Epoch 76/100\n",
            "60/60 [==============================] - 1s 14ms/step - loss: 0.0408 - mae: 0.1667 - val_loss: 0.0459 - val_mae: 0.1752\n",
            "Epoch 77/100\n",
            "60/60 [==============================] - 1s 14ms/step - loss: 0.0410 - mae: 0.1676 - val_loss: 0.0542 - val_mae: 0.1998\n",
            "Epoch 78/100\n",
            "60/60 [==============================] - 1s 16ms/step - loss: 0.0431 - mae: 0.1711 - val_loss: 0.0487 - val_mae: 0.1864\n",
            "Epoch 79/100\n",
            "60/60 [==============================] - 1s 14ms/step - loss: 0.0417 - mae: 0.1687 - val_loss: 0.0469 - val_mae: 0.1810\n",
            "Epoch 80/100\n",
            "60/60 [==============================] - 1s 14ms/step - loss: 0.0412 - mae: 0.1669 - val_loss: 0.0520 - val_mae: 0.1947\n",
            "Epoch 81/100\n",
            "60/60 [==============================] - 1s 14ms/step - loss: 0.0413 - mae: 0.1690 - val_loss: 0.0466 - val_mae: 0.1719\n",
            "Epoch 82/100\n",
            "60/60 [==============================] - 1s 14ms/step - loss: 0.0418 - mae: 0.1675 - val_loss: 0.0486 - val_mae: 0.1855\n",
            "Epoch 83/100\n",
            "60/60 [==============================] - 1s 13ms/step - loss: 0.0425 - mae: 0.1695 - val_loss: 0.0460 - val_mae: 0.1757\n",
            "Epoch 84/100\n",
            "60/60 [==============================] - 1s 14ms/step - loss: 0.0412 - mae: 0.1679 - val_loss: 0.0468 - val_mae: 0.1726\n",
            "Epoch 85/100\n",
            "60/60 [==============================] - 1s 13ms/step - loss: 0.0409 - mae: 0.1659 - val_loss: 0.0460 - val_mae: 0.1736\n",
            "Epoch 86/100\n",
            "60/60 [==============================] - 1s 13ms/step - loss: 0.0432 - mae: 0.1703 - val_loss: 0.0459 - val_mae: 0.1750\n",
            "Epoch 87/100\n",
            "60/60 [==============================] - 1s 14ms/step - loss: 0.0417 - mae: 0.1697 - val_loss: 0.0457 - val_mae: 0.1748\n",
            "Epoch 88/100\n",
            "60/60 [==============================] - 1s 14ms/step - loss: 0.0402 - mae: 0.1654 - val_loss: 0.0480 - val_mae: 0.1831\n",
            "Epoch 89/100\n",
            "60/60 [==============================] - 1s 14ms/step - loss: 0.0411 - mae: 0.1669 - val_loss: 0.0468 - val_mae: 0.1798\n",
            "Epoch 90/100\n",
            "60/60 [==============================] - 1s 14ms/step - loss: 0.0401 - mae: 0.1647 - val_loss: 0.0463 - val_mae: 0.1761\n",
            "Epoch 91/100\n",
            "60/60 [==============================] - 1s 14ms/step - loss: 0.0402 - mae: 0.1655 - val_loss: 0.0466 - val_mae: 0.1786\n",
            "Epoch 92/100\n",
            "60/60 [==============================] - 1s 14ms/step - loss: 0.0398 - mae: 0.1638 - val_loss: 0.0469 - val_mae: 0.1806\n",
            "Epoch 93/100\n",
            "60/60 [==============================] - 1s 13ms/step - loss: 0.0412 - mae: 0.1684 - val_loss: 0.0469 - val_mae: 0.1779\n",
            "Epoch 94/100\n",
            "60/60 [==============================] - 1s 13ms/step - loss: 0.0420 - mae: 0.1698 - val_loss: 0.0467 - val_mae: 0.1763\n",
            "Epoch 95/100\n",
            "60/60 [==============================] - 1s 14ms/step - loss: 0.0406 - mae: 0.1665 - val_loss: 0.0472 - val_mae: 0.1800\n",
            "Epoch 96/100\n",
            "60/60 [==============================] - 1s 14ms/step - loss: 0.0408 - mae: 0.1665 - val_loss: 0.0464 - val_mae: 0.1756\n",
            "Epoch 97/100\n",
            "60/60 [==============================] - 1s 14ms/step - loss: 0.0407 - mae: 0.1663 - val_loss: 0.0465 - val_mae: 0.1764\n",
            "Epoch 98/100\n",
            "60/60 [==============================] - 1s 14ms/step - loss: 0.0419 - mae: 0.1684 - val_loss: 0.0466 - val_mae: 0.1782\n",
            "Epoch 99/100\n",
            "60/60 [==============================] - 1s 14ms/step - loss: 0.0401 - mae: 0.1657 - val_loss: 0.0471 - val_mae: 0.1788\n",
            "Epoch 100/100\n",
            "60/60 [==============================] - 1s 14ms/step - loss: 0.0397 - mae: 0.1639 - val_loss: 0.0489 - val_mae: 0.1862\n"
          ],
          "name": "stdout"
        }
      ]
    },
    {
      "cell_type": "code",
      "metadata": {
        "colab": {
          "base_uri": "https://localhost:8080/",
          "height": 295
        },
        "id": "QCD5i_1wf-Q-",
        "outputId": "66d89e06-4133-472c-a04b-95e4aaddd21f"
      },
      "source": [
        "plt.semilogy(history.history['loss'])\n",
        "plt.semilogy(history.history['val_loss'])\n",
        "plt.title('Loss vs Epochs')\n",
        "plt.ylabel('Loss')\n",
        "plt.yscale('log')\n",
        "plt.xlabel('epoch')\n",
        "plt.legend(['train', 'val'], loc='upper left')\n",
        "plt.show()"
      ],
      "execution_count": 291,
      "outputs": [
        {
          "output_type": "display_data",
          "data": {
            "image/png": "[encoded data removed]",
            "text/plain": [
              "<Figure size 432x288 with 1 Axes>"
            ]
          },
          "metadata": {
            "tags": [],
            "needs_background": "light"
          }
        }
      ]
    },
    {
      "cell_type": "code",
      "metadata": {
        "id": "Fq94hhs0f-Q_"
      },
      "source": [
        "predictions_all = model.predict(X)\n",
        "predictions_train = model.predict(X_train)\n",
        "predictions_test = model.predict(X_test)"
      ],
      "execution_count": 292,
      "outputs": []
    },
    {
      "cell_type": "code",
      "metadata": {
        "colab": {
          "base_uri": "https://localhost:8080/",
          "height": 283
        },
        "id": "acjwVhl7f-Q_",
        "outputId": "f198990a-3512-4688-b64c-6125424335ba"
      },
      "source": [
        "xlim = 1\n",
        "x = np.linspace(0,xlim,11)\n",
        "plt.plot(x, x)\n",
        "\n",
        "# x = np.linspace(1,1,10)\n",
        "plt.scatter(predictions_all,y)\n",
        "# plt.plot(x,x)"
      ],
      "execution_count": 299,
      "outputs": [
        {
          "output_type": "execute_result",
          "data": {
            "text/plain": [
              "<matplotlib.collections.PathCollection at 0x7f29946b4cf8>"
            ]
          },
          "metadata": {
            "tags": []
          },
          "execution_count": 299
        },
        {
          "output_type": "display_data",
          "data": {
            "image/png": "[encoded data removed]",
            "text/plain": [
              "<Figure size 432x288 with 1 Axes>"
            ]
          },
          "metadata": {
            "tags": [],
            "needs_background": "light"
          }
        }
      ]
    },
    {
      "cell_type": "code",
      "metadata": {
        "id": "FOALfuzcf-RA"
      },
      "source": [
        "import seaborn as snsn"
      ],
      "execution_count": 294,
      "outputs": []
    },
    {
      "cell_type": "code",
      "metadata": {
        "colab": {
          "base_uri": "https://localhost:8080/",
          "height": 763
        },
        "id": "JV2Z23cMf-RA",
        "outputId": "82643a8a-0acf-4295-bd6c-38da09cbd81c"
      },
      "source": [
        "import seaborn as sns\n",
        "fig,ax=plt.subplots(figsize=(8,6))\n",
        "sns.kdeplot(predictions_test.ravel(),label=\"\",ax=ax,c='b')\n",
        "sns.kdeplot(y_test.ravel(),label=\"\",ax=ax,c='g')\n",
        "ax.legend(['Actual','Pred'],fontsize=14)\n",
        "ax.title.set_text('Test_set')\n",
        "\n",
        "fig,ax=plt.subplots(figsize=(8,6))\n",
        "sns.kdeplot(predictions_train.ravel(),label=\"\",ax=ax,c='b')\n",
        "sns.kdeplot(y_train.ravel(),label=\"\",ax=ax,c='g')\n",
        "ax.legend(['Actual','Pred'],fontsize=14)\n",
        "ax.title.set_text('Test_set')\n"
      ],
      "execution_count": 295,
      "outputs": [
        {
          "output_type": "display_data",
          "data": {
            "image/png": "[encoded data removed]",
            "text/plain": [
              "<Figure size 576x432 with 1 Axes>"
            ]
          },
          "metadata": {
            "tags": [],
            "needs_background": "light"
          }
        },
        {
          "output_type": "display_data",
          "data": {
            "image/png": "[encoded data removed]",
            "text/plain": [
              "<Figure size 576x432 with 1 Axes>"
            ]
          },
          "metadata": {
            "tags": [],
            "needs_background": "light"
          }
        }
      ]
    },
    {
      "cell_type": "code",
      "metadata": {
        "colab": {
          "base_uri": "https://localhost:8080/"
        },
        "id": "WQnuPsSLf-RB",
        "outputId": "be84621b-c8f5-4de8-c356-418736529892"
      },
      "source": [
        "sns.kdeplot(y,label=\"\",ax=ax,c='b')"
      ],
      "execution_count": 296,
      "outputs": [
        {
          "output_type": "execute_result",
          "data": {
            "text/plain": [
              "<matplotlib.axes._subplots.AxesSubplot at 0x7f299466a0b8>"
            ]
          },
          "metadata": {
            "tags": []
          },
          "execution_count": 296
        }
      ]
    },
    {
      "cell_type": "code",
      "metadata": {
        "colab": {
          "base_uri": "https://localhost:8080/",
          "height": 390
        },
        "id": "ZxIDnQTZf-RB",
        "outputId": "7216dce2-d830-47d8-a8cb-7924d32fcdc4"
      },
      "source": [
        "fig,ax=plt.subplots(figsize=(8,6))\n",
        "sns.kdeplot(y.ravel(),label=\"\",ax=ax,c='b')\n",
        "# sns.kdeplot(y_test.ravel(),label=\"\",ax=ax,c='g')\n",
        "ax.legend(['Actual','Pred'],fontsize=14)\n",
        "ax.title.set_text('Test_set')"
      ],
      "execution_count": 297,
      "outputs": [
        {
          "output_type": "display_data",
          "data": {
            "image/png": "[encoded data removed]",
            "text/plain": [
              "<Figure size 576x432 with 1 Axes>"
            ]
          },
          "metadata": {
            "tags": [],
            "needs_background": "light"
          }
        }
      ]
    },
    {
      "cell_type": "code",
      "metadata": {
        "colab": {
          "base_uri": "https://localhost:8080/",
          "height": 172
        },
        "id": "SZ5OTTOzf-RB",
        "outputId": "14f2b784-f34b-4cc2-ff18-14888f00350c"
      },
      "source": [
        "y.hist()"
      ],
      "execution_count": 298,
      "outputs": [
        {
          "output_type": "error",
          "ename": "AttributeError",
          "evalue": "ignored",
          "traceback": [
            "\u001b[0;31m---------------------------------------------------------------------------\u001b[0m",
            "\u001b[0;31mAttributeError\u001b[0m                            Traceback (most recent call last)",
            "\u001b[0;32m<ipython-input-298-c33d1d5b2630>\u001b[0m in \u001b[0;36m<module>\u001b[0;34m()\u001b[0m\n\u001b[0;32m----> 1\u001b[0;31m \u001b[0my\u001b[0m\u001b[0;34m.\u001b[0m\u001b[0mhist\u001b[0m\u001b[0;34m(\u001b[0m\u001b[0;34m)\u001b[0m\u001b[0;34m\u001b[0m\u001b[0;34m\u001b[0m\u001b[0m\n\u001b[0m",
            "\u001b[0;31mAttributeError\u001b[0m: 'numpy.ndarray' object has no attribute 'hist'"
          ]
        }
      ]
    },
    {
      "cell_type": "code",
      "metadata": {
        "id": "M0k0Ggvpf-RC"
      },
      "source": [
        ""
      ],
      "execution_count": null,
      "outputs": []
    }
  ]
}