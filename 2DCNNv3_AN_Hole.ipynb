{
  "nbformat": 4,
  "nbformat_minor": 0,
  "metadata": {
    "kernelspec": {
      "display_name": "Python 3",
      "language": "python",
      "name": "python3"
    },
    "language_info": {
      "codemirror_mode": {
        "name": "ipython",
        "version": 3
      },
      "file_extension": ".py",
      "mimetype": "text/x-python",
      "name": "python",
      "nbconvert_exporter": "python",
      "pygments_lexer": "ipython3",
      "version": "3.7.6"
    },
    "colab": {
      "name": "2DCNNv3_AN Hole.ipynb",
      "provenance": [],
      "collapsed_sections": [],
      "include_colab_link": true
    },
    "accelerator": "GPU"
  },
  "cells": [
    {
      "cell_type": "markdown",
      "metadata": {
        "id": "view-in-github",
        "colab_type": "text"
      },
      "source": [
        "<a href=\"https://colab.research.google.com/github/sid-vt/DL-Research/blob/trial/2DCNNv3_AN_Hole.ipynb\" target=\"_parent\"><img src=\"https://colab.research.google.com/assets/colab-badge.svg\" alt=\"Open In Colab\"/></a>"
      ]
    },
    {
      "cell_type": "code",
      "metadata": {
        "id": "fZTOsA_Zf-Qf"
      },
      "source": [
        "import pandas as pd\n",
        "import numpy as np\n",
        "import matplotlib.pyplot as plt\n",
        "\n",
        "import os\n",
        "import glob\n",
        "\n",
        "from PIL import Image\n",
        "import cv2\n",
        "\n",
        "import random\n",
        "import math\n",
        "\n",
        "import tensorflow as tf\n",
        "from tensorflow import keras\n",
        "from tensorflow.keras.models import Sequential\n",
        "from tensorflow.keras.layers import Dense, Flatten, Conv2D, MaxPooling2D, Dropout, BatchNormalization\n",
        "from tensorflow.keras.utils import to_categorical\n",
        "from tensorflow.keras import activations\n",
        "from tensorflow.keras import layers\n",
        "\n",
        "import sklearn as sk\n",
        "from sklearn.model_selection import train_test_split\n",
        "from sklearn import preprocessing\n",
        "from sklearn.preprocessing import StandardScaler\n",
        "\n",
        "pd.options.display.max_rows = 3000\n",
        "\n",
        "# import h5py\n",
        "# import torchvision"
      ],
      "execution_count": 1,
      "outputs": []
    },
    {
      "cell_type": "code",
      "metadata": {
        "id": "KSZb2l7cBK03",
        "colab": {
          "base_uri": "https://localhost:8080/"
        },
        "outputId": "4ecc6dbe-1fbc-40b0-e689-62e785a6975d"
      },
      "source": [
        "from google.colab import drive\n",
        "drive.mount('/content/drive')"
      ],
      "execution_count": 2,
      "outputs": [
        {
          "output_type": "stream",
          "text": [
            "Mounted at /content/drive\n"
          ],
          "name": "stdout"
        }
      ]
    },
    {
      "cell_type": "code",
      "metadata": {
        "id": "E3UbV4dkGQui"
      },
      "source": [
        ""
      ],
      "execution_count": null,
      "outputs": []
    },
    {
      "cell_type": "code",
      "metadata": {
        "id": "6irloPy7-OvW",
        "colab": {
          "base_uri": "https://localhost:8080/"
        },
        "outputId": "94059c3c-4b20-436a-dcdd-c59e3d226906"
      },
      "source": [
        "# top left corner +1 and bottom corner as it is \r\n",
        "# img_read[y1+1:y2, x1:x2]\r\n",
        "\r\n",
        "image = []\r\n",
        "for image_path in glob.glob('/content/drive/MyDrive/Colab Notebooks/ResearchCNN/100_Holes/*.png'):\r\n",
        "    img_read = cv2.imread(image_path)\r\n",
        "    crop_img = img_read[76:153, 75:152]\r\n",
        "    resize = cv2.resize(crop_img, (32, 32))\r\n",
        "    image.append(resize)\r\n",
        "    imag/*\r\n",
        "image = np.asarray(image)"
      ],
      "execution_count": 3,
      "outputs": [
        {
          "output_type": "stream",
          "text": [
            "/usr/local/lib/python3.7/dist-packages/numpy/core/_asarray.py:83: VisibleDeprecationWarning: Creating an ndarray from ragged nested sequences (which is a list-or-tuple of lists-or-tuples-or ndarrays with different lengths or shapes) is deprecated. If you meant to do this, you must specify 'dtype=object' when creating the ndarray\n",
            "  return array(a, dtype, copy=False, order=order)\n"
          ],
          "name": "stderr"
        }
      ]
    },
    {
      "cell_type": "code",
      "metadata": {
        "colab": {
          "base_uri": "https://localhost:8080/",
          "height": 266
        },
        "id": "F3OvtIqy-aSo",
        "outputId": "35676f4b-2f22-4cf1-907a-39a8ba90ceb3"
      },
      "source": [
        "data = image[78]\r\n",
        "img_show = Image.fromarray(image[15], 'RGB')\r\n",
        "plt.imshow(data, interpolation='nearest')\r\n",
        "plt.show()"
      ],
      "execution_count": 4,
      "outputs": [
        {
          "output_type": "display_data",
          "data": {
            "image/png": "[encoded data removed]",
            "text/plain": [
              "<Figure size 432x288 with 1 Axes>"
            ]
          },
          "metadata": {
            "tags": [],
            "needs_background": "light"
          }
        }
      ]
    },
    {
      "cell_type": "code",
      "metadata": {
        "id": "fmymEeqXf-Qr"
      },
      "source": [
        "X = image"
      ],
      "execution_count": 5,
      "outputs": []
    },
    {
      "cell_type": "code",
      "metadata": {
        "id": "mewDVjHnWIjC"
      },
      "source": [
        "X = np.delete(X,76,axis=0)"
      ],
      "execution_count": 6,
      "outputs": []
    },
    {
      "cell_type": "code",
      "metadata": {
        "colab": {
          "base_uri": "https://localhost:8080/",
          "height": 323
        },
        "id": "8ljnG9f79f-3",
        "outputId": "421ca3af-69b6-48cf-dc3a-78e0f701539b"
      },
      "source": [
        "x = (X - X.min())/(X.max() - X.min())\r\n",
        "x[10]"
      ],
      "execution_count": 7,
      "outputs": [
        {
          "output_type": "error",
          "ename": "ValueError",
          "evalue": "ignored",
          "traceback": [
            "\u001b[0;31m---------------------------------------------------------------------------\u001b[0m",
            "\u001b[0;31mValueError\u001b[0m                                Traceback (most recent call last)",
            "\u001b[0;32m<ipython-input-7-9083e2396dcd>\u001b[0m in \u001b[0;36m<module>\u001b[0;34m()\u001b[0m\n\u001b[0;32m----> 1\u001b[0;31m \u001b[0mx\u001b[0m \u001b[0;34m=\u001b[0m \u001b[0;34m(\u001b[0m\u001b[0mX\u001b[0m \u001b[0;34m-\u001b[0m \u001b[0mX\u001b[0m\u001b[0;34m.\u001b[0m\u001b[0mmin\u001b[0m\u001b[0;34m(\u001b[0m\u001b[0;34m)\u001b[0m\u001b[0;34m)\u001b[0m\u001b[0;34m/\u001b[0m\u001b[0;34m(\u001b[0m\u001b[0mX\u001b[0m\u001b[0;34m.\u001b[0m\u001b[0mmax\u001b[0m\u001b[0;34m(\u001b[0m\u001b[0;34m)\u001b[0m \u001b[0;34m-\u001b[0m \u001b[0mX\u001b[0m\u001b[0;34m.\u001b[0m\u001b[0mmin\u001b[0m\u001b[0;34m(\u001b[0m\u001b[0;34m)\u001b[0m\u001b[0;34m)\u001b[0m\u001b[0;34m\u001b[0m\u001b[0;34m\u001b[0m\u001b[0m\n\u001b[0m\u001b[1;32m      2\u001b[0m \u001b[0mx\u001b[0m\u001b[0;34m[\u001b[0m\u001b[0;36m10\u001b[0m\u001b[0;34m]\u001b[0m\u001b[0;34m\u001b[0m\u001b[0;34m\u001b[0m\u001b[0m\n",
            "\u001b[0;32m/usr/local/lib/python3.7/dist-packages/numpy/core/_methods.py\u001b[0m in \u001b[0;36m_amin\u001b[0;34m(a, axis, out, keepdims, initial, where)\u001b[0m\n\u001b[1;32m     41\u001b[0m def _amin(a, axis=None, out=None, keepdims=False,\n\u001b[1;32m     42\u001b[0m           initial=_NoValue, where=True):\n\u001b[0;32m---> 43\u001b[0;31m     \u001b[0;32mreturn\u001b[0m \u001b[0mumr_minimum\u001b[0m\u001b[0;34m(\u001b[0m\u001b[0ma\u001b[0m\u001b[0;34m,\u001b[0m \u001b[0maxis\u001b[0m\u001b[0;34m,\u001b[0m \u001b[0;32mNone\u001b[0m\u001b[0;34m,\u001b[0m \u001b[0mout\u001b[0m\u001b[0;34m,\u001b[0m \u001b[0mkeepdims\u001b[0m\u001b[0;34m,\u001b[0m \u001b[0minitial\u001b[0m\u001b[0;34m,\u001b[0m \u001b[0mwhere\u001b[0m\u001b[0;34m)\u001b[0m\u001b[0;34m\u001b[0m\u001b[0;34m\u001b[0m\u001b[0m\n\u001b[0m\u001b[1;32m     44\u001b[0m \u001b[0;34m\u001b[0m\u001b[0m\n\u001b[1;32m     45\u001b[0m def _sum(a, axis=None, dtype=None, out=None, keepdims=False,\n",
            "\u001b[0;31mValueError\u001b[0m: operands could not be broadcast together with shapes (32,32,3) (77,77,3) "
          ]
        }
      ]
    },
    {
      "cell_type": "code",
      "metadata": {
        "id": "nBnq1dHsCgT1"
      },
      "source": [
        "x.shape"
      ],
      "execution_count": null,
      "outputs": []
    },
    {
      "cell_type": "code",
      "metadata": {
        "id": "5bP9DBbkWIq7"
      },
      "source": [
        "X_single = X.mean(axis=3).mean(axis=2).mean(axis=1)\r\n",
        "X_single"
      ],
      "execution_count": null,
      "outputs": []
    },
    {
      "cell_type": "code",
      "metadata": {
        "id": "HbAz1fKef-Qt"
      },
      "source": [
        "# Scaling with min max\n",
        "Xnorm = (X_single - X_single.min())/(X_single.max() - X_single.min())\n",
        "Xnorm"
      ],
      "execution_count": null,
      "outputs": []
    },
    {
      "cell_type": "code",
      "metadata": {
        "id": "7yaA_gJIf-Q2"
      },
      "source": [
        "y = np.loadtxt('/content/drive/MyDrive/Colab Notebooks/ResearchCNN/100_Holes/results.txt')\r\n",
        "y = np.delete(y,76)\r\n",
        "ynorm = (y - y.min())/(y.max() - y.min())\r\n",
        "ynorm"
      ],
      "execution_count": null,
      "outputs": []
    },
    {
      "cell_type": "code",
      "metadata": {
        "id": "VoFQeqBPf-Q4"
      },
      "source": [
        "plt.scatter(Xnorm, ynorm)"
      ],
      "execution_count": null,
      "outputs": []
    },
    {
      "cell_type": "code",
      "metadata": {
        "id": "ahR5TTxtPmfD"
      },
      "source": [
        "# x = np.random.normal(size = 1000)\r\n",
        "plt.hist(y, bins=100)\r\n",
        "plt.gca().set(title='Frequency Histogram', ylabel='Frequency');"
      ],
      "execution_count": null,
      "outputs": []
    },
    {
      "cell_type": "code",
      "metadata": {
        "id": "kcwbf5-WUU8c"
      },
      "source": [
        "(unique, counts) = np.unique(Xnorm, return_counts=True)\r\n",
        "frequencies = np.asarray((unique, counts)).T\r\n",
        "frequencies"
      ],
      "execution_count": null,
      "outputs": []
    },
    {
      "cell_type": "code",
      "metadata": {
        "id": "WorZQr4TEkI3"
      },
      "source": [
        "np.where(Xnorm.round(7) == round(5.60206489e-03,7))"
      ],
      "execution_count": null,
      "outputs": []
    },
    {
      "cell_type": "code",
      "metadata": {
        "id": "jucI7xmnFGUm"
      },
      "source": [
        ""
      ],
      "execution_count": null,
      "outputs": []
    },
    {
      "cell_type": "code",
      "metadata": {
        "id": "lXLxRBx9IJuH"
      },
      "source": [
        "(unique, counts) = np.unique(y, return_counts=True)\r\n",
        "frequencies = np.asarray((unique, counts)).T\r\n",
        "counts"
      ],
      "execution_count": null,
      "outputs": []
    },
    {
      "cell_type": "code",
      "metadata": {
        "id": "ZTcGNt6ef-Q5"
      },
      "source": [
        "X_train, X_test, y_train, y_test = train_test_split(x, ynorm , test_size=0.1)"
      ],
      "execution_count": null,
      "outputs": []
    },
    {
      "cell_type": "code",
      "metadata": {
        "id": "p0PM9nInf-Q6"
      },
      "source": [
        "X_train.shape"
      ],
      "execution_count": null,
      "outputs": []
    },
    {
      "cell_type": "code",
      "metadata": {
        "id": "YMr-AT9Ef-Q7"
      },
      "source": [
        "y_train.shape"
      ],
      "execution_count": null,
      "outputs": []
    },
    {
      "cell_type": "code",
      "metadata": {
        "id": "S1zZtzDGNYpT"
      },
      "source": [
        "import keras\r\n",
        "from keras.models import Sequential\r\n",
        "from keras.layers import Dense, Activation, Dropout, Flatten, Conv2D, MaxPooling2D\r\n",
        "from keras.layers.normalization import BatchNormalization\r\n",
        "import numpy as np\r\n",
        "\r\n",
        "np.random.seed(1000)\r\n",
        "\r\n",
        "#Instantiation\r\n",
        "AlexNet = Sequential()\r\n",
        "\r\n",
        "#1st Convolutional Layer\r\n",
        "AlexNet.add(Conv2D(filters=96, input_shape=(32,32,3), kernel_size=(11,11), strides=(4,4), padding='same'))\r\n",
        "AlexNet.add(BatchNormalization())\r\n",
        "AlexNet.add(Activation('relu'))\r\n",
        "AlexNet.add(MaxPooling2D(pool_size=(2,2), strides=(2,2), padding='same'))\r\n",
        "\r\n",
        "#2nd Convolutional Layer\r\n",
        "AlexNet.add(Conv2D(filters=256, kernel_size=(5, 5), strides=(1,1), padding='same'))\r\n",
        "AlexNet.add(BatchNormalization())\r\n",
        "AlexNet.add(Activation('relu'))\r\n",
        "AlexNet.add(MaxPooling2D(pool_size=(2,2), strides=(2,2), padding='same'))\r\n",
        "\r\n",
        "#3rd Convolutional Layer\r\n",
        "AlexNet.add(Conv2D(filters=384, kernel_size=(3,3), strides=(1,1), padding='same'))\r\n",
        "AlexNet.add(BatchNormalization())\r\n",
        "AlexNet.add(Activation('relu'))\r\n",
        "\r\n",
        "#4th Convolutional Layer\r\n",
        "AlexNet.add(Conv2D(filters=384, kernel_size=(3,3), strides=(1,1), padding='same'))\r\n",
        "AlexNet.add(BatchNormalization())\r\n",
        "AlexNet.add(Activation('relu'))\r\n",
        "\r\n",
        "#5th Convolutional Layer\r\n",
        "AlexNet.add(Conv2D(filters=256, kernel_size=(3,3), strides=(1,1), padding='same'))\r\n",
        "AlexNet.add(BatchNormalization())\r\n",
        "AlexNet.add(Activation('relu'))\r\n",
        "AlexNet.add(MaxPooling2D(pool_size=(2,2), strides=(2,2), padding='same'))\r\n",
        "\r\n",
        "#Passing it to a Fully Connected layer\r\n",
        "AlexNet.add(Flatten())\r\n",
        "# 1st Fully Connected Layer\r\n",
        "AlexNet.add(Dense(4096, input_shape=(32,32,3,)))\r\n",
        "AlexNet.add(BatchNormalization())\r\n",
        "AlexNet.add(Activation('relu'))\r\n",
        "# Add Dropout to prevent overfitting\r\n",
        "AlexNet.add(Dropout(0.4))\r\n",
        "\r\n",
        "#2nd Fully Connected Layer\r\n",
        "AlexNet.add(Dense(4096))\r\n",
        "AlexNet.add(BatchNormalization())\r\n",
        "AlexNet.add(Activation('relu'))\r\n",
        "#Add Dropout\r\n",
        "AlexNet.add(Dropout(0.4))\r\n",
        "\r\n",
        "#3rd Fully Connected Layer\r\n",
        "AlexNet.add(Dense(1000))\r\n",
        "AlexNet.add(BatchNormalization())\r\n",
        "AlexNet.add(Activation('relu'))\r\n",
        "#Add Dropout\r\n",
        "AlexNet.add(Dropout(0.4))\r\n",
        "\r\n",
        "#Output Layer\r\n",
        "AlexNet.add(Dense(10))\r\n",
        "AlexNet.add(BatchNormalization())\r\n",
        "AlexNet.add(Activation('relu'))\r\n",
        "\r\n",
        "AlexNet.add(Dense(1))\r\n",
        "AlexNet.add(BatchNormalization())\r\n",
        "AlexNet.add(Activation('linear'))\r\n",
        "\r\n",
        "#Model Summary\r\n",
        "AlexNet.summary()"
      ],
      "execution_count": null,
      "outputs": []
    },
    {
      "cell_type": "code",
      "metadata": {
        "id": "OzB49ASINfMb"
      },
      "source": [
        "# Compile the model\r\n",
        "# Compiling the model\r\n",
        "AlexNet.compile(loss = tf.keras.losses.MeanSquaredError(), optimizer= 'adam', metrics=['accuracy'])\r\n",
        "\r\n",
        "# Fit data to model\r\n",
        "history = AlexNet.fit(X_train ,y_train, validation_data=(X_test,y_test),\r\n",
        "            batch_size=20,\r\n",
        "            epochs=500,\r\n",
        "            verbose=1)"
      ],
      "execution_count": null,
      "outputs": []
    },
    {
      "cell_type": "code",
      "metadata": {
        "id": "QCD5i_1wf-Q-"
      },
      "source": [
        "plt.semilogy(history.history['loss'])\n",
        "plt.semilogy(history.history['val_loss'])\n",
        "plt.title('Loss vs Epochs')\n",
        "plt.ylabel('Loss')\n",
        "plt.yscale('log')\n",
        "plt.xlabel('epoch')\n",
        "plt.legend(['train', 'val'], loc='upper left')\n",
        "plt.show()"
      ],
      "execution_count": null,
      "outputs": []
    },
    {
      "cell_type": "code",
      "metadata": {
        "id": "Fq94hhs0f-Q_"
      },
      "source": [
        "predictions_all = model.predict(x)\n",
        "predictions_train = model.predict(X_train)\n",
        "predictions_test = model.predict(X_test)"
      ],
      "execution_count": null,
      "outputs": []
    },
    {
      "cell_type": "code",
      "metadata": {
        "id": "5PmUIzNQaAiT"
      },
      "source": [
        ""
      ],
      "execution_count": null,
      "outputs": []
    },
    {
      "cell_type": "code",
      "metadata": {
        "id": "acjwVhl7f-Q_"
      },
      "source": [
        "xlim = 1\n",
        "x = np.linspace(0,xlim,100)\n",
        "plt.plot(x, x)\n",
        "\n",
        "# x = np.linspace(1,1,10)\n",
        "plt.scatter(predictions_all,ynorm)\n",
        "# plt.plot(x,x)"
      ],
      "execution_count": null,
      "outputs": []
    },
    {
      "cell_type": "code",
      "metadata": {
        "id": "FOALfuzcf-RA"
      },
      "source": [
        "import seaborn as snsn"
      ],
      "execution_count": null,
      "outputs": []
    },
    {
      "cell_type": "code",
      "metadata": {
        "id": "JV2Z23cMf-RA"
      },
      "source": [
        "import seaborn as sns\n",
        "fig,ax=plt.subplots(figsize=(8,6))\n",
        "sns.kdeplot(predictions_test.ravel(),label=\"\",ax=ax,c='b')\n",
        "sns.kdeplot(y_test.ravel(),label=\"\",ax=ax,c='g')\n",
        "ax.legend(['Actual','Pred'],fontsize=14)\n",
        "ax.title.set_text('Test_set')\n",
        "\n",
        "fig,ax=plt.subplots(figsize=(8,6))\n",
        "sns.kdeplot(predictions_train.ravel(),label=\"\",ax=ax,c='b')\n",
        "sns.kdeplot(y_train.ravel(),label=\"\",ax=ax,c='g')\n",
        "ax.legend(['Actual','Pred'],fontsize=14)\n",
        "ax.title.set_text('Test_set')\n"
      ],
      "execution_count": null,
      "outputs": []
    },
    {
      "cell_type": "code",
      "metadata": {
        "id": "WQnuPsSLf-RB"
      },
      "source": [
        "sns.kdeplot(y,label=\"\",ax=ax,c='b')"
      ],
      "execution_count": null,
      "outputs": []
    },
    {
      "cell_type": "code",
      "metadata": {
        "id": "ZxIDnQTZf-RB"
      },
      "source": [
        "fig,ax=plt.subplots(figsize=(8,6))\n",
        "sns.kdeplot(y.ravel(),label=\"\",ax=ax,c='b')\n",
        "# sns.kdeplot(y_test.ravel(),label=\"\",ax=ax,c='g')\n",
        "ax.legend(['Actual','Pred'],fontsize=14)\n",
        "ax.title.set_text('Test_set')"
      ],
      "execution_count": null,
      "outputs": []
    },
    {
      "cell_type": "code",
      "metadata": {
        "id": "_UqGxyVcVBrR"
      },
      "source": [
        "\r\n"
      ],
      "execution_count": null,
      "outputs": []
    }
  ]
}