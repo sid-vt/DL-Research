{
  "nbformat": 4,
  "nbformat_minor": 0,
  "metadata": {
    "kernelspec": {
      "display_name": "Python 3",
      "language": "python",
      "name": "python3"
    },
    "language_info": {
      "codemirror_mode": {
        "name": "ipython",
        "version": 3
      },
      "file_extension": ".py",
      "mimetype": "text/x-python",
      "name": "python",
      "nbconvert_exporter": "python",
      "pygments_lexer": "ipython3",
      "version": "3.7.6"
    },
    "colab": {
      "name": "2DCNNv2 Hole.ipynb",
      "provenance": [],
      "collapsed_sections": [],
      "include_colab_link": true
    },
    "accelerator": "GPU"
  },
  "cells": [
    {
      "cell_type": "markdown",
      "metadata": {
        "id": "view-in-github",
        "colab_type": "text"
      },
      "source": [
        "<a href=\"https://colab.research.google.com/github/sid-vt/DL-Research/blob/main/2DCNNv2_Hole.ipynb\" target=\"_parent\"><img src=\"https://colab.research.google.com/assets/colab-badge.svg\" alt=\"Open In Colab\"/></a>"
      ]
    },
    {
      "cell_type": "code",
      "metadata": {
        "id": "fZTOsA_Zf-Qf"
      },
      "source": [
        "import pandas as pd\n",
        "import numpy as np\n",
        "import matplotlib.pyplot as plt\n",
        "\n",
        "import os\n",
        "import glob\n",
        "\n",
        "from PIL import Image\n",
        "import cv2\n",
        "\n",
        "import random\n",
        "import math\n",
        "\n",
        "import tensorflow as tf\n",
        "from tensorflow import keras\n",
        "from tensorflow.keras.models import Sequential\n",
        "from tensorflow.keras.layers import Dense, Flatten, Conv2D, MaxPooling2D, Dropout, BatchNormalization\n",
        "from tensorflow.keras.utils import to_categorical\n",
        "\n",
        "import sklearn as sk\n",
        "from sklearn.model_selection import train_test_split\n",
        "from sklearn import preprocessing\n",
        "from sklearn.preprocessing import StandardScaler\n",
        "\n",
        "pd.options.display.max_rows = 3000\n",
        "\n",
        "# import h5py\n",
        "# import torchvision"
      ],
      "execution_count": 115,
      "outputs": []
    },
    {
      "cell_type": "code",
      "metadata": {
        "id": "KSZb2l7cBK03",
        "colab": {
          "base_uri": "https://localhost:8080/"
        },
        "outputId": "16fffc6b-21bb-4e80-86e3-2f7bc1e07a81"
      },
      "source": [
        "from google.colab import drive\n",
        "drive.mount('/content/drive')"
      ],
      "execution_count": 116,
      "outputs": [
        {
          "output_type": "stream",
          "text": [
            "Drive already mounted at /content/drive; to attempt to forcibly remount, call drive.mount(\"/content/drive\", force_remount=True).\n"
          ],
          "name": "stdout"
        }
      ]
    },
    {
      "cell_type": "code",
      "metadata": {
        "id": "6irloPy7-OvW"
      },
      "source": [
        "# top left corner +1 and bottom corner as it is \r\n",
        "# img_read[y1+1:y2, x1:x2]\r\n",
        "\r\n",
        "image = []\r\n",
        "for image_path in glob.glob('/content/drive/MyDrive/Colab Notebooks/ResearchCNN/20_Holes/*.png'):\r\n",
        "    img_read = cv2.imread(image_path)\r\n",
        "    crop_img = img_read[82:147, 81:146]\r\n",
        "    # resize = cv2.resize(crop_img, (64, 64))\r\n",
        "    # image.append(resize)\r\n",
        "    image.append(crop_img)\r\n",
        "image = np.asarray(image)"
      ],
      "execution_count": 117,
      "outputs": []
    },
    {
      "cell_type": "code",
      "metadata": {
        "colab": {
          "base_uri": "https://localhost:8080/",
          "height": 268
        },
        "id": "F3OvtIqy-aSo",
        "outputId": "3933d791-324e-425b-8ff9-2f9a64daeeeb"
      },
      "source": [
        "data = image[15]\r\n",
        "img_show = Image.fromarray(image[15], 'RGB')\r\n",
        "plt.imshow(data, interpolation='nearest')\r\n",
        "plt.show()"
      ],
      "execution_count": 118,
      "outputs": [
        {
          "output_type": "display_data",
          "data": {
            "image/png": "[encoded data removed]",
            "text/plain": [
              "<Figure size 432x288 with 1 Axes>"
            ]
          },
          "metadata": {
            "tags": [],
            "needs_background": "light"
          }
        }
      ]
    },
    {
      "cell_type": "code",
      "metadata": {
        "id": "fmymEeqXf-Qr"
      },
      "source": [
        "X = image"
      ],
      "execution_count": 119,
      "outputs": []
    },
    {
      "cell_type": "code",
      "metadata": {
        "colab": {
          "base_uri": "https://localhost:8080/"
        },
        "id": "8ljnG9f79f-3",
        "outputId": "3500cbb5-ff7b-4df7-a4e6-4e138153ed80"
      },
      "source": [
        "x = (X - X.min())/(X.max() - X.min())\r\n",
        "x[10]"
      ],
      "execution_count": 120,
      "outputs": [
        {
          "output_type": "execute_result",
          "data": {
            "text/plain": [
              "array([[[0.78039216, 1.        , 0.        ],\n",
              "        [0.78039216, 1.        , 0.        ],\n",
              "        [0.78039216, 1.        , 0.        ],\n",
              "        ...,\n",
              "        [0.78039216, 1.        , 0.        ],\n",
              "        [0.78039216, 1.        , 0.        ],\n",
              "        [0.78039216, 1.        , 0.        ]],\n",
              "\n",
              "       [[0.78039216, 1.        , 0.        ],\n",
              "        [0.78039216, 1.        , 0.        ],\n",
              "        [0.78039216, 1.        , 0.        ],\n",
              "        ...,\n",
              "        [0.78039216, 1.        , 0.        ],\n",
              "        [0.78039216, 1.        , 0.        ],\n",
              "        [0.78039216, 1.        , 0.        ]],\n",
              "\n",
              "       [[0.78039216, 1.        , 0.        ],\n",
              "        [0.78039216, 1.        , 0.        ],\n",
              "        [0.78039216, 1.        , 0.        ],\n",
              "        ...,\n",
              "        [0.78039216, 1.        , 0.        ],\n",
              "        [0.78039216, 1.        , 0.        ],\n",
              "        [0.78039216, 1.        , 0.        ]],\n",
              "\n",
              "       ...,\n",
              "\n",
              "       [[0.99607843, 0.99607843, 0.99607843],\n",
              "        [0.99607843, 0.99607843, 0.99607843],\n",
              "        [0.99607843, 0.99607843, 0.99607843],\n",
              "        ...,\n",
              "        [0.78039216, 1.        , 0.        ],\n",
              "        [0.78039216, 1.        , 0.        ],\n",
              "        [0.78039216, 1.        , 0.        ]],\n",
              "\n",
              "       [[0.99607843, 0.99607843, 0.99607843],\n",
              "        [0.99607843, 0.99607843, 0.99607843],\n",
              "        [0.99607843, 0.99607843, 0.99607843],\n",
              "        ...,\n",
              "        [0.78039216, 1.        , 0.        ],\n",
              "        [0.78039216, 1.        , 0.        ],\n",
              "        [0.78039216, 1.        , 0.        ]],\n",
              "\n",
              "       [[0.99607843, 0.99607843, 0.99607843],\n",
              "        [0.99607843, 0.99607843, 0.99607843],\n",
              "        [0.99607843, 0.99607843, 0.99607843],\n",
              "        ...,\n",
              "        [0.78039216, 1.        , 0.        ],\n",
              "        [0.78039216, 1.        , 0.        ],\n",
              "        [0.78039216, 1.        , 0.        ]]])"
            ]
          },
          "metadata": {
            "tags": []
          },
          "execution_count": 120
        }
      ]
    },
    {
      "cell_type": "code",
      "metadata": {
        "colab": {
          "base_uri": "https://localhost:8080/"
        },
        "id": "nBnq1dHsCgT1",
        "outputId": "e1833222-d08a-41a5-ba32-dd2f7b0fb5e2"
      },
      "source": [
        "X.shape"
      ],
      "execution_count": 121,
      "outputs": [
        {
          "output_type": "execute_result",
          "data": {
            "text/plain": [
              "(20, 65, 65, 3)"
            ]
          },
          "metadata": {
            "tags": []
          },
          "execution_count": 121
        }
      ]
    },
    {
      "cell_type": "code",
      "metadata": {
        "colab": {
          "base_uri": "https://localhost:8080/"
        },
        "id": "5bP9DBbkWIq7",
        "outputId": "cc047179-eef1-4104-bb70-6600faf02c40"
      },
      "source": [
        "X_single = X.mean(axis=3).mean(axis=2).mean(axis=1)\r\n",
        "X_single"
      ],
      "execution_count": 122,
      "outputs": [
        {
          "output_type": "execute_result",
          "data": {
            "text/plain": [
              "array([125.51408284, 115.41759369, 144.66635108, 147.26453649,\n",
              "       148.18934911, 144.9512426 , 147.48386588, 132.69767258,\n",
              "       164.19731755, 159.27439842, 147.65364892, 115.60457594,\n",
              "       160.52852071, 136.26824458, 151.1130572 , 148.27061144,\n",
              "       145.60433925, 130.23439842, 136.15242604, 131.81704142])"
            ]
          },
          "metadata": {
            "tags": []
          },
          "execution_count": 122
        }
      ]
    },
    {
      "cell_type": "code",
      "metadata": {
        "id": "HbAz1fKef-Qt",
        "colab": {
          "base_uri": "https://localhost:8080/"
        },
        "outputId": "63e134e6-2a80-4609-f7d0-77bddb04f116"
      },
      "source": [
        "# Scaling with min max\n",
        "Xnorm = (X_single - X_single.min())/(X_single.max() - X_single.min())\n",
        "Xnorm"
      ],
      "execution_count": 123,
      "outputs": [
        {
          "output_type": "execute_result",
          "data": {
            "text/plain": [
              "array([0.20698127, 0.        , 0.59960892, 0.65287255, 0.67183151,\n",
              "       0.60544928, 0.65736887, 0.35424717, 1.        , 0.89907858,\n",
              "       0.66084948, 0.0038332 , 0.92478849, 0.42744504, 0.73176846,\n",
              "       0.67349741, 0.61883798, 0.30374925, 0.42507072, 0.33619394])"
            ]
          },
          "metadata": {
            "tags": []
          },
          "execution_count": 123
        }
      ]
    },
    {
      "cell_type": "code",
      "metadata": {
        "id": "7yaA_gJIf-Q2",
        "colab": {
          "base_uri": "https://localhost:8080/"
        },
        "outputId": "fac02536-39e9-4ebf-a156-a9fa53a05cf5"
      },
      "source": [
        "y = np.loadtxt('/content/drive/MyDrive/Colab Notebooks/ResearchCNN/20_Holes/results.txt')\r\n",
        "ynorm = (y - y.min())/(y.max() - y.min())\r\n",
        "ynorm"
      ],
      "execution_count": 124,
      "outputs": [
        {
          "output_type": "execute_result",
          "data": {
            "text/plain": [
              "array([0.        , 0.93012709, 0.88790645, 0.80744144, 0.21972576,\n",
              "       0.07784484, 0.90057687, 0.88861118, 0.74886359, 0.14661646,\n",
              "       0.90400195, 0.89771009, 0.99636851, 0.93211877, 1.        ,\n",
              "       0.37646926, 0.53243553, 0.20647382, 0.65052266, 0.03129753])"
            ]
          },
          "metadata": {
            "tags": []
          },
          "execution_count": 124
        }
      ]
    },
    {
      "cell_type": "code",
      "metadata": {
        "id": "VoFQeqBPf-Q4",
        "colab": {
          "base_uri": "https://localhost:8080/",
          "height": 283
        },
        "outputId": "3a3d1b72-76c7-4b6f-b33d-7327969d7ccd"
      },
      "source": [
        "plt.scatter(Xnorm, ynorm)"
      ],
      "execution_count": 125,
      "outputs": [
        {
          "output_type": "execute_result",
          "data": {
            "text/plain": [
              "<matplotlib.collections.PathCollection at 0x7f533ac25d68>"
            ]
          },
          "metadata": {
            "tags": []
          },
          "execution_count": 125
        },
        {
          "output_type": "display_data",
          "data": {
            "image/png": "[encoded data removed]",
            "text/plain": [
              "<Figure size 432x288 with 1 Axes>"
            ]
          },
          "metadata": {
            "tags": [],
            "needs_background": "light"
          }
        }
      ]
    },
    {
      "cell_type": "code",
      "metadata": {
        "colab": {
          "base_uri": "https://localhost:8080/",
          "height": 294
        },
        "id": "ahR5TTxtPmfD",
        "outputId": "1aa32605-8c2a-4f36-d87c-2d78e4917661"
      },
      "source": [
        "# x = np.random.normal(size = 1000)\r\n",
        "plt.hist(y, bins=100)\r\n",
        "plt.gca().set(title='Frequency Histogram', ylabel='Frequency');"
      ],
      "execution_count": 126,
      "outputs": [
        {
          "output_type": "display_data",
          "data": {
            "image/png": "[encoded data removed]",
            "text/plain": [
              "<Figure size 432x288 with 1 Axes>"
            ]
          },
          "metadata": {
            "tags": [],
            "needs_background": "light"
          }
        }
      ]
    },
    {
      "cell_type": "code",
      "metadata": {
        "colab": {
          "base_uri": "https://localhost:8080/"
        },
        "id": "kcwbf5-WUU8c",
        "outputId": "bcb6f200-1085-424a-a6f0-48f5344f8839"
      },
      "source": [
        "(unique, counts) = np.unique(Xnorm, return_counts=True)\r\n",
        "frequencies = np.asarray((unique, counts)).T\r\n",
        "frequencies"
      ],
      "execution_count": 127,
      "outputs": [
        {
          "output_type": "execute_result",
          "data": {
            "text/plain": [
              "array([[0.        , 1.        ],\n",
              "       [0.0038332 , 1.        ],\n",
              "       [0.20698127, 1.        ],\n",
              "       [0.30374925, 1.        ],\n",
              "       [0.33619394, 1.        ],\n",
              "       [0.35424717, 1.        ],\n",
              "       [0.42507072, 1.        ],\n",
              "       [0.42744504, 1.        ],\n",
              "       [0.59960892, 1.        ],\n",
              "       [0.60544928, 1.        ],\n",
              "       [0.61883798, 1.        ],\n",
              "       [0.65287255, 1.        ],\n",
              "       [0.65736887, 1.        ],\n",
              "       [0.66084948, 1.        ],\n",
              "       [0.67183151, 1.        ],\n",
              "       [0.67349741, 1.        ],\n",
              "       [0.73176846, 1.        ],\n",
              "       [0.89907858, 1.        ],\n",
              "       [0.92478849, 1.        ],\n",
              "       [1.        , 1.        ]])"
            ]
          },
          "metadata": {
            "tags": []
          },
          "execution_count": 127
        }
      ]
    },
    {
      "cell_type": "code",
      "metadata": {
        "colab": {
          "base_uri": "https://localhost:8080/"
        },
        "id": "lXLxRBx9IJuH",
        "outputId": "a3952580-4e74-4044-ff1a-a387c298f33d"
      },
      "source": [
        "(unique, counts) = np.unique(y, return_counts=True)\r\n",
        "frequencies = np.asarray((unique, counts)).T\r\n",
        "counts"
      ],
      "execution_count": 128,
      "outputs": [
        {
          "output_type": "execute_result",
          "data": {
            "text/plain": [
              "array([1, 1, 1, 1, 1, 1, 1, 1, 1, 1, 1, 1, 1, 1, 1, 1, 1, 1, 1, 1])"
            ]
          },
          "metadata": {
            "tags": []
          },
          "execution_count": 128
        }
      ]
    },
    {
      "cell_type": "code",
      "metadata": {
        "id": "ZTcGNt6ef-Q5"
      },
      "source": [
        "X_train, X_test, y_train, y_test = train_test_split(x, ynorm , test_size=0.1)"
      ],
      "execution_count": 129,
      "outputs": []
    },
    {
      "cell_type": "code",
      "metadata": {
        "id": "p0PM9nInf-Q6",
        "colab": {
          "base_uri": "https://localhost:8080/"
        },
        "outputId": "648328a4-c1cf-48d6-d12d-66149c69d100"
      },
      "source": [
        "X_train.shape"
      ],
      "execution_count": 130,
      "outputs": [
        {
          "output_type": "execute_result",
          "data": {
            "text/plain": [
              "(18, 65, 65, 3)"
            ]
          },
          "metadata": {
            "tags": []
          },
          "execution_count": 130
        }
      ]
    },
    {
      "cell_type": "code",
      "metadata": {
        "id": "YMr-AT9Ef-Q7",
        "colab": {
          "base_uri": "https://localhost:8080/"
        },
        "outputId": "3a0fd4fa-8632-4789-a9f4-2e49fde41b4d"
      },
      "source": [
        "y_train.shape"
      ],
      "execution_count": 131,
      "outputs": [
        {
          "output_type": "execute_result",
          "data": {
            "text/plain": [
              "(18,)"
            ]
          },
          "metadata": {
            "tags": []
          },
          "execution_count": 131
        }
      ]
    },
    {
      "cell_type": "code",
      "metadata": {
        "id": "S1zZtzDGNYpT",
        "colab": {
          "base_uri": "https://localhost:8080/"
        },
        "outputId": "38102cc0-57f3-4da5-ed7d-e9bc7e30d83f"
      },
      "source": [
        "model = Sequential()\r\n",
        "\r\n",
        "model.add(Conv2D(64, kernel_size=(2,2 ), activation='relu', kernel_initializer='glorot_uniform', input_shape=(65,65,3)))\r\n",
        "model.add(MaxPooling2D(pool_size=(2, 2)))\r\n",
        "model.add(Dropout(0.1))\r\n",
        "\r\n",
        "model.add(Flatten())\r\n",
        "\r\n",
        "model.add(Dense(256, activation='relu', kernel_initializer='glorot_uniform'))\r\n",
        "model.add(Dense(1, activation='linear'))\r\n",
        "\r\n",
        "model.summary()"
      ],
      "execution_count": 132,
      "outputs": [
        {
          "output_type": "stream",
          "text": [
            "Model: \"sequential_7\"\n",
            "_________________________________________________________________\n",
            "Layer (type)                 Output Shape              Param #   \n",
            "=================================================================\n",
            "conv2d_7 (Conv2D)            (None, 64, 64, 64)        832       \n",
            "_________________________________________________________________\n",
            "max_pooling2d_7 (MaxPooling2 (None, 32, 32, 64)        0         \n",
            "_________________________________________________________________\n",
            "dropout_7 (Dropout)          (None, 32, 32, 64)        0         \n",
            "_________________________________________________________________\n",
            "flatten_7 (Flatten)          (None, 65536)             0         \n",
            "_________________________________________________________________\n",
            "dense_14 (Dense)             (None, 256)               16777472  \n",
            "_________________________________________________________________\n",
            "dense_15 (Dense)             (None, 1)                 257       \n",
            "=================================================================\n",
            "Total params: 16,778,561\n",
            "Trainable params: 16,778,561\n",
            "Non-trainable params: 0\n",
            "_________________________________________________________________\n"
          ],
          "name": "stdout"
        }
      ]
    },
    {
      "cell_type": "code",
      "metadata": {
        "id": "OzB49ASINfMb",
        "colab": {
          "base_uri": "https://localhost:8080/"
        },
        "outputId": "ca543007-cf5f-41d7-b25c-5ab1ec6b1e6b"
      },
      "source": [
        "# Compile the model\r\n",
        "model.compile( loss=tf.keras.losses.MeanSquaredError(),\r\n",
        "              optimizer=keras.optimizers.Adam(lr=0.00001),\r\n",
        "              metrics=['mae'])\r\n",
        "\r\n",
        "# Fit data to model\r\n",
        "history = model.fit(X_train ,y_train, validation_data=(X_test,y_test),\r\n",
        "            batch_size=1,\r\n",
        "            epochs=500,\r\n",
        "            verbose=1)"
      ],
      "execution_count": 133,
      "outputs": [
        {
          "output_type": "stream",
          "text": [
            "Epoch 1/500\n",
            "18/18 [==============================] - 1s 23ms/step - loss: 0.2673 - mae: 0.3856 - val_loss: 0.1058 - val_mae: 0.3160\n",
            "Epoch 2/500\n",
            "18/18 [==============================] - 0s 7ms/step - loss: 0.1008 - mae: 0.2259 - val_loss: 0.0625 - val_mae: 0.2302\n",
            "Epoch 3/500\n",
            "18/18 [==============================] - 0s 7ms/step - loss: 0.3024 - mae: 0.3633 - val_loss: 0.0366 - val_mae: 0.1765\n",
            "Epoch 4/500\n",
            "18/18 [==============================] - 0s 7ms/step - loss: 0.1596 - mae: 0.3400 - val_loss: 0.4349 - val_mae: 0.6582\n",
            "Epoch 5/500\n",
            "18/18 [==============================] - 0s 7ms/step - loss: 0.2106 - mae: 0.3656 - val_loss: 0.0170 - val_mae: 0.1092\n",
            "Epoch 6/500\n",
            "18/18 [==============================] - 0s 7ms/step - loss: 0.2349 - mae: 0.4157 - val_loss: 0.0343 - val_mae: 0.1598\n",
            "Epoch 7/500\n",
            "18/18 [==============================] - 0s 7ms/step - loss: 0.2773 - mae: 0.4005 - val_loss: 0.0127 - val_mae: 0.0872\n",
            "Epoch 8/500\n",
            "18/18 [==============================] - 0s 7ms/step - loss: 0.3303 - mae: 0.4592 - val_loss: 0.0353 - val_mae: 0.1726\n",
            "Epoch 9/500\n",
            "18/18 [==============================] - 0s 7ms/step - loss: 0.2161 - mae: 0.3709 - val_loss: 0.1696 - val_mae: 0.4055\n",
            "Epoch 10/500\n",
            "18/18 [==============================] - 0s 7ms/step - loss: 0.1153 - mae: 0.3135 - val_loss: 0.0511 - val_mae: 0.2103\n",
            "Epoch 11/500\n",
            "18/18 [==============================] - 0s 6ms/step - loss: 0.1294 - mae: 0.3400 - val_loss: 0.0253 - val_mae: 0.1349\n",
            "Epoch 12/500\n",
            "18/18 [==============================] - 0s 7ms/step - loss: 0.1695 - mae: 0.3542 - val_loss: 0.0804 - val_mae: 0.2737\n",
            "Epoch 13/500\n",
            "18/18 [==============================] - 0s 7ms/step - loss: 0.1213 - mae: 0.3373 - val_loss: 0.0264 - val_mae: 0.1418\n",
            "Epoch 14/500\n",
            "18/18 [==============================] - 0s 6ms/step - loss: 0.1945 - mae: 0.4032 - val_loss: 0.0221 - val_mae: 0.1221\n",
            "Epoch 15/500\n",
            "18/18 [==============================] - 0s 7ms/step - loss: 0.2143 - mae: 0.4039 - val_loss: 0.0214 - val_mae: 0.1240\n",
            "Epoch 16/500\n",
            "18/18 [==============================] - 0s 7ms/step - loss: 0.1532 - mae: 0.3464 - val_loss: 0.1600 - val_mae: 0.3949\n",
            "Epoch 17/500\n",
            "18/18 [==============================] - 0s 7ms/step - loss: 0.1538 - mae: 0.3537 - val_loss: 0.0296 - val_mae: 0.1534\n",
            "Epoch 18/500\n",
            "18/18 [==============================] - 0s 6ms/step - loss: 0.1134 - mae: 0.2957 - val_loss: 0.0167 - val_mae: 0.0948\n",
            "Epoch 19/500\n",
            "18/18 [==============================] - 0s 6ms/step - loss: 0.1993 - mae: 0.3703 - val_loss: 0.0953 - val_mae: 0.3026\n",
            "Epoch 20/500\n",
            "18/18 [==============================] - 0s 6ms/step - loss: 0.1278 - mae: 0.3100 - val_loss: 0.0421 - val_mae: 0.1945\n",
            "Epoch 21/500\n",
            "18/18 [==============================] - 0s 6ms/step - loss: 0.0679 - mae: 0.2043 - val_loss: 0.0748 - val_mae: 0.2653\n",
            "Epoch 22/500\n",
            "18/18 [==============================] - 0s 6ms/step - loss: 0.0958 - mae: 0.2607 - val_loss: 0.0345 - val_mae: 0.1699\n",
            "Epoch 23/500\n",
            "18/18 [==============================] - 0s 7ms/step - loss: 0.1099 - mae: 0.3066 - val_loss: 0.0188 - val_mae: 0.1142\n",
            "Epoch 24/500\n",
            "18/18 [==============================] - 0s 7ms/step - loss: 0.1727 - mae: 0.3903 - val_loss: 0.0381 - val_mae: 0.1813\n",
            "Epoch 25/500\n",
            "18/18 [==============================] - 0s 7ms/step - loss: 0.0892 - mae: 0.1973 - val_loss: 0.1493 - val_mae: 0.3814\n",
            "Epoch 26/500\n",
            "18/18 [==============================] - 0s 7ms/step - loss: 0.1843 - mae: 0.3664 - val_loss: 0.1279 - val_mae: 0.3519\n",
            "Epoch 27/500\n",
            "18/18 [==============================] - 0s 7ms/step - loss: 0.1709 - mae: 0.3668 - val_loss: 0.1047 - val_mae: 0.3177\n",
            "Epoch 28/500\n",
            "18/18 [==============================] - 0s 7ms/step - loss: 0.1156 - mae: 0.2867 - val_loss: 0.2229 - val_mae: 0.4702\n",
            "Epoch 29/500\n",
            "18/18 [==============================] - 0s 7ms/step - loss: 0.2534 - mae: 0.4551 - val_loss: 0.1082 - val_mae: 0.3240\n",
            "Epoch 30/500\n",
            "18/18 [==============================] - 0s 7ms/step - loss: 0.1651 - mae: 0.3418 - val_loss: 0.0856 - val_mae: 0.2852\n",
            "Epoch 31/500\n",
            "18/18 [==============================] - 0s 7ms/step - loss: 0.1039 - mae: 0.2875 - val_loss: 0.1064 - val_mae: 0.3207\n",
            "Epoch 32/500\n",
            "18/18 [==============================] - 0s 7ms/step - loss: 0.0931 - mae: 0.2537 - val_loss: 0.0381 - val_mae: 0.1845\n",
            "Epoch 33/500\n",
            "18/18 [==============================] - 0s 6ms/step - loss: 0.1156 - mae: 0.2835 - val_loss: 0.2308 - val_mae: 0.4775\n",
            "Epoch 34/500\n",
            "18/18 [==============================] - 0s 6ms/step - loss: 0.1467 - mae: 0.3268 - val_loss: 0.0783 - val_mae: 0.2723\n",
            "Epoch 35/500\n",
            "18/18 [==============================] - 0s 7ms/step - loss: 0.1368 - mae: 0.3127 - val_loss: 0.1711 - val_mae: 0.4094\n",
            "Epoch 36/500\n",
            "18/18 [==============================] - 0s 6ms/step - loss: 0.0848 - mae: 0.2565 - val_loss: 0.0162 - val_mae: 0.1096\n",
            "Epoch 37/500\n",
            "18/18 [==============================] - 0s 7ms/step - loss: 0.1123 - mae: 0.2863 - val_loss: 0.1801 - val_mae: 0.4224\n",
            "Epoch 38/500\n",
            "18/18 [==============================] - 0s 7ms/step - loss: 0.1502 - mae: 0.3441 - val_loss: 0.0327 - val_mae: 0.1715\n",
            "Epoch 39/500\n",
            "18/18 [==============================] - 0s 7ms/step - loss: 0.1832 - mae: 0.3642 - val_loss: 0.1015 - val_mae: 0.3153\n",
            "Epoch 40/500\n",
            "18/18 [==============================] - 0s 7ms/step - loss: 0.1113 - mae: 0.3090 - val_loss: 0.0083 - val_mae: 0.0664\n",
            "Epoch 41/500\n",
            "18/18 [==============================] - 0s 7ms/step - loss: 0.1706 - mae: 0.2712 - val_loss: 0.0469 - val_mae: 0.2100\n",
            "Epoch 42/500\n",
            "18/18 [==============================] - 0s 7ms/step - loss: 0.0908 - mae: 0.2577 - val_loss: 0.0551 - val_mae: 0.2287\n",
            "Epoch 43/500\n",
            "18/18 [==============================] - 0s 6ms/step - loss: 0.0934 - mae: 0.2669 - val_loss: 0.0747 - val_mae: 0.2684\n",
            "Epoch 44/500\n",
            "18/18 [==============================] - 0s 6ms/step - loss: 0.0991 - mae: 0.2829 - val_loss: 0.0987 - val_mae: 0.3102\n",
            "Epoch 45/500\n",
            "18/18 [==============================] - 0s 6ms/step - loss: 0.0677 - mae: 0.2112 - val_loss: 0.0129 - val_mae: 0.0973\n",
            "Epoch 46/500\n",
            "18/18 [==============================] - 0s 7ms/step - loss: 0.0448 - mae: 0.1559 - val_loss: 0.1441 - val_mae: 0.3779\n",
            "Epoch 47/500\n",
            "18/18 [==============================] - 0s 6ms/step - loss: 0.1390 - mae: 0.3519 - val_loss: 0.0923 - val_mae: 0.3010\n",
            "Epoch 48/500\n",
            "18/18 [==============================] - 0s 7ms/step - loss: 0.1502 - mae: 0.3449 - val_loss: 0.0356 - val_mae: 0.1823\n",
            "Epoch 49/500\n",
            "18/18 [==============================] - 0s 7ms/step - loss: 0.1349 - mae: 0.3019 - val_loss: 0.0135 - val_mae: 0.1028\n",
            "Epoch 50/500\n",
            "18/18 [==============================] - 0s 7ms/step - loss: 0.0917 - mae: 0.2432 - val_loss: 0.0548 - val_mae: 0.2284\n",
            "Epoch 51/500\n",
            "18/18 [==============================] - 0s 6ms/step - loss: 0.0893 - mae: 0.2496 - val_loss: 0.0144 - val_mae: 0.1016\n",
            "Epoch 52/500\n",
            "18/18 [==============================] - 0s 6ms/step - loss: 0.1053 - mae: 0.2469 - val_loss: 0.0536 - val_mae: 0.2237\n",
            "Epoch 53/500\n",
            "18/18 [==============================] - 0s 7ms/step - loss: 0.1260 - mae: 0.3108 - val_loss: 0.0540 - val_mae: 0.2253\n",
            "Epoch 54/500\n",
            "18/18 [==============================] - 0s 7ms/step - loss: 0.0860 - mae: 0.2611 - val_loss: 0.0261 - val_mae: 0.1512\n",
            "Epoch 55/500\n",
            "18/18 [==============================] - 0s 6ms/step - loss: 0.0781 - mae: 0.2069 - val_loss: 0.3279 - val_mae: 0.5717\n",
            "Epoch 56/500\n",
            "18/18 [==============================] - 0s 7ms/step - loss: 0.1804 - mae: 0.3463 - val_loss: 0.0765 - val_mae: 0.2743\n",
            "Epoch 57/500\n",
            "18/18 [==============================] - 0s 7ms/step - loss: 0.1327 - mae: 0.3269 - val_loss: 0.0042 - val_mae: 0.0544\n",
            "Epoch 58/500\n",
            "18/18 [==============================] - 0s 6ms/step - loss: 0.0762 - mae: 0.2179 - val_loss: 0.0414 - val_mae: 0.1979\n",
            "Epoch 59/500\n",
            "18/18 [==============================] - 0s 6ms/step - loss: 0.1002 - mae: 0.2439 - val_loss: 0.0394 - val_mae: 0.1917\n",
            "Epoch 60/500\n",
            "18/18 [==============================] - 0s 6ms/step - loss: 0.1271 - mae: 0.3136 - val_loss: 0.0594 - val_mae: 0.2390\n",
            "Epoch 61/500\n",
            "18/18 [==============================] - 0s 6ms/step - loss: 0.1776 - mae: 0.3881 - val_loss: 0.0444 - val_mae: 0.2039\n",
            "Epoch 62/500\n",
            "18/18 [==============================] - 0s 13ms/step - loss: 0.1241 - mae: 0.3033 - val_loss: 0.0124 - val_mae: 0.0934\n",
            "Epoch 63/500\n",
            "18/18 [==============================] - 0s 6ms/step - loss: 0.0768 - mae: 0.2176 - val_loss: 0.1435 - val_mae: 0.3762\n",
            "Epoch 64/500\n",
            "18/18 [==============================] - 0s 7ms/step - loss: 0.1059 - mae: 0.2397 - val_loss: 0.0075 - val_mae: 0.0653\n",
            "Epoch 65/500\n",
            "18/18 [==============================] - 0s 7ms/step - loss: 0.1510 - mae: 0.3294 - val_loss: 0.0152 - val_mae: 0.1116\n",
            "Epoch 66/500\n",
            "18/18 [==============================] - 0s 6ms/step - loss: 0.0754 - mae: 0.2080 - val_loss: 0.1136 - val_mae: 0.3343\n",
            "Epoch 67/500\n",
            "18/18 [==============================] - 0s 6ms/step - loss: 0.0939 - mae: 0.2663 - val_loss: 0.0034 - val_mae: 0.0581\n",
            "Epoch 68/500\n",
            "18/18 [==============================] - 0s 6ms/step - loss: 0.1104 - mae: 0.2377 - val_loss: 0.1709 - val_mae: 0.4114\n",
            "Epoch 69/500\n",
            "18/18 [==============================] - 0s 6ms/step - loss: 0.1755 - mae: 0.3924 - val_loss: 0.1034 - val_mae: 0.3183\n",
            "Epoch 70/500\n",
            "18/18 [==============================] - 0s 7ms/step - loss: 0.1096 - mae: 0.2627 - val_loss: 0.0410 - val_mae: 0.1930\n",
            "Epoch 71/500\n",
            "18/18 [==============================] - 0s 7ms/step - loss: 0.1296 - mae: 0.3058 - val_loss: 0.0172 - val_mae: 0.1061\n",
            "Epoch 72/500\n",
            "18/18 [==============================] - 0s 7ms/step - loss: 0.1866 - mae: 0.3387 - val_loss: 0.1390 - val_mae: 0.3691\n",
            "Epoch 73/500\n",
            "18/18 [==============================] - 0s 7ms/step - loss: 0.1293 - mae: 0.2566 - val_loss: 0.1500 - val_mae: 0.3827\n",
            "Epoch 74/500\n",
            "18/18 [==============================] - 0s 7ms/step - loss: 0.0958 - mae: 0.2461 - val_loss: 0.0305 - val_mae: 0.1564\n",
            "Epoch 75/500\n",
            "18/18 [==============================] - 0s 6ms/step - loss: 0.1616 - mae: 0.3400 - val_loss: 0.0166 - val_mae: 0.0997\n",
            "Epoch 76/500\n",
            "18/18 [==============================] - 0s 7ms/step - loss: 0.0943 - mae: 0.2644 - val_loss: 0.1227 - val_mae: 0.3453\n",
            "Epoch 77/500\n",
            "18/18 [==============================] - 0s 7ms/step - loss: 0.0766 - mae: 0.2326 - val_loss: 0.0180 - val_mae: 0.1143\n",
            "Epoch 78/500\n",
            "18/18 [==============================] - 0s 6ms/step - loss: 0.1363 - mae: 0.3123 - val_loss: 0.0308 - val_mae: 0.1607\n",
            "Epoch 79/500\n",
            "18/18 [==============================] - 0s 6ms/step - loss: 0.0798 - mae: 0.2192 - val_loss: 0.0263 - val_mae: 0.1481\n",
            "Epoch 80/500\n",
            "18/18 [==============================] - 0s 7ms/step - loss: 0.1025 - mae: 0.2967 - val_loss: 0.1657 - val_mae: 0.4020\n",
            "Epoch 81/500\n",
            "18/18 [==============================] - 0s 7ms/step - loss: 0.1210 - mae: 0.2828 - val_loss: 0.1144 - val_mae: 0.3311\n",
            "Epoch 82/500\n",
            "18/18 [==============================] - 0s 7ms/step - loss: 0.0889 - mae: 0.2206 - val_loss: 0.0310 - val_mae: 0.1603\n",
            "Epoch 83/500\n",
            "18/18 [==============================] - 0s 7ms/step - loss: 0.0659 - mae: 0.1995 - val_loss: 0.2369 - val_mae: 0.4835\n",
            "Epoch 84/500\n",
            "18/18 [==============================] - 0s 7ms/step - loss: 0.1337 - mae: 0.3311 - val_loss: 0.0996 - val_mae: 0.3083\n",
            "Epoch 85/500\n",
            "18/18 [==============================] - 0s 6ms/step - loss: 0.1004 - mae: 0.2783 - val_loss: 0.0500 - val_mae: 0.2152\n",
            "Epoch 86/500\n",
            "18/18 [==============================] - 0s 6ms/step - loss: 0.0971 - mae: 0.2762 - val_loss: 0.0077 - val_mae: 0.0685\n",
            "Epoch 87/500\n",
            "18/18 [==============================] - 0s 7ms/step - loss: 0.1016 - mae: 0.2448 - val_loss: 0.0658 - val_mae: 0.2502\n",
            "Epoch 88/500\n",
            "18/18 [==============================] - 0s 7ms/step - loss: 0.0597 - mae: 0.1675 - val_loss: 0.1155 - val_mae: 0.3349\n",
            "Epoch 89/500\n",
            "18/18 [==============================] - 0s 6ms/step - loss: 0.0883 - mae: 0.2385 - val_loss: 0.0360 - val_mae: 0.1768\n",
            "Epoch 90/500\n",
            "18/18 [==============================] - 0s 7ms/step - loss: 0.0847 - mae: 0.2540 - val_loss: 0.0641 - val_mae: 0.2454\n",
            "Epoch 91/500\n",
            "18/18 [==============================] - 0s 7ms/step - loss: 0.0882 - mae: 0.2268 - val_loss: 0.2157 - val_mae: 0.4618\n",
            "Epoch 92/500\n",
            "18/18 [==============================] - 0s 7ms/step - loss: 0.0966 - mae: 0.2568 - val_loss: 0.1172 - val_mae: 0.3397\n",
            "Epoch 93/500\n",
            "18/18 [==============================] - 0s 7ms/step - loss: 0.1346 - mae: 0.3031 - val_loss: 0.0941 - val_mae: 0.3033\n",
            "Epoch 94/500\n",
            "18/18 [==============================] - 0s 6ms/step - loss: 0.0610 - mae: 0.1988 - val_loss: 0.0393 - val_mae: 0.1922\n",
            "Epoch 95/500\n",
            "18/18 [==============================] - 0s 7ms/step - loss: 0.0847 - mae: 0.2587 - val_loss: 0.0336 - val_mae: 0.1776\n",
            "Epoch 96/500\n",
            "18/18 [==============================] - 0s 7ms/step - loss: 0.0827 - mae: 0.2246 - val_loss: 0.0074 - val_mae: 0.0651\n",
            "Epoch 97/500\n",
            "18/18 [==============================] - 0s 7ms/step - loss: 0.1106 - mae: 0.2583 - val_loss: 0.0107 - val_mae: 0.0867\n",
            "Epoch 98/500\n",
            "18/18 [==============================] - 0s 7ms/step - loss: 0.1340 - mae: 0.3083 - val_loss: 0.1672 - val_mae: 0.4067\n",
            "Epoch 99/500\n",
            "18/18 [==============================] - 0s 7ms/step - loss: 0.0647 - mae: 0.2058 - val_loss: 0.0345 - val_mae: 0.1793\n",
            "Epoch 100/500\n",
            "18/18 [==============================] - 0s 7ms/step - loss: 0.0859 - mae: 0.2292 - val_loss: 0.0038 - val_mae: 0.0605\n",
            "Epoch 101/500\n",
            "18/18 [==============================] - 0s 7ms/step - loss: 0.1594 - mae: 0.3332 - val_loss: 0.0648 - val_mae: 0.2496\n",
            "Epoch 102/500\n",
            "18/18 [==============================] - 0s 7ms/step - loss: 0.1051 - mae: 0.2869 - val_loss: 0.0316 - val_mae: 0.1697\n",
            "Epoch 103/500\n",
            "18/18 [==============================] - 0s 7ms/step - loss: 0.0718 - mae: 0.2154 - val_loss: 0.0036 - val_mae: 0.0554\n",
            "Epoch 104/500\n",
            "18/18 [==============================] - 0s 7ms/step - loss: 0.0912 - mae: 0.2484 - val_loss: 0.1601 - val_mae: 0.3989\n",
            "Epoch 105/500\n",
            "18/18 [==============================] - 0s 7ms/step - loss: 0.0871 - mae: 0.2380 - val_loss: 0.0150 - val_mae: 0.1128\n",
            "Epoch 106/500\n",
            "18/18 [==============================] - 0s 7ms/step - loss: 0.0911 - mae: 0.2582 - val_loss: 0.1254 - val_mae: 0.3524\n",
            "Epoch 107/500\n",
            "18/18 [==============================] - 0s 6ms/step - loss: 0.1250 - mae: 0.3155 - val_loss: 0.0639 - val_mae: 0.2493\n",
            "Epoch 108/500\n",
            "18/18 [==============================] - 0s 6ms/step - loss: 0.1021 - mae: 0.2917 - val_loss: 0.0046 - val_mae: 0.0495\n",
            "Epoch 109/500\n",
            "18/18 [==============================] - 0s 7ms/step - loss: 0.0692 - mae: 0.1877 - val_loss: 0.1919 - val_mae: 0.4370\n",
            "Epoch 110/500\n",
            "18/18 [==============================] - 0s 6ms/step - loss: 0.1130 - mae: 0.2703 - val_loss: 0.1012 - val_mae: 0.3164\n",
            "Epoch 111/500\n",
            "18/18 [==============================] - 0s 7ms/step - loss: 0.1331 - mae: 0.3349 - val_loss: 0.0628 - val_mae: 0.2467\n",
            "Epoch 112/500\n",
            "18/18 [==============================] - 0s 14ms/step - loss: 0.0860 - mae: 0.2683 - val_loss: 0.0431 - val_mae: 0.2019\n",
            "Epoch 113/500\n",
            "18/18 [==============================] - 0s 7ms/step - loss: 0.0467 - mae: 0.1817 - val_loss: 0.0729 - val_mae: 0.2667\n",
            "Epoch 114/500\n",
            "18/18 [==============================] - 0s 7ms/step - loss: 0.1200 - mae: 0.2789 - val_loss: 0.0354 - val_mae: 0.1805\n",
            "Epoch 115/500\n",
            "18/18 [==============================] - 0s 6ms/step - loss: 0.0702 - mae: 0.2257 - val_loss: 0.0726 - val_mae: 0.2659\n",
            "Epoch 116/500\n",
            "18/18 [==============================] - 0s 6ms/step - loss: 0.1152 - mae: 0.2619 - val_loss: 0.1863 - val_mae: 0.4299\n",
            "Epoch 117/500\n",
            "18/18 [==============================] - 0s 7ms/step - loss: 0.1343 - mae: 0.3061 - val_loss: 0.0180 - val_mae: 0.1236\n",
            "Epoch 118/500\n",
            "18/18 [==============================] - 0s 7ms/step - loss: 0.0885 - mae: 0.2446 - val_loss: 0.0269 - val_mae: 0.1526\n",
            "Epoch 119/500\n",
            "18/18 [==============================] - 0s 7ms/step - loss: 0.0827 - mae: 0.2129 - val_loss: 0.0571 - val_mae: 0.2311\n",
            "Epoch 120/500\n",
            "18/18 [==============================] - 0s 7ms/step - loss: 0.0990 - mae: 0.2684 - val_loss: 0.0044 - val_mae: 0.0664\n",
            "Epoch 121/500\n",
            "18/18 [==============================] - 0s 7ms/step - loss: 0.1261 - mae: 0.2577 - val_loss: 0.0353 - val_mae: 0.1817\n",
            "Epoch 122/500\n",
            "18/18 [==============================] - 0s 7ms/step - loss: 0.1294 - mae: 0.3280 - val_loss: 0.0485 - val_mae: 0.2144\n",
            "Epoch 123/500\n",
            "18/18 [==============================] - 0s 6ms/step - loss: 0.0787 - mae: 0.2258 - val_loss: 0.0169 - val_mae: 0.1149\n",
            "Epoch 124/500\n",
            "18/18 [==============================] - 0s 7ms/step - loss: 0.1182 - mae: 0.3048 - val_loss: 0.0306 - val_mae: 0.1644\n",
            "Epoch 125/500\n",
            "18/18 [==============================] - 0s 7ms/step - loss: 0.0760 - mae: 0.2263 - val_loss: 0.0604 - val_mae: 0.2396\n",
            "Epoch 126/500\n",
            "18/18 [==============================] - 0s 7ms/step - loss: 0.1252 - mae: 0.3200 - val_loss: 0.0072 - val_mae: 0.0637\n",
            "Epoch 127/500\n",
            "18/18 [==============================] - 0s 7ms/step - loss: 0.1037 - mae: 0.2878 - val_loss: 0.0318 - val_mae: 0.1723\n",
            "Epoch 128/500\n",
            "18/18 [==============================] - 0s 7ms/step - loss: 0.0894 - mae: 0.2279 - val_loss: 0.0920 - val_mae: 0.2996\n",
            "Epoch 129/500\n",
            "18/18 [==============================] - 0s 7ms/step - loss: 0.0966 - mae: 0.2922 - val_loss: 0.0443 - val_mae: 0.2026\n",
            "Epoch 130/500\n",
            "18/18 [==============================] - 0s 7ms/step - loss: 0.0843 - mae: 0.2472 - val_loss: 0.0256 - val_mae: 0.1484\n",
            "Epoch 131/500\n",
            "18/18 [==============================] - 0s 7ms/step - loss: 0.0771 - mae: 0.2505 - val_loss: 0.0417 - val_mae: 0.1959\n",
            "Epoch 132/500\n",
            "18/18 [==============================] - 0s 7ms/step - loss: 0.1017 - mae: 0.2733 - val_loss: 0.1118 - val_mae: 0.3301\n",
            "Epoch 133/500\n",
            "18/18 [==============================] - 0s 6ms/step - loss: 0.0525 - mae: 0.1927 - val_loss: 0.0272 - val_mae: 0.1544\n",
            "Epoch 134/500\n",
            "18/18 [==============================] - 0s 7ms/step - loss: 0.0631 - mae: 0.2052 - val_loss: 0.0611 - val_mae: 0.2407\n",
            "Epoch 135/500\n",
            "18/18 [==============================] - 0s 7ms/step - loss: 0.0703 - mae: 0.2143 - val_loss: 0.0364 - val_mae: 0.1814\n",
            "Epoch 136/500\n",
            "18/18 [==============================] - 0s 7ms/step - loss: 0.1281 - mae: 0.3056 - val_loss: 0.0054 - val_mae: 0.0615\n",
            "Epoch 137/500\n",
            "18/18 [==============================] - 0s 7ms/step - loss: 0.0951 - mae: 0.2502 - val_loss: 0.0753 - val_mae: 0.2701\n",
            "Epoch 138/500\n",
            "18/18 [==============================] - 0s 7ms/step - loss: 0.0841 - mae: 0.2500 - val_loss: 0.0609 - val_mae: 0.2423\n",
            "Epoch 139/500\n",
            "18/18 [==============================] - 0s 7ms/step - loss: 0.0564 - mae: 0.1900 - val_loss: 0.0311 - val_mae: 0.1690\n",
            "Epoch 140/500\n",
            "18/18 [==============================] - 0s 6ms/step - loss: 0.1020 - mae: 0.2681 - val_loss: 0.0594 - val_mae: 0.2381\n",
            "Epoch 141/500\n",
            "18/18 [==============================] - 0s 6ms/step - loss: 0.0671 - mae: 0.1957 - val_loss: 0.0574 - val_mae: 0.2344\n",
            "Epoch 142/500\n",
            "18/18 [==============================] - 0s 7ms/step - loss: 0.1003 - mae: 0.2633 - val_loss: 0.0129 - val_mae: 0.0983\n",
            "Epoch 143/500\n",
            "18/18 [==============================] - 0s 7ms/step - loss: 0.0806 - mae: 0.2132 - val_loss: 0.1077 - val_mae: 0.3251\n",
            "Epoch 144/500\n",
            "18/18 [==============================] - 0s 6ms/step - loss: 0.1370 - mae: 0.3069 - val_loss: 0.1547 - val_mae: 0.3911\n",
            "Epoch 145/500\n",
            "18/18 [==============================] - 0s 6ms/step - loss: 0.0789 - mae: 0.2325 - val_loss: 0.0181 - val_mae: 0.1240\n",
            "Epoch 146/500\n",
            "18/18 [==============================] - 0s 7ms/step - loss: 0.0941 - mae: 0.2562 - val_loss: 0.1100 - val_mae: 0.3301\n",
            "Epoch 147/500\n",
            "18/18 [==============================] - 0s 6ms/step - loss: 0.0944 - mae: 0.2645 - val_loss: 0.0086 - val_mae: 0.0824\n",
            "Epoch 148/500\n",
            "18/18 [==============================] - 0s 7ms/step - loss: 0.0606 - mae: 0.1889 - val_loss: 0.0792 - val_mae: 0.2794\n",
            "Epoch 149/500\n",
            "18/18 [==============================] - 0s 7ms/step - loss: 0.0482 - mae: 0.1700 - val_loss: 0.0970 - val_mae: 0.3092\n",
            "Epoch 150/500\n",
            "18/18 [==============================] - 0s 7ms/step - loss: 0.1010 - mae: 0.2791 - val_loss: 0.1112 - val_mae: 0.3312\n",
            "Epoch 151/500\n",
            "18/18 [==============================] - 0s 7ms/step - loss: 0.0949 - mae: 0.2412 - val_loss: 0.0550 - val_mae: 0.2318\n",
            "Epoch 152/500\n",
            "18/18 [==============================] - 0s 6ms/step - loss: 0.0725 - mae: 0.2069 - val_loss: 0.0590 - val_mae: 0.2415\n",
            "Epoch 153/500\n",
            "18/18 [==============================] - 0s 7ms/step - loss: 0.0715 - mae: 0.2365 - val_loss: 0.0320 - val_mae: 0.1763\n",
            "Epoch 154/500\n",
            "18/18 [==============================] - 0s 7ms/step - loss: 0.0611 - mae: 0.2168 - val_loss: 0.0050 - val_mae: 0.0593\n",
            "Epoch 155/500\n",
            "18/18 [==============================] - 0s 6ms/step - loss: 0.1164 - mae: 0.2938 - val_loss: 0.1163 - val_mae: 0.3399\n",
            "Epoch 156/500\n",
            "18/18 [==============================] - 0s 6ms/step - loss: 0.0719 - mae: 0.2094 - val_loss: 0.1512 - val_mae: 0.3882\n",
            "Epoch 157/500\n",
            "18/18 [==============================] - 0s 7ms/step - loss: 0.0692 - mae: 0.2119 - val_loss: 0.0025 - val_mae: 0.0376\n",
            "Epoch 158/500\n",
            "18/18 [==============================] - 0s 7ms/step - loss: 0.1010 - mae: 0.2768 - val_loss: 0.1165 - val_mae: 0.3407\n",
            "Epoch 159/500\n",
            "18/18 [==============================] - 0s 7ms/step - loss: 0.1281 - mae: 0.2857 - val_loss: 0.0023 - val_mae: 0.0469\n",
            "Epoch 160/500\n",
            "18/18 [==============================] - 0s 7ms/step - loss: 0.0694 - mae: 0.2116 - val_loss: 0.0187 - val_mae: 0.1233\n",
            "Epoch 161/500\n",
            "18/18 [==============================] - 0s 7ms/step - loss: 0.1296 - mae: 0.3107 - val_loss: 0.0250 - val_mae: 0.1485\n",
            "Epoch 162/500\n",
            "18/18 [==============================] - 0s 6ms/step - loss: 0.0991 - mae: 0.2347 - val_loss: 0.0946 - val_mae: 0.3039\n",
            "Epoch 163/500\n",
            "18/18 [==============================] - 0s 6ms/step - loss: 0.0903 - mae: 0.2752 - val_loss: 0.0373 - val_mae: 0.1859\n",
            "Epoch 164/500\n",
            "18/18 [==============================] - 0s 7ms/step - loss: 0.0472 - mae: 0.1540 - val_loss: 0.0108 - val_mae: 0.0900\n",
            "Epoch 165/500\n",
            "18/18 [==============================] - 0s 7ms/step - loss: 0.0971 - mae: 0.2598 - val_loss: 0.1458 - val_mae: 0.3803\n",
            "Epoch 166/500\n",
            "18/18 [==============================] - 0s 7ms/step - loss: 0.0713 - mae: 0.2187 - val_loss: 0.0212 - val_mae: 0.1377\n",
            "Epoch 167/500\n",
            "18/18 [==============================] - 0s 7ms/step - loss: 0.1125 - mae: 0.2871 - val_loss: 0.0296 - val_mae: 0.1666\n",
            "Epoch 168/500\n",
            "18/18 [==============================] - 0s 7ms/step - loss: 0.0424 - mae: 0.1395 - val_loss: 0.0095 - val_mae: 0.0854\n",
            "Epoch 169/500\n",
            "18/18 [==============================] - 0s 6ms/step - loss: 0.0674 - mae: 0.2049 - val_loss: 0.1109 - val_mae: 0.3305\n",
            "Epoch 170/500\n",
            "18/18 [==============================] - 0s 7ms/step - loss: 0.0791 - mae: 0.2413 - val_loss: 0.1168 - val_mae: 0.3393\n",
            "Epoch 171/500\n",
            "18/18 [==============================] - 0s 7ms/step - loss: 0.1183 - mae: 0.2797 - val_loss: 0.1539 - val_mae: 0.3900\n",
            "Epoch 172/500\n",
            "18/18 [==============================] - 0s 7ms/step - loss: 0.1233 - mae: 0.2993 - val_loss: 0.0744 - val_mae: 0.2683\n",
            "Epoch 173/500\n",
            "18/18 [==============================] - 0s 7ms/step - loss: 0.0674 - mae: 0.2202 - val_loss: 0.0443 - val_mae: 0.2040\n",
            "Epoch 174/500\n",
            "18/18 [==============================] - 0s 14ms/step - loss: 0.0845 - mae: 0.2514 - val_loss: 0.0307 - val_mae: 0.1681\n",
            "Epoch 175/500\n",
            "18/18 [==============================] - 0s 6ms/step - loss: 0.0654 - mae: 0.2174 - val_loss: 0.1353 - val_mae: 0.3656\n",
            "Epoch 176/500\n",
            "18/18 [==============================] - 0s 7ms/step - loss: 0.1371 - mae: 0.3116 - val_loss: 0.2457 - val_mae: 0.4935\n",
            "Epoch 177/500\n",
            "18/18 [==============================] - 0s 7ms/step - loss: 0.1610 - mae: 0.3195 - val_loss: 0.0234 - val_mae: 0.1315\n",
            "Epoch 178/500\n",
            "18/18 [==============================] - 0s 6ms/step - loss: 0.0381 - mae: 0.1652 - val_loss: 0.1539 - val_mae: 0.3868\n",
            "Epoch 179/500\n",
            "18/18 [==============================] - 0s 7ms/step - loss: 0.0908 - mae: 0.2675 - val_loss: 0.1130 - val_mae: 0.3288\n",
            "Epoch 180/500\n",
            "18/18 [==============================] - 0s 7ms/step - loss: 0.1000 - mae: 0.2783 - val_loss: 0.0799 - val_mae: 0.2699\n",
            "Epoch 181/500\n",
            "18/18 [==============================] - 0s 6ms/step - loss: 0.0636 - mae: 0.2199 - val_loss: 0.0194 - val_mae: 0.1110\n",
            "Epoch 182/500\n",
            "18/18 [==============================] - 0s 7ms/step - loss: 0.1203 - mae: 0.3008 - val_loss: 0.0545 - val_mae: 0.2206\n",
            "Epoch 183/500\n",
            "18/18 [==============================] - 0s 7ms/step - loss: 0.0555 - mae: 0.1842 - val_loss: 0.1549 - val_mae: 0.3897\n",
            "Epoch 184/500\n",
            "18/18 [==============================] - 0s 7ms/step - loss: 0.1123 - mae: 0.2632 - val_loss: 0.0239 - val_mae: 0.1372\n",
            "Epoch 185/500\n",
            "18/18 [==============================] - 0s 6ms/step - loss: 0.1261 - mae: 0.3029 - val_loss: 0.0089 - val_mae: 0.0801\n",
            "Epoch 186/500\n",
            "18/18 [==============================] - 0s 7ms/step - loss: 0.0486 - mae: 0.1537 - val_loss: 0.1569 - val_mae: 0.3942\n",
            "Epoch 187/500\n",
            "18/18 [==============================] - 0s 7ms/step - loss: 0.1089 - mae: 0.3009 - val_loss: 0.1011 - val_mae: 0.3134\n",
            "Epoch 188/500\n",
            "18/18 [==============================] - 0s 7ms/step - loss: 0.0679 - mae: 0.2297 - val_loss: 0.0493 - val_mae: 0.2126\n",
            "Epoch 189/500\n",
            "18/18 [==============================] - 0s 7ms/step - loss: 0.0585 - mae: 0.1967 - val_loss: 0.0325 - val_mae: 0.1692\n",
            "Epoch 190/500\n",
            "18/18 [==============================] - 0s 7ms/step - loss: 0.0806 - mae: 0.2092 - val_loss: 0.2381 - val_mae: 0.4864\n",
            "Epoch 191/500\n",
            "18/18 [==============================] - 0s 7ms/step - loss: 0.2002 - mae: 0.3848 - val_loss: 0.0505 - val_mae: 0.2202\n",
            "Epoch 192/500\n",
            "18/18 [==============================] - 0s 7ms/step - loss: 0.0701 - mae: 0.2346 - val_loss: 0.0130 - val_mae: 0.1012\n",
            "Epoch 193/500\n",
            "18/18 [==============================] - 0s 7ms/step - loss: 0.0741 - mae: 0.2204 - val_loss: 0.0407 - val_mae: 0.1948\n",
            "Epoch 194/500\n",
            "18/18 [==============================] - 0s 7ms/step - loss: 0.0763 - mae: 0.2344 - val_loss: 0.0851 - val_mae: 0.2875\n",
            "Epoch 195/500\n",
            "18/18 [==============================] - 0s 7ms/step - loss: 0.0573 - mae: 0.1979 - val_loss: 0.0040 - val_mae: 0.0613\n",
            "Epoch 196/500\n",
            "18/18 [==============================] - 0s 7ms/step - loss: 0.0679 - mae: 0.2283 - val_loss: 0.0525 - val_mae: 0.2250\n",
            "Epoch 197/500\n",
            "18/18 [==============================] - 0s 7ms/step - loss: 0.0646 - mae: 0.2052 - val_loss: 0.1667 - val_mae: 0.4074\n",
            "Epoch 198/500\n",
            "18/18 [==============================] - 0s 7ms/step - loss: 0.1630 - mae: 0.3184 - val_loss: 0.0025 - val_mae: 0.0454\n",
            "Epoch 199/500\n",
            "18/18 [==============================] - 0s 7ms/step - loss: 0.1386 - mae: 0.3133 - val_loss: 0.0099 - val_mae: 0.0881\n",
            "Epoch 200/500\n",
            "18/18 [==============================] - 0s 7ms/step - loss: 0.0852 - mae: 0.2350 - val_loss: 0.1185 - val_mae: 0.3426\n",
            "Epoch 201/500\n",
            "18/18 [==============================] - 0s 7ms/step - loss: 0.0982 - mae: 0.2643 - val_loss: 0.0556 - val_mae: 0.2305\n",
            "Epoch 202/500\n",
            "18/18 [==============================] - 0s 7ms/step - loss: 0.0667 - mae: 0.2157 - val_loss: 0.0325 - val_mae: 0.1728\n",
            "Epoch 203/500\n",
            "18/18 [==============================] - 0s 7ms/step - loss: 0.0943 - mae: 0.2697 - val_loss: 0.0066 - val_mae: 0.0584\n",
            "Epoch 204/500\n",
            "18/18 [==============================] - 0s 7ms/step - loss: 0.0904 - mae: 0.2420 - val_loss: 0.0201 - val_mae: 0.1323\n",
            "Epoch 205/500\n",
            "18/18 [==============================] - 0s 6ms/step - loss: 0.0566 - mae: 0.1898 - val_loss: 0.0567 - val_mae: 0.2337\n",
            "Epoch 206/500\n",
            "18/18 [==============================] - 0s 7ms/step - loss: 0.0548 - mae: 0.2101 - val_loss: 0.0657 - val_mae: 0.2528\n",
            "Epoch 207/500\n",
            "18/18 [==============================] - 0s 7ms/step - loss: 0.0750 - mae: 0.2425 - val_loss: 0.0635 - val_mae: 0.2479\n",
            "Epoch 208/500\n",
            "18/18 [==============================] - 0s 7ms/step - loss: 0.0532 - mae: 0.1951 - val_loss: 0.0195 - val_mae: 0.1295\n",
            "Epoch 209/500\n",
            "18/18 [==============================] - 0s 6ms/step - loss: 0.0681 - mae: 0.2058 - val_loss: 0.0392 - val_mae: 0.1903\n",
            "Epoch 210/500\n",
            "18/18 [==============================] - 0s 7ms/step - loss: 0.0943 - mae: 0.2680 - val_loss: 0.0849 - val_mae: 0.2889\n",
            "Epoch 211/500\n",
            "18/18 [==============================] - 0s 7ms/step - loss: 0.1079 - mae: 0.2848 - val_loss: 0.0178 - val_mae: 0.1248\n",
            "Epoch 212/500\n",
            "18/18 [==============================] - 0s 7ms/step - loss: 0.0734 - mae: 0.2105 - val_loss: 0.0450 - val_mae: 0.2077\n",
            "Epoch 213/500\n",
            "18/18 [==============================] - 0s 7ms/step - loss: 0.0597 - mae: 0.2195 - val_loss: 0.0069 - val_mae: 0.0646\n",
            "Epoch 214/500\n",
            "18/18 [==============================] - 0s 7ms/step - loss: 0.0959 - mae: 0.2575 - val_loss: 0.0687 - val_mae: 0.2583\n",
            "Epoch 215/500\n",
            "18/18 [==============================] - 0s 7ms/step - loss: 0.0815 - mae: 0.2364 - val_loss: 0.0721 - val_mae: 0.2652\n",
            "Epoch 216/500\n",
            "18/18 [==============================] - 0s 6ms/step - loss: 0.0854 - mae: 0.2494 - val_loss: 0.0478 - val_mae: 0.2137\n",
            "Epoch 217/500\n",
            "18/18 [==============================] - 0s 7ms/step - loss: 0.0613 - mae: 0.1793 - val_loss: 0.0199 - val_mae: 0.1325\n",
            "Epoch 218/500\n",
            "18/18 [==============================] - 0s 7ms/step - loss: 0.0853 - mae: 0.2489 - val_loss: 0.0734 - val_mae: 0.2677\n",
            "Epoch 219/500\n",
            "18/18 [==============================] - 0s 7ms/step - loss: 0.0699 - mae: 0.2144 - val_loss: 0.0743 - val_mae: 0.2688\n",
            "Epoch 220/500\n",
            "18/18 [==============================] - 0s 7ms/step - loss: 0.0988 - mae: 0.2854 - val_loss: 0.0207 - val_mae: 0.1322\n",
            "Epoch 221/500\n",
            "18/18 [==============================] - 0s 7ms/step - loss: 0.0690 - mae: 0.2189 - val_loss: 0.1066 - val_mae: 0.3233\n",
            "Epoch 222/500\n",
            "18/18 [==============================] - 0s 7ms/step - loss: 0.0796 - mae: 0.2451 - val_loss: 0.1026 - val_mae: 0.3158\n",
            "Epoch 223/500\n",
            "18/18 [==============================] - 0s 7ms/step - loss: 0.0923 - mae: 0.2526 - val_loss: 0.1547 - val_mae: 0.3904\n",
            "Epoch 224/500\n",
            "18/18 [==============================] - 0s 7ms/step - loss: 0.0800 - mae: 0.2481 - val_loss: 0.0157 - val_mae: 0.1106\n",
            "Epoch 225/500\n",
            "18/18 [==============================] - 0s 7ms/step - loss: 0.0621 - mae: 0.2099 - val_loss: 0.0123 - val_mae: 0.0947\n",
            "Epoch 226/500\n",
            "18/18 [==============================] - 0s 14ms/step - loss: 0.0352 - mae: 0.1406 - val_loss: 0.1855 - val_mae: 0.4283\n",
            "Epoch 227/500\n",
            "18/18 [==============================] - 0s 7ms/step - loss: 0.1418 - mae: 0.3230 - val_loss: 0.0204 - val_mae: 0.1263\n",
            "Epoch 228/500\n",
            "18/18 [==============================] - 0s 7ms/step - loss: 0.0552 - mae: 0.1887 - val_loss: 0.0204 - val_mae: 0.1208\n",
            "Epoch 229/500\n",
            "18/18 [==============================] - 0s 7ms/step - loss: 0.0479 - mae: 0.1717 - val_loss: 0.1372 - val_mae: 0.3659\n",
            "Epoch 230/500\n",
            "18/18 [==============================] - 0s 7ms/step - loss: 0.0661 - mae: 0.2352 - val_loss: 0.0225 - val_mae: 0.1367\n",
            "Epoch 231/500\n",
            "18/18 [==============================] - 0s 7ms/step - loss: 0.0320 - mae: 0.1329 - val_loss: 0.0500 - val_mae: 0.2158\n",
            "Epoch 232/500\n",
            "18/18 [==============================] - 0s 7ms/step - loss: 0.0585 - mae: 0.2042 - val_loss: 0.0152 - val_mae: 0.1009\n",
            "Epoch 233/500\n",
            "18/18 [==============================] - 0s 7ms/step - loss: 0.0664 - mae: 0.1958 - val_loss: 0.0749 - val_mae: 0.2662\n",
            "Epoch 234/500\n",
            "18/18 [==============================] - 0s 6ms/step - loss: 0.0540 - mae: 0.2029 - val_loss: 0.0181 - val_mae: 0.1169\n",
            "Epoch 235/500\n",
            "18/18 [==============================] - 0s 7ms/step - loss: 0.0783 - mae: 0.2345 - val_loss: 0.0195 - val_mae: 0.1215\n",
            "Epoch 236/500\n",
            "18/18 [==============================] - 0s 6ms/step - loss: 0.0669 - mae: 0.2079 - val_loss: 0.0229 - val_mae: 0.1341\n",
            "Epoch 237/500\n",
            "18/18 [==============================] - 0s 7ms/step - loss: 0.0571 - mae: 0.1951 - val_loss: 0.0179 - val_mae: 0.1132\n",
            "Epoch 238/500\n",
            "18/18 [==============================] - 0s 7ms/step - loss: 0.0718 - mae: 0.2136 - val_loss: 0.0631 - val_mae: 0.2412\n",
            "Epoch 239/500\n",
            "18/18 [==============================] - 0s 7ms/step - loss: 0.0807 - mae: 0.2526 - val_loss: 0.0521 - val_mae: 0.2166\n",
            "Epoch 240/500\n",
            "18/18 [==============================] - 0s 7ms/step - loss: 0.0503 - mae: 0.1850 - val_loss: 0.0617 - val_mae: 0.2380\n",
            "Epoch 241/500\n",
            "18/18 [==============================] - 0s 7ms/step - loss: 0.0635 - mae: 0.2127 - val_loss: 0.1394 - val_mae: 0.3673\n",
            "Epoch 242/500\n",
            "18/18 [==============================] - 0s 7ms/step - loss: 0.0574 - mae: 0.2162 - val_loss: 0.0169 - val_mae: 0.1088\n",
            "Epoch 243/500\n",
            "18/18 [==============================] - 0s 7ms/step - loss: 0.0516 - mae: 0.1691 - val_loss: 0.0363 - val_mae: 0.1789\n",
            "Epoch 244/500\n",
            "18/18 [==============================] - 0s 7ms/step - loss: 0.0752 - mae: 0.2228 - val_loss: 0.0765 - val_mae: 0.2709\n",
            "Epoch 245/500\n",
            "18/18 [==============================] - 0s 6ms/step - loss: 0.0587 - mae: 0.2014 - val_loss: 0.0324 - val_mae: 0.1705\n",
            "Epoch 246/500\n",
            "18/18 [==============================] - 0s 7ms/step - loss: 0.0698 - mae: 0.2134 - val_loss: 0.0888 - val_mae: 0.2935\n",
            "Epoch 247/500\n",
            "18/18 [==============================] - 0s 7ms/step - loss: 0.0748 - mae: 0.2325 - val_loss: 0.0449 - val_mae: 0.2046\n",
            "Epoch 248/500\n",
            "18/18 [==============================] - 0s 7ms/step - loss: 0.0551 - mae: 0.2123 - val_loss: 0.0862 - val_mae: 0.2899\n",
            "Epoch 249/500\n",
            "18/18 [==============================] - 0s 7ms/step - loss: 0.0475 - mae: 0.1770 - val_loss: 0.0157 - val_mae: 0.1146\n",
            "Epoch 250/500\n",
            "18/18 [==============================] - 0s 7ms/step - loss: 0.0501 - mae: 0.1756 - val_loss: 0.0194 - val_mae: 0.1283\n",
            "Epoch 251/500\n",
            "18/18 [==============================] - 0s 7ms/step - loss: 0.0554 - mae: 0.1838 - val_loss: 0.0051 - val_mae: 0.0681\n",
            "Epoch 252/500\n",
            "18/18 [==============================] - 0s 7ms/step - loss: 0.0804 - mae: 0.2318 - val_loss: 0.0722 - val_mae: 0.2635\n",
            "Epoch 253/500\n",
            "18/18 [==============================] - 0s 7ms/step - loss: 0.0565 - mae: 0.1965 - val_loss: 0.0335 - val_mae: 0.1756\n",
            "Epoch 254/500\n",
            "18/18 [==============================] - 0s 7ms/step - loss: 0.0717 - mae: 0.2320 - val_loss: 0.0247 - val_mae: 0.1455\n",
            "Epoch 255/500\n",
            "18/18 [==============================] - 0s 6ms/step - loss: 0.0850 - mae: 0.2327 - val_loss: 0.0672 - val_mae: 0.2542\n",
            "Epoch 256/500\n",
            "18/18 [==============================] - 0s 7ms/step - loss: 0.0490 - mae: 0.1864 - val_loss: 0.0310 - val_mae: 0.1658\n",
            "Epoch 257/500\n",
            "18/18 [==============================] - 0s 7ms/step - loss: 0.0793 - mae: 0.2295 - val_loss: 0.0540 - val_mae: 0.2224\n",
            "Epoch 258/500\n",
            "18/18 [==============================] - 0s 7ms/step - loss: 0.0615 - mae: 0.1998 - val_loss: 0.0333 - val_mae: 0.1659\n",
            "Epoch 259/500\n",
            "18/18 [==============================] - 0s 7ms/step - loss: 0.0710 - mae: 0.2273 - val_loss: 0.0279 - val_mae: 0.1504\n",
            "Epoch 260/500\n",
            "18/18 [==============================] - 0s 7ms/step - loss: 0.0328 - mae: 0.1330 - val_loss: 0.1428 - val_mae: 0.3727\n",
            "Epoch 261/500\n",
            "18/18 [==============================] - 0s 7ms/step - loss: 0.0862 - mae: 0.2483 - val_loss: 0.0072 - val_mae: 0.0802\n",
            "Epoch 262/500\n",
            "18/18 [==============================] - 0s 7ms/step - loss: 0.0742 - mae: 0.2274 - val_loss: 0.0517 - val_mae: 0.2163\n",
            "Epoch 263/500\n",
            "18/18 [==============================] - 0s 7ms/step - loss: 0.0589 - mae: 0.2055 - val_loss: 0.0579 - val_mae: 0.2303\n",
            "Epoch 264/500\n",
            "18/18 [==============================] - 0s 7ms/step - loss: 0.0349 - mae: 0.1359 - val_loss: 0.0512 - val_mae: 0.2175\n",
            "Epoch 265/500\n",
            "18/18 [==============================] - 0s 7ms/step - loss: 0.0577 - mae: 0.2124 - val_loss: 0.0249 - val_mae: 0.1398\n",
            "Epoch 266/500\n",
            "18/18 [==============================] - 0s 7ms/step - loss: 0.0770 - mae: 0.2210 - val_loss: 0.0118 - val_mae: 0.0853\n",
            "Epoch 267/500\n",
            "18/18 [==============================] - 0s 7ms/step - loss: 0.0408 - mae: 0.1631 - val_loss: 0.0535 - val_mae: 0.2184\n",
            "Epoch 268/500\n",
            "18/18 [==============================] - 0s 7ms/step - loss: 0.0659 - mae: 0.2186 - val_loss: 0.0622 - val_mae: 0.2357\n",
            "Epoch 269/500\n",
            "18/18 [==============================] - 0s 7ms/step - loss: 0.0693 - mae: 0.2159 - val_loss: 0.0416 - val_mae: 0.1859\n",
            "Epoch 270/500\n",
            "18/18 [==============================] - 0s 7ms/step - loss: 0.0338 - mae: 0.1438 - val_loss: 0.0512 - val_mae: 0.2136\n",
            "Epoch 271/500\n",
            "18/18 [==============================] - 0s 7ms/step - loss: 0.0659 - mae: 0.2084 - val_loss: 0.1240 - val_mae: 0.3461\n",
            "Epoch 272/500\n",
            "18/18 [==============================] - 0s 7ms/step - loss: 0.0441 - mae: 0.1703 - val_loss: 0.0787 - val_mae: 0.2723\n",
            "Epoch 273/500\n",
            "18/18 [==============================] - 0s 7ms/step - loss: 0.0393 - mae: 0.1539 - val_loss: 0.0424 - val_mae: 0.1959\n",
            "Epoch 274/500\n",
            "18/18 [==============================] - 0s 7ms/step - loss: 0.0646 - mae: 0.2143 - val_loss: 0.1364 - val_mae: 0.3660\n",
            "Epoch 275/500\n",
            "18/18 [==============================] - 0s 7ms/step - loss: 0.0547 - mae: 0.1874 - val_loss: 0.0163 - val_mae: 0.1095\n",
            "Epoch 276/500\n",
            "18/18 [==============================] - 0s 7ms/step - loss: 0.0824 - mae: 0.2266 - val_loss: 0.0138 - val_mae: 0.0906\n",
            "Epoch 277/500\n",
            "18/18 [==============================] - 0s 7ms/step - loss: 0.0802 - mae: 0.2310 - val_loss: 0.1431 - val_mae: 0.3700\n",
            "Epoch 278/500\n",
            "18/18 [==============================] - 0s 7ms/step - loss: 0.0534 - mae: 0.1848 - val_loss: 0.0789 - val_mae: 0.2658\n",
            "Epoch 279/500\n",
            "18/18 [==============================] - 0s 6ms/step - loss: 0.0550 - mae: 0.2062 - val_loss: 0.0421 - val_mae: 0.1916\n",
            "Epoch 280/500\n",
            "18/18 [==============================] - 0s 6ms/step - loss: 0.0489 - mae: 0.1850 - val_loss: 0.0767 - val_mae: 0.2700\n",
            "Epoch 281/500\n",
            "18/18 [==============================] - 0s 7ms/step - loss: 0.0556 - mae: 0.2101 - val_loss: 0.0085 - val_mae: 0.0740\n",
            "Epoch 282/500\n",
            "18/18 [==============================] - 0s 7ms/step - loss: 0.0860 - mae: 0.2404 - val_loss: 0.0358 - val_mae: 0.1785\n",
            "Epoch 283/500\n",
            "18/18 [==============================] - 0s 7ms/step - loss: 0.0329 - mae: 0.1324 - val_loss: 0.1005 - val_mae: 0.3117\n",
            "Epoch 284/500\n",
            "18/18 [==============================] - 0s 8ms/step - loss: 0.0530 - mae: 0.1966 - val_loss: 0.0052 - val_mae: 0.0653\n",
            "Epoch 285/500\n",
            "18/18 [==============================] - 0s 7ms/step - loss: 0.0720 - mae: 0.2180 - val_loss: 0.0355 - val_mae: 0.1816\n",
            "Epoch 286/500\n",
            "18/18 [==============================] - 0s 7ms/step - loss: 0.0526 - mae: 0.2032 - val_loss: 0.0846 - val_mae: 0.2876\n",
            "Epoch 287/500\n",
            "18/18 [==============================] - 0s 7ms/step - loss: 0.0505 - mae: 0.1821 - val_loss: 0.1409 - val_mae: 0.3730\n",
            "Epoch 288/500\n",
            "18/18 [==============================] - 0s 7ms/step - loss: 0.0867 - mae: 0.2358 - val_loss: 0.0121 - val_mae: 0.0946\n",
            "Epoch 289/500\n",
            "18/18 [==============================] - 0s 7ms/step - loss: 0.0735 - mae: 0.2325 - val_loss: 0.0149 - val_mae: 0.1134\n",
            "Epoch 290/500\n",
            "18/18 [==============================] - 0s 14ms/step - loss: 0.0754 - mae: 0.2250 - val_loss: 0.0060 - val_mae: 0.0601\n",
            "Epoch 291/500\n",
            "18/18 [==============================] - 0s 7ms/step - loss: 0.0287 - mae: 0.1222 - val_loss: 0.1351 - val_mae: 0.3656\n",
            "Epoch 292/500\n",
            "18/18 [==============================] - 0s 7ms/step - loss: 0.0615 - mae: 0.2015 - val_loss: 0.0301 - val_mae: 0.1647\n",
            "Epoch 293/500\n",
            "18/18 [==============================] - 0s 7ms/step - loss: 0.0647 - mae: 0.2227 - val_loss: 0.1003 - val_mae: 0.3132\n",
            "Epoch 294/500\n",
            "18/18 [==============================] - 0s 7ms/step - loss: 0.0805 - mae: 0.2338 - val_loss: 0.0242 - val_mae: 0.1421\n",
            "Epoch 295/500\n",
            "18/18 [==============================] - 0s 7ms/step - loss: 0.0548 - mae: 0.1892 - val_loss: 0.1628 - val_mae: 0.3989\n",
            "Epoch 296/500\n",
            "18/18 [==============================] - 0s 7ms/step - loss: 0.0669 - mae: 0.2274 - val_loss: 0.0376 - val_mae: 0.1741\n",
            "Epoch 297/500\n",
            "18/18 [==============================] - 0s 7ms/step - loss: 0.0462 - mae: 0.1612 - val_loss: 0.1323 - val_mae: 0.3547\n",
            "Epoch 298/500\n",
            "18/18 [==============================] - 0s 7ms/step - loss: 0.0466 - mae: 0.1458 - val_loss: 0.1321 - val_mae: 0.3548\n",
            "Epoch 299/500\n",
            "18/18 [==============================] - 0s 7ms/step - loss: 0.0467 - mae: 0.1807 - val_loss: 0.0573 - val_mae: 0.2222\n",
            "Epoch 300/500\n",
            "18/18 [==============================] - 0s 7ms/step - loss: 0.0648 - mae: 0.2049 - val_loss: 0.1699 - val_mae: 0.4058\n",
            "Epoch 301/500\n",
            "18/18 [==============================] - 0s 7ms/step - loss: 0.1170 - mae: 0.3046 - val_loss: 0.0339 - val_mae: 0.1635\n",
            "Epoch 302/500\n",
            "18/18 [==============================] - 0s 7ms/step - loss: 0.0383 - mae: 0.1488 - val_loss: 0.0745 - val_mae: 0.2633\n",
            "Epoch 303/500\n",
            "18/18 [==============================] - 0s 7ms/step - loss: 0.0412 - mae: 0.1803 - val_loss: 0.0871 - val_mae: 0.2881\n",
            "Epoch 304/500\n",
            "18/18 [==============================] - 0s 7ms/step - loss: 0.0708 - mae: 0.2448 - val_loss: 0.0372 - val_mae: 0.1763\n",
            "Epoch 305/500\n",
            "18/18 [==============================] - 0s 7ms/step - loss: 0.0464 - mae: 0.1950 - val_loss: 0.0636 - val_mae: 0.2419\n",
            "Epoch 306/500\n",
            "18/18 [==============================] - 0s 7ms/step - loss: 0.0497 - mae: 0.1774 - val_loss: 0.0089 - val_mae: 0.0914\n",
            "Epoch 307/500\n",
            "18/18 [==============================] - 0s 7ms/step - loss: 0.0530 - mae: 0.1808 - val_loss: 0.0882 - val_mae: 0.2874\n",
            "Epoch 308/500\n",
            "18/18 [==============================] - 0s 7ms/step - loss: 0.0525 - mae: 0.2005 - val_loss: 0.0915 - val_mae: 0.2935\n",
            "Epoch 309/500\n",
            "18/18 [==============================] - 0s 7ms/step - loss: 0.0562 - mae: 0.1968 - val_loss: 0.0192 - val_mae: 0.1101\n",
            "Epoch 310/500\n",
            "18/18 [==============================] - 0s 7ms/step - loss: 0.0513 - mae: 0.1923 - val_loss: 0.0619 - val_mae: 0.2385\n",
            "Epoch 311/500\n",
            "18/18 [==============================] - 0s 7ms/step - loss: 0.0445 - mae: 0.1884 - val_loss: 0.0093 - val_mae: 0.0845\n",
            "Epoch 312/500\n",
            "18/18 [==============================] - 0s 7ms/step - loss: 0.0605 - mae: 0.1863 - val_loss: 0.1266 - val_mae: 0.3502\n",
            "Epoch 313/500\n",
            "18/18 [==============================] - 0s 7ms/step - loss: 0.0557 - mae: 0.1848 - val_loss: 0.0181 - val_mae: 0.1110\n",
            "Epoch 314/500\n",
            "18/18 [==============================] - 0s 7ms/step - loss: 0.0398 - mae: 0.1611 - val_loss: 0.0180 - val_mae: 0.1156\n",
            "Epoch 315/500\n",
            "18/18 [==============================] - 0s 7ms/step - loss: 0.0788 - mae: 0.2493 - val_loss: 0.1306 - val_mae: 0.3586\n",
            "Epoch 316/500\n",
            "18/18 [==============================] - 0s 7ms/step - loss: 0.0809 - mae: 0.1992 - val_loss: 0.0662 - val_mae: 0.2541\n",
            "Epoch 317/500\n",
            "18/18 [==============================] - 0s 7ms/step - loss: 0.0667 - mae: 0.2309 - val_loss: 0.0168 - val_mae: 0.1186\n",
            "Epoch 318/500\n",
            "18/18 [==============================] - 0s 7ms/step - loss: 0.0314 - mae: 0.1406 - val_loss: 0.0521 - val_mae: 0.2208\n",
            "Epoch 319/500\n",
            "18/18 [==============================] - 0s 7ms/step - loss: 0.0519 - mae: 0.1648 - val_loss: 0.0057 - val_mae: 0.0657\n",
            "Epoch 320/500\n",
            "18/18 [==============================] - 0s 7ms/step - loss: 0.0674 - mae: 0.2227 - val_loss: 0.0179 - val_mae: 0.1146\n",
            "Epoch 321/500\n",
            "18/18 [==============================] - 0s 7ms/step - loss: 0.0457 - mae: 0.1719 - val_loss: 0.0903 - val_mae: 0.2939\n",
            "Epoch 322/500\n",
            "18/18 [==============================] - 0s 7ms/step - loss: 0.0532 - mae: 0.1975 - val_loss: 0.0211 - val_mae: 0.1190\n",
            "Epoch 323/500\n",
            "18/18 [==============================] - 0s 7ms/step - loss: 0.0466 - mae: 0.1978 - val_loss: 0.0439 - val_mae: 0.1963\n",
            "Epoch 324/500\n",
            "18/18 [==============================] - 0s 7ms/step - loss: 0.0291 - mae: 0.1266 - val_loss: 0.0683 - val_mae: 0.2532\n",
            "Epoch 325/500\n",
            "18/18 [==============================] - 0s 7ms/step - loss: 0.0476 - mae: 0.1922 - val_loss: 0.0331 - val_mae: 0.1684\n",
            "Epoch 326/500\n",
            "18/18 [==============================] - 0s 7ms/step - loss: 0.0412 - mae: 0.1363 - val_loss: 0.0352 - val_mae: 0.1742\n",
            "Epoch 327/500\n",
            "18/18 [==============================] - 0s 7ms/step - loss: 0.0384 - mae: 0.1604 - val_loss: 0.1385 - val_mae: 0.3676\n",
            "Epoch 328/500\n",
            "18/18 [==============================] - 0s 7ms/step - loss: 0.1019 - mae: 0.2663 - val_loss: 0.1028 - val_mae: 0.3167\n",
            "Epoch 329/500\n",
            "18/18 [==============================] - 0s 7ms/step - loss: 0.0911 - mae: 0.2555 - val_loss: 0.0479 - val_mae: 0.2109\n",
            "Epoch 330/500\n",
            "18/18 [==============================] - 0s 7ms/step - loss: 0.0405 - mae: 0.1640 - val_loss: 0.0991 - val_mae: 0.3099\n",
            "Epoch 331/500\n",
            "18/18 [==============================] - 0s 7ms/step - loss: 0.0427 - mae: 0.1467 - val_loss: 0.0045 - val_mae: 0.0657\n",
            "Epoch 332/500\n",
            "18/18 [==============================] - 0s 7ms/step - loss: 0.0389 - mae: 0.1716 - val_loss: 0.0861 - val_mae: 0.2910\n",
            "Epoch 333/500\n",
            "18/18 [==============================] - 0s 7ms/step - loss: 0.0518 - mae: 0.1975 - val_loss: 0.0494 - val_mae: 0.2192\n",
            "Epoch 334/500\n",
            "18/18 [==============================] - 0s 7ms/step - loss: 0.0499 - mae: 0.1758 - val_loss: 0.0026 - val_mae: 0.0494\n",
            "Epoch 335/500\n",
            "18/18 [==============================] - 0s 7ms/step - loss: 0.0417 - mae: 0.1700 - val_loss: 0.0332 - val_mae: 0.1755\n",
            "Epoch 336/500\n",
            "18/18 [==============================] - 0s 7ms/step - loss: 0.0332 - mae: 0.1413 - val_loss: 0.1019 - val_mae: 0.3157\n",
            "Epoch 337/500\n",
            "18/18 [==============================] - 0s 7ms/step - loss: 0.0446 - mae: 0.1844 - val_loss: 0.0374 - val_mae: 0.1862\n",
            "Epoch 338/500\n",
            "18/18 [==============================] - 0s 7ms/step - loss: 0.0283 - mae: 0.1263 - val_loss: 0.0722 - val_mae: 0.2638\n",
            "Epoch 339/500\n",
            "18/18 [==============================] - 0s 7ms/step - loss: 0.0531 - mae: 0.1889 - val_loss: 0.0153 - val_mae: 0.1052\n",
            "Epoch 340/500\n",
            "18/18 [==============================] - 0s 6ms/step - loss: 0.0547 - mae: 0.1792 - val_loss: 0.0060 - val_mae: 0.0594\n",
            "Epoch 341/500\n",
            "18/18 [==============================] - 0s 7ms/step - loss: 0.0715 - mae: 0.2169 - val_loss: 0.0157 - val_mae: 0.1121\n",
            "Epoch 342/500\n",
            "18/18 [==============================] - 0s 7ms/step - loss: 0.0686 - mae: 0.2191 - val_loss: 0.0363 - val_mae: 0.1823\n",
            "Epoch 343/500\n",
            "18/18 [==============================] - 0s 7ms/step - loss: 0.0439 - mae: 0.1668 - val_loss: 0.0446 - val_mae: 0.2030\n",
            "Epoch 344/500\n",
            "18/18 [==============================] - 0s 7ms/step - loss: 0.0480 - mae: 0.1842 - val_loss: 0.0281 - val_mae: 0.1550\n",
            "Epoch 345/500\n",
            "18/18 [==============================] - 0s 7ms/step - loss: 0.0506 - mae: 0.1827 - val_loss: 0.0109 - val_mae: 0.0755\n",
            "Epoch 346/500\n",
            "18/18 [==============================] - 0s 7ms/step - loss: 0.0416 - mae: 0.1685 - val_loss: 0.0062 - val_mae: 0.0691\n",
            "Epoch 347/500\n",
            "18/18 [==============================] - 0s 7ms/step - loss: 0.0765 - mae: 0.2312 - val_loss: 0.0742 - val_mae: 0.2695\n",
            "Epoch 348/500\n",
            "18/18 [==============================] - 0s 7ms/step - loss: 0.0521 - mae: 0.1807 - val_loss: 0.0047 - val_mae: 0.0490\n",
            "Epoch 349/500\n",
            "18/18 [==============================] - 0s 6ms/step - loss: 0.0483 - mae: 0.1597 - val_loss: 0.0824 - val_mae: 0.2847\n",
            "Epoch 350/500\n",
            "18/18 [==============================] - 0s 7ms/step - loss: 0.0559 - mae: 0.2084 - val_loss: 0.0281 - val_mae: 0.1632\n",
            "Epoch 351/500\n",
            "18/18 [==============================] - 0s 7ms/step - loss: 0.0360 - mae: 0.1705 - val_loss: 0.0290 - val_mae: 0.1656\n",
            "Epoch 352/500\n",
            "18/18 [==============================] - 0s 7ms/step - loss: 0.0291 - mae: 0.1361 - val_loss: 0.0574 - val_mae: 0.2364\n",
            "Epoch 353/500\n",
            "18/18 [==============================] - 0s 7ms/step - loss: 0.0378 - mae: 0.1663 - val_loss: 0.0103 - val_mae: 0.0792\n",
            "Epoch 354/500\n",
            "18/18 [==============================] - 0s 14ms/step - loss: 0.0496 - mae: 0.1719 - val_loss: 0.0457 - val_mae: 0.1996\n",
            "Epoch 355/500\n",
            "18/18 [==============================] - 0s 7ms/step - loss: 0.0324 - mae: 0.1533 - val_loss: 0.1059 - val_mae: 0.3167\n",
            "Epoch 356/500\n",
            "18/18 [==============================] - 0s 7ms/step - loss: 0.0877 - mae: 0.2670 - val_loss: 0.0126 - val_mae: 0.0813\n",
            "Epoch 357/500\n",
            "18/18 [==============================] - 0s 7ms/step - loss: 0.0346 - mae: 0.1423 - val_loss: 0.0455 - val_mae: 0.2014\n",
            "Epoch 358/500\n",
            "18/18 [==============================] - 0s 7ms/step - loss: 0.0376 - mae: 0.1769 - val_loss: 0.0516 - val_mae: 0.2193\n",
            "Epoch 359/500\n",
            "18/18 [==============================] - 0s 7ms/step - loss: 0.0446 - mae: 0.1897 - val_loss: 0.0059 - val_mae: 0.0766\n",
            "Epoch 360/500\n",
            "18/18 [==============================] - 0s 7ms/step - loss: 0.0727 - mae: 0.2295 - val_loss: 0.0108 - val_mae: 0.0744\n",
            "Epoch 361/500\n",
            "18/18 [==============================] - 0s 7ms/step - loss: 0.1175 - mae: 0.2886 - val_loss: 0.0347 - val_mae: 0.1729\n",
            "Epoch 362/500\n",
            "18/18 [==============================] - 0s 7ms/step - loss: 0.0399 - mae: 0.1653 - val_loss: 0.0718 - val_mae: 0.2607\n",
            "Epoch 363/500\n",
            "18/18 [==============================] - 0s 7ms/step - loss: 0.0329 - mae: 0.1417 - val_loss: 0.0746 - val_mae: 0.2664\n",
            "Epoch 364/500\n",
            "18/18 [==============================] - 0s 7ms/step - loss: 0.0692 - mae: 0.2038 - val_loss: 0.0615 - val_mae: 0.2423\n",
            "Epoch 365/500\n",
            "18/18 [==============================] - 0s 7ms/step - loss: 0.0373 - mae: 0.1717 - val_loss: 0.0271 - val_mae: 0.1534\n",
            "Epoch 366/500\n",
            "18/18 [==============================] - 0s 7ms/step - loss: 0.0433 - mae: 0.1691 - val_loss: 0.0060 - val_mae: 0.0715\n",
            "Epoch 367/500\n",
            "18/18 [==============================] - 0s 7ms/step - loss: 0.0809 - mae: 0.2279 - val_loss: 0.0140 - val_mae: 0.0988\n",
            "Epoch 368/500\n",
            "18/18 [==============================] - 0s 6ms/step - loss: 0.0292 - mae: 0.1272 - val_loss: 0.1003 - val_mae: 0.3110\n",
            "Epoch 369/500\n",
            "18/18 [==============================] - 0s 7ms/step - loss: 0.0232 - mae: 0.1228 - val_loss: 0.0114 - val_mae: 0.0782\n",
            "Epoch 370/500\n",
            "18/18 [==============================] - 0s 7ms/step - loss: 0.0366 - mae: 0.1484 - val_loss: 0.0310 - val_mae: 0.1617\n",
            "Epoch 371/500\n",
            "18/18 [==============================] - 0s 7ms/step - loss: 0.0409 - mae: 0.1659 - val_loss: 0.1095 - val_mae: 0.3248\n",
            "Epoch 372/500\n",
            "18/18 [==============================] - 0s 7ms/step - loss: 0.0423 - mae: 0.1749 - val_loss: 0.0682 - val_mae: 0.2507\n",
            "Epoch 373/500\n",
            "18/18 [==============================] - 0s 7ms/step - loss: 0.0355 - mae: 0.1493 - val_loss: 0.0179 - val_mae: 0.1058\n",
            "Epoch 374/500\n",
            "18/18 [==============================] - 0s 8ms/step - loss: 0.0414 - mae: 0.1662 - val_loss: 0.0091 - val_mae: 0.0911\n",
            "Epoch 375/500\n",
            "18/18 [==============================] - 0s 7ms/step - loss: 0.0767 - mae: 0.2292 - val_loss: 0.1314 - val_mae: 0.3552\n",
            "Epoch 376/500\n",
            "18/18 [==============================] - 0s 7ms/step - loss: 0.0648 - mae: 0.2085 - val_loss: 0.0915 - val_mae: 0.2923\n",
            "Epoch 377/500\n",
            "18/18 [==============================] - 0s 7ms/step - loss: 0.0484 - mae: 0.1605 - val_loss: 0.0110 - val_mae: 0.0866\n",
            "Epoch 378/500\n",
            "18/18 [==============================] - 0s 7ms/step - loss: 0.0608 - mae: 0.2316 - val_loss: 0.0105 - val_mae: 0.1007\n",
            "Epoch 379/500\n",
            "18/18 [==============================] - 0s 7ms/step - loss: 0.0522 - mae: 0.1697 - val_loss: 0.1849 - val_mae: 0.4229\n",
            "Epoch 380/500\n",
            "18/18 [==============================] - 0s 7ms/step - loss: 0.0723 - mae: 0.2149 - val_loss: 0.0410 - val_mae: 0.1899\n",
            "Epoch 381/500\n",
            "18/18 [==============================] - 0s 7ms/step - loss: 0.0324 - mae: 0.1362 - val_loss: 0.0271 - val_mae: 0.1474\n",
            "Epoch 382/500\n",
            "18/18 [==============================] - 0s 7ms/step - loss: 0.0317 - mae: 0.1329 - val_loss: 0.0316 - val_mae: 0.1603\n",
            "Epoch 383/500\n",
            "18/18 [==============================] - 0s 7ms/step - loss: 0.0472 - mae: 0.1828 - val_loss: 0.0126 - val_mae: 0.0912\n",
            "Epoch 384/500\n",
            "18/18 [==============================] - 0s 7ms/step - loss: 0.0395 - mae: 0.1696 - val_loss: 0.0808 - val_mae: 0.2721\n",
            "Epoch 385/500\n",
            "18/18 [==============================] - 0s 7ms/step - loss: 0.0336 - mae: 0.1544 - val_loss: 0.0293 - val_mae: 0.1425\n",
            "Epoch 386/500\n",
            "18/18 [==============================] - 0s 7ms/step - loss: 0.0614 - mae: 0.2169 - val_loss: 0.0530 - val_mae: 0.2121\n",
            "Epoch 387/500\n",
            "18/18 [==============================] - 0s 7ms/step - loss: 0.0257 - mae: 0.1238 - val_loss: 0.0546 - val_mae: 0.2189\n",
            "Epoch 388/500\n",
            "18/18 [==============================] - 0s 7ms/step - loss: 0.0559 - mae: 0.2016 - val_loss: 0.0425 - val_mae: 0.1881\n",
            "Epoch 389/500\n",
            "18/18 [==============================] - 0s 7ms/step - loss: 0.0328 - mae: 0.1354 - val_loss: 0.1042 - val_mae: 0.3145\n",
            "Epoch 390/500\n",
            "18/18 [==============================] - 0s 7ms/step - loss: 0.0667 - mae: 0.2136 - val_loss: 0.0468 - val_mae: 0.2006\n",
            "Epoch 391/500\n",
            "18/18 [==============================] - 0s 7ms/step - loss: 0.0405 - mae: 0.1704 - val_loss: 0.0149 - val_mae: 0.0928\n",
            "Epoch 392/500\n",
            "18/18 [==============================] - 0s 7ms/step - loss: 0.0596 - mae: 0.1959 - val_loss: 0.0279 - val_mae: 0.1462\n",
            "Epoch 393/500\n",
            "18/18 [==============================] - 0s 7ms/step - loss: 0.0379 - mae: 0.1637 - val_loss: 0.0950 - val_mae: 0.3022\n",
            "Epoch 394/500\n",
            "18/18 [==============================] - 0s 7ms/step - loss: 0.0624 - mae: 0.2215 - val_loss: 0.0529 - val_mae: 0.2196\n",
            "Epoch 395/500\n",
            "18/18 [==============================] - 0s 7ms/step - loss: 0.0278 - mae: 0.1369 - val_loss: 0.0072 - val_mae: 0.0760\n",
            "Epoch 396/500\n",
            "18/18 [==============================] - 0s 7ms/step - loss: 0.0294 - mae: 0.1511 - val_loss: 0.0236 - val_mae: 0.1370\n",
            "Epoch 397/500\n",
            "18/18 [==============================] - 0s 7ms/step - loss: 0.0342 - mae: 0.1542 - val_loss: 0.0700 - val_mae: 0.2542\n",
            "Epoch 398/500\n",
            "18/18 [==============================] - 0s 7ms/step - loss: 0.0476 - mae: 0.1683 - val_loss: 0.0770 - val_mae: 0.2695\n",
            "Epoch 399/500\n",
            "18/18 [==============================] - 0s 7ms/step - loss: 0.0658 - mae: 0.2121 - val_loss: 0.0520 - val_mae: 0.2177\n",
            "Epoch 400/500\n",
            "18/18 [==============================] - 0s 7ms/step - loss: 0.0533 - mae: 0.1995 - val_loss: 0.0169 - val_mae: 0.0981\n",
            "Epoch 401/500\n",
            "18/18 [==============================] - 0s 7ms/step - loss: 0.0466 - mae: 0.1774 - val_loss: 0.0122 - val_mae: 0.0924\n",
            "Epoch 402/500\n",
            "18/18 [==============================] - 0s 7ms/step - loss: 0.0577 - mae: 0.2117 - val_loss: 0.1081 - val_mae: 0.3224\n",
            "Epoch 403/500\n",
            "18/18 [==============================] - 0s 7ms/step - loss: 0.0256 - mae: 0.1235 - val_loss: 0.0655 - val_mae: 0.2491\n",
            "Epoch 404/500\n",
            "18/18 [==============================] - 0s 7ms/step - loss: 0.0464 - mae: 0.1875 - val_loss: 0.0079 - val_mae: 0.0879\n",
            "Epoch 405/500\n",
            "18/18 [==============================] - 0s 7ms/step - loss: 0.0378 - mae: 0.1226 - val_loss: 0.0899 - val_mae: 0.2903\n",
            "Epoch 406/500\n",
            "18/18 [==============================] - 0s 7ms/step - loss: 0.0653 - mae: 0.1979 - val_loss: 0.0746 - val_mae: 0.2633\n",
            "Epoch 407/500\n",
            "18/18 [==============================] - 0s 7ms/step - loss: 0.0347 - mae: 0.1663 - val_loss: 0.0288 - val_mae: 0.1532\n",
            "Epoch 408/500\n",
            "18/18 [==============================] - 0s 7ms/step - loss: 0.0463 - mae: 0.1916 - val_loss: 0.0800 - val_mae: 0.2770\n",
            "Epoch 409/500\n",
            "18/18 [==============================] - 0s 7ms/step - loss: 0.0540 - mae: 0.1953 - val_loss: 0.1194 - val_mae: 0.3431\n",
            "Epoch 410/500\n",
            "18/18 [==============================] - 0s 7ms/step - loss: 0.0915 - mae: 0.2494 - val_loss: 0.0080 - val_mae: 0.0688\n",
            "Epoch 411/500\n",
            "18/18 [==============================] - 0s 7ms/step - loss: 0.0233 - mae: 0.1206 - val_loss: 0.0110 - val_mae: 0.0766\n",
            "Epoch 412/500\n",
            "18/18 [==============================] - 0s 7ms/step - loss: 0.0264 - mae: 0.1276 - val_loss: 0.1853 - val_mae: 0.4283\n",
            "Epoch 413/500\n",
            "18/18 [==============================] - 0s 7ms/step - loss: 0.1073 - mae: 0.2692 - val_loss: 0.0186 - val_mae: 0.1160\n",
            "Epoch 414/500\n",
            "18/18 [==============================] - 0s 7ms/step - loss: 0.0330 - mae: 0.1347 - val_loss: 0.0248 - val_mae: 0.1430\n",
            "Epoch 415/500\n",
            "18/18 [==============================] - 0s 7ms/step - loss: 0.0426 - mae: 0.1719 - val_loss: 0.0145 - val_mae: 0.0926\n",
            "Epoch 416/500\n",
            "18/18 [==============================] - 0s 7ms/step - loss: 0.0559 - mae: 0.1829 - val_loss: 0.0072 - val_mae: 0.0795\n",
            "Epoch 417/500\n",
            "18/18 [==============================] - 0s 7ms/step - loss: 0.0613 - mae: 0.2250 - val_loss: 0.0173 - val_mae: 0.1061\n",
            "Epoch 418/500\n",
            "18/18 [==============================] - 0s 14ms/step - loss: 0.0473 - mae: 0.1604 - val_loss: 0.0223 - val_mae: 0.1338\n",
            "Epoch 419/500\n",
            "18/18 [==============================] - 0s 7ms/step - loss: 0.0193 - mae: 0.1046 - val_loss: 0.0730 - val_mae: 0.2645\n",
            "Epoch 420/500\n",
            "18/18 [==============================] - 0s 7ms/step - loss: 0.0347 - mae: 0.1542 - val_loss: 0.0091 - val_mae: 0.0777\n",
            "Epoch 421/500\n",
            "18/18 [==============================] - 0s 7ms/step - loss: 0.0584 - mae: 0.1860 - val_loss: 0.0793 - val_mae: 0.2751\n",
            "Epoch 422/500\n",
            "18/18 [==============================] - 0s 7ms/step - loss: 0.0410 - mae: 0.1554 - val_loss: 0.0872 - val_mae: 0.2887\n",
            "Epoch 423/500\n",
            "18/18 [==============================] - 0s 7ms/step - loss: 0.0523 - mae: 0.1896 - val_loss: 0.0261 - val_mae: 0.1358\n",
            "Epoch 424/500\n",
            "18/18 [==============================] - 0s 7ms/step - loss: 0.0468 - mae: 0.1598 - val_loss: 0.0195 - val_mae: 0.1052\n",
            "Epoch 425/500\n",
            "18/18 [==============================] - 0s 7ms/step - loss: 0.0573 - mae: 0.2117 - val_loss: 0.0074 - val_mae: 0.0843\n",
            "Epoch 426/500\n",
            "18/18 [==============================] - 0s 7ms/step - loss: 0.0615 - mae: 0.2074 - val_loss: 0.0080 - val_mae: 0.0727\n",
            "Epoch 427/500\n",
            "18/18 [==============================] - 0s 7ms/step - loss: 0.0375 - mae: 0.1573 - val_loss: 0.0635 - val_mae: 0.2462\n",
            "Epoch 428/500\n",
            "18/18 [==============================] - 0s 7ms/step - loss: 0.0710 - mae: 0.2231 - val_loss: 0.0662 - val_mae: 0.2516\n",
            "Epoch 429/500\n",
            "18/18 [==============================] - 0s 7ms/step - loss: 0.0425 - mae: 0.1523 - val_loss: 0.0417 - val_mae: 0.1899\n",
            "Epoch 430/500\n",
            "18/18 [==============================] - 0s 7ms/step - loss: 0.0305 - mae: 0.1350 - val_loss: 0.0311 - val_mae: 0.1576\n",
            "Epoch 431/500\n",
            "18/18 [==============================] - 0s 7ms/step - loss: 0.0251 - mae: 0.1184 - val_loss: 0.0336 - val_mae: 0.1699\n",
            "Epoch 432/500\n",
            "18/18 [==============================] - 0s 7ms/step - loss: 0.0317 - mae: 0.1432 - val_loss: 0.0487 - val_mae: 0.2107\n",
            "Epoch 433/500\n",
            "18/18 [==============================] - 0s 7ms/step - loss: 0.0404 - mae: 0.1588 - val_loss: 0.0357 - val_mae: 0.1743\n",
            "Epoch 434/500\n",
            "18/18 [==============================] - 0s 6ms/step - loss: 0.0489 - mae: 0.1811 - val_loss: 0.0145 - val_mae: 0.0900\n",
            "Epoch 435/500\n",
            "18/18 [==============================] - 0s 7ms/step - loss: 0.0194 - mae: 0.1187 - val_loss: 0.0212 - val_mae: 0.1184\n",
            "Epoch 436/500\n",
            "18/18 [==============================] - 0s 7ms/step - loss: 0.0588 - mae: 0.1872 - val_loss: 0.0831 - val_mae: 0.2802\n",
            "Epoch 437/500\n",
            "18/18 [==============================] - 0s 7ms/step - loss: 0.0298 - mae: 0.1460 - val_loss: 0.0099 - val_mae: 0.0934\n",
            "Epoch 438/500\n",
            "18/18 [==============================] - 0s 7ms/step - loss: 0.0486 - mae: 0.1875 - val_loss: 0.0237 - val_mae: 0.1260\n",
            "Epoch 439/500\n",
            "18/18 [==============================] - 0s 7ms/step - loss: 0.0265 - mae: 0.1437 - val_loss: 0.0292 - val_mae: 0.1462\n",
            "Epoch 440/500\n",
            "18/18 [==============================] - 0s 7ms/step - loss: 0.0355 - mae: 0.1713 - val_loss: 0.0225 - val_mae: 0.1201\n",
            "Epoch 441/500\n",
            "18/18 [==============================] - 0s 8ms/step - loss: 0.0375 - mae: 0.1631 - val_loss: 0.0225 - val_mae: 0.1253\n",
            "Epoch 442/500\n",
            "18/18 [==============================] - 0s 7ms/step - loss: 0.0363 - mae: 0.1431 - val_loss: 0.1107 - val_mae: 0.3240\n",
            "Epoch 443/500\n",
            "18/18 [==============================] - 0s 7ms/step - loss: 0.0470 - mae: 0.1929 - val_loss: 0.0512 - val_mae: 0.2090\n",
            "Epoch 444/500\n",
            "18/18 [==============================] - 0s 7ms/step - loss: 0.0510 - mae: 0.2028 - val_loss: 0.0129 - val_mae: 0.1026\n",
            "Epoch 445/500\n",
            "18/18 [==============================] - 0s 7ms/step - loss: 0.0294 - mae: 0.1401 - val_loss: 0.1695 - val_mae: 0.4038\n",
            "Epoch 446/500\n",
            "18/18 [==============================] - 0s 7ms/step - loss: 0.0585 - mae: 0.1929 - val_loss: 0.0402 - val_mae: 0.1701\n",
            "Epoch 447/500\n",
            "18/18 [==============================] - 0s 7ms/step - loss: 0.0343 - mae: 0.1585 - val_loss: 0.0257 - val_mae: 0.1230\n",
            "Epoch 448/500\n",
            "18/18 [==============================] - 0s 7ms/step - loss: 0.0351 - mae: 0.1652 - val_loss: 0.0620 - val_mae: 0.2321\n",
            "Epoch 449/500\n",
            "18/18 [==============================] - 0s 7ms/step - loss: 0.0254 - mae: 0.1274 - val_loss: 0.0240 - val_mae: 0.1177\n",
            "Epoch 450/500\n",
            "18/18 [==============================] - 0s 7ms/step - loss: 0.0668 - mae: 0.2226 - val_loss: 0.0212 - val_mae: 0.1182\n",
            "Epoch 451/500\n",
            "18/18 [==============================] - 0s 7ms/step - loss: 0.0430 - mae: 0.1504 - val_loss: 0.0203 - val_mae: 0.1200\n",
            "Epoch 452/500\n",
            "18/18 [==============================] - 0s 7ms/step - loss: 0.0455 - mae: 0.1985 - val_loss: 0.0527 - val_mae: 0.2184\n",
            "Epoch 453/500\n",
            "18/18 [==============================] - 0s 7ms/step - loss: 0.0274 - mae: 0.1450 - val_loss: 0.0188 - val_mae: 0.1015\n",
            "Epoch 454/500\n",
            "18/18 [==============================] - 0s 7ms/step - loss: 0.0260 - mae: 0.1287 - val_loss: 0.0328 - val_mae: 0.1599\n",
            "Epoch 455/500\n",
            "18/18 [==============================] - 0s 7ms/step - loss: 0.0220 - mae: 0.1094 - val_loss: 0.0373 - val_mae: 0.1753\n",
            "Epoch 456/500\n",
            "18/18 [==============================] - 0s 7ms/step - loss: 0.0411 - mae: 0.1789 - val_loss: 0.0095 - val_mae: 0.0822\n",
            "Epoch 457/500\n",
            "18/18 [==============================] - 0s 7ms/step - loss: 0.0285 - mae: 0.1371 - val_loss: 0.0528 - val_mae: 0.2210\n",
            "Epoch 458/500\n",
            "18/18 [==============================] - 0s 7ms/step - loss: 0.0415 - mae: 0.1820 - val_loss: 0.0095 - val_mae: 0.0728\n",
            "Epoch 459/500\n",
            "18/18 [==============================] - 0s 7ms/step - loss: 0.0521 - mae: 0.1840 - val_loss: 0.0118 - val_mae: 0.0846\n",
            "Epoch 460/500\n",
            "18/18 [==============================] - 0s 7ms/step - loss: 0.0512 - mae: 0.1895 - val_loss: 0.0419 - val_mae: 0.1955\n",
            "Epoch 461/500\n",
            "18/18 [==============================] - 0s 7ms/step - loss: 0.0326 - mae: 0.1414 - val_loss: 0.0140 - val_mae: 0.0946\n",
            "Epoch 462/500\n",
            "18/18 [==============================] - 0s 7ms/step - loss: 0.0342 - mae: 0.1529 - val_loss: 0.1268 - val_mae: 0.3509\n",
            "Epoch 463/500\n",
            "18/18 [==============================] - 0s 7ms/step - loss: 0.0268 - mae: 0.1348 - val_loss: 0.0186 - val_mae: 0.1021\n",
            "Epoch 464/500\n",
            "18/18 [==============================] - 0s 7ms/step - loss: 0.0401 - mae: 0.1599 - val_loss: 0.0110 - val_mae: 0.0904\n",
            "Epoch 465/500\n",
            "18/18 [==============================] - 0s 7ms/step - loss: 0.0405 - mae: 0.1565 - val_loss: 0.0236 - val_mae: 0.1328\n",
            "Epoch 466/500\n",
            "18/18 [==============================] - 0s 7ms/step - loss: 0.0129 - mae: 0.0985 - val_loss: 0.0370 - val_mae: 0.1743\n",
            "Epoch 467/500\n",
            "18/18 [==============================] - 0s 7ms/step - loss: 0.0263 - mae: 0.1180 - val_loss: 0.1222 - val_mae: 0.3416\n",
            "Epoch 468/500\n",
            "18/18 [==============================] - 0s 7ms/step - loss: 0.0337 - mae: 0.1608 - val_loss: 0.0508 - val_mae: 0.2044\n",
            "Epoch 469/500\n",
            "18/18 [==============================] - 0s 7ms/step - loss: 0.0332 - mae: 0.1344 - val_loss: 0.0316 - val_mae: 0.1453\n",
            "Epoch 470/500\n",
            "18/18 [==============================] - 0s 14ms/step - loss: 0.0163 - mae: 0.1034 - val_loss: 0.1207 - val_mae: 0.3385\n",
            "Epoch 471/500\n",
            "18/18 [==============================] - 0s 7ms/step - loss: 0.0822 - mae: 0.2413 - val_loss: 0.0642 - val_mae: 0.2413\n",
            "Epoch 472/500\n",
            "18/18 [==============================] - 0s 7ms/step - loss: 0.0859 - mae: 0.2338 - val_loss: 0.0396 - val_mae: 0.1780\n",
            "Epoch 473/500\n",
            "18/18 [==============================] - 0s 7ms/step - loss: 0.0578 - mae: 0.2025 - val_loss: 0.0212 - val_mae: 0.1035\n",
            "Epoch 474/500\n",
            "18/18 [==============================] - 0s 7ms/step - loss: 0.0672 - mae: 0.2349 - val_loss: 0.0111 - val_mae: 0.1043\n",
            "Epoch 475/500\n",
            "18/18 [==============================] - 0s 7ms/step - loss: 0.0625 - mae: 0.2109 - val_loss: 0.0262 - val_mae: 0.1299\n",
            "Epoch 476/500\n",
            "18/18 [==============================] - 0s 7ms/step - loss: 0.0308 - mae: 0.1493 - val_loss: 0.0525 - val_mae: 0.2172\n",
            "Epoch 477/500\n",
            "18/18 [==============================] - 0s 7ms/step - loss: 0.0545 - mae: 0.1902 - val_loss: 0.0858 - val_mae: 0.2832\n",
            "Epoch 478/500\n",
            "18/18 [==============================] - 0s 7ms/step - loss: 0.0372 - mae: 0.1817 - val_loss: 0.0265 - val_mae: 0.1316\n",
            "Epoch 479/500\n",
            "18/18 [==============================] - 0s 7ms/step - loss: 0.0375 - mae: 0.1535 - val_loss: 0.0385 - val_mae: 0.1765\n",
            "Epoch 480/500\n",
            "18/18 [==============================] - 0s 7ms/step - loss: 0.0282 - mae: 0.1283 - val_loss: 0.0286 - val_mae: 0.1494\n",
            "Epoch 481/500\n",
            "18/18 [==============================] - 0s 7ms/step - loss: 0.0313 - mae: 0.1470 - val_loss: 0.1028 - val_mae: 0.3133\n",
            "Epoch 482/500\n",
            "18/18 [==============================] - 0s 7ms/step - loss: 0.0502 - mae: 0.1941 - val_loss: 0.0254 - val_mae: 0.1323\n",
            "Epoch 483/500\n",
            "18/18 [==============================] - 0s 7ms/step - loss: 0.0427 - mae: 0.1721 - val_loss: 0.0502 - val_mae: 0.2068\n",
            "Epoch 484/500\n",
            "18/18 [==============================] - 0s 7ms/step - loss: 0.0293 - mae: 0.1426 - val_loss: 0.0213 - val_mae: 0.1130\n",
            "Epoch 485/500\n",
            "18/18 [==============================] - 0s 7ms/step - loss: 0.0206 - mae: 0.1329 - val_loss: 0.0771 - val_mae: 0.2657\n",
            "Epoch 486/500\n",
            "18/18 [==============================] - 0s 7ms/step - loss: 0.0182 - mae: 0.1197 - val_loss: 0.0546 - val_mae: 0.2196\n",
            "Epoch 487/500\n",
            "18/18 [==============================] - 0s 7ms/step - loss: 0.0452 - mae: 0.1822 - val_loss: 0.0163 - val_mae: 0.0917\n",
            "Epoch 488/500\n",
            "18/18 [==============================] - 0s 7ms/step - loss: 0.0271 - mae: 0.1358 - val_loss: 0.0748 - val_mae: 0.2602\n",
            "Epoch 489/500\n",
            "18/18 [==============================] - 0s 7ms/step - loss: 0.0220 - mae: 0.1199 - val_loss: 0.0524 - val_mae: 0.2131\n",
            "Epoch 490/500\n",
            "18/18 [==============================] - 0s 7ms/step - loss: 0.0230 - mae: 0.1237 - val_loss: 0.0210 - val_mae: 0.1134\n",
            "Epoch 491/500\n",
            "18/18 [==============================] - 0s 7ms/step - loss: 0.0344 - mae: 0.1623 - val_loss: 0.0108 - val_mae: 0.0968\n",
            "Epoch 492/500\n",
            "18/18 [==============================] - 0s 7ms/step - loss: 0.0250 - mae: 0.1310 - val_loss: 0.0336 - val_mae: 0.1648\n",
            "Epoch 493/500\n",
            "18/18 [==============================] - 0s 7ms/step - loss: 0.0381 - mae: 0.1349 - val_loss: 0.2110 - val_mae: 0.4548\n",
            "Epoch 494/500\n",
            "18/18 [==============================] - 0s 7ms/step - loss: 0.0814 - mae: 0.2368 - val_loss: 0.0681 - val_mae: 0.2505\n",
            "Epoch 495/500\n",
            "18/18 [==============================] - 0s 7ms/step - loss: 0.0247 - mae: 0.1302 - val_loss: 0.0104 - val_mae: 0.0756\n",
            "Epoch 496/500\n",
            "18/18 [==============================] - 0s 7ms/step - loss: 0.0402 - mae: 0.1581 - val_loss: 0.0212 - val_mae: 0.1338\n",
            "Epoch 497/500\n",
            "18/18 [==============================] - 0s 7ms/step - loss: 0.0182 - mae: 0.1012 - val_loss: 0.0082 - val_mae: 0.0655\n",
            "Epoch 498/500\n",
            "18/18 [==============================] - 0s 7ms/step - loss: 0.0501 - mae: 0.1911 - val_loss: 0.0417 - val_mae: 0.1910\n",
            "Epoch 499/500\n",
            "18/18 [==============================] - 0s 7ms/step - loss: 0.0237 - mae: 0.1275 - val_loss: 0.0123 - val_mae: 0.0921\n",
            "Epoch 500/500\n",
            "18/18 [==============================] - 0s 7ms/step - loss: 0.0553 - mae: 0.1939 - val_loss: 0.0561 - val_mae: 0.2213\n"
          ],
          "name": "stdout"
        }
      ]
    },
    {
      "cell_type": "code",
      "metadata": {
        "id": "QCD5i_1wf-Q-",
        "colab": {
          "base_uri": "https://localhost:8080/",
          "height": 295
        },
        "outputId": "e5255a55-9238-4008-b572-ba3d4f31d915"
      },
      "source": [
        "plt.semilogy(history.history['loss'])\n",
        "plt.semilogy(history.history['val_loss'])\n",
        "plt.title('Loss vs Epochs')\n",
        "plt.ylabel('Loss')\n",
        "plt.yscale('log')\n",
        "plt.xlabel('epoch')\n",
        "plt.legend(['train', 'val'], loc='upper left')\n",
        "plt.show()"
      ],
      "execution_count": 134,
      "outputs": [
        {
          "output_type": "display_data",
          "data": {
            "image/png": "[encoded data removed]",
            "text/plain": [
              "<Figure size 432x288 with 1 Axes>"
            ]
          },
          "metadata": {
            "tags": [],
            "needs_background": "light"
          }
        }
      ]
    },
    {
      "cell_type": "code",
      "metadata": {
        "id": "Fq94hhs0f-Q_",
        "colab": {
          "base_uri": "https://localhost:8080/"
        },
        "outputId": "9f95096f-c228-428e-d9ce-b87ab998e7b8"
      },
      "source": [
        "predictions_all = model.predict(x)\n",
        "predictions_train = model.predict(X_train)\n",
        "predictions_test = model.predict(X_test)"
      ],
      "execution_count": 135,
      "outputs": [
        {
          "output_type": "stream",
          "text": [
            "WARNING:tensorflow:5 out of the last 10 calls to <function Model.make_predict_function.<locals>.predict_function at 0x7f52f0c2a268> triggered tf.function retracing. Tracing is expensive and the excessive number of tracings could be due to (1) creating @tf.function repeatedly in a loop, (2) passing tensors with different shapes, (3) passing Python objects instead of tensors. For (1), please define your @tf.function outside of the loop. For (2), @tf.function has experimental_relax_shapes=True option that relaxes argument shapes that can avoid unnecessary retracing. For (3), please refer to https://www.tensorflow.org/guide/function#controlling_retracing and https://www.tensorflow.org/api_docs/python/tf/function for  more details.\n"
          ],
          "name": "stdout"
        }
      ]
    },
    {
      "cell_type": "code",
      "metadata": {
        "id": "acjwVhl7f-Q_",
        "colab": {
          "base_uri": "https://localhost:8080/",
          "height": 294
        },
        "outputId": "30d97ea0-39e6-4414-ce05-fbacf2fcb0e3"
      },
      "source": [
        "xlim = 1\n",
        "x = np.linspace(0,xlim,100)\n",
        "plt.plot(x, x)\n",
        "\n",
        "# x = np.linspace(1,1,10)\n",
        "plt.scatter(predictions_all,y)\n",
        "# plt.plot(x,x)"
      ],
      "execution_count": 141,
      "outputs": [
        {
          "output_type": "execute_result",
          "data": {
            "text/plain": [
              "<matplotlib.collections.PathCollection at 0x7f53423cadd8>"
            ]
          },
          "metadata": {
            "tags": []
          },
          "execution_count": 141
        },
        {
          "output_type": "display_data",
          "data": {
            "image/png": "[encoded data removed]",
            "text/plain": [
              "<Figure size 432x288 with 1 Axes>"
            ]
          },
          "metadata": {
            "tags": [],
            "needs_background": "light"
          }
        }
      ]
    },
    {
      "cell_type": "code",
      "metadata": {
        "id": "FOALfuzcf-RA"
      },
      "source": [
        "import seaborn as snsn"
      ],
      "execution_count": 137,
      "outputs": []
    },
    {
      "cell_type": "code",
      "metadata": {
        "id": "JV2Z23cMf-RA",
        "colab": {
          "base_uri": "https://localhost:8080/",
          "height": 763
        },
        "outputId": "d0341f15-1521-4066-d4af-0d822dc671e6"
      },
      "source": [
        "import seaborn as sns\n",
        "fig,ax=plt.subplots(figsize=(8,6))\n",
        "sns.kdeplot(predictions_test.ravel(),label=\"\",ax=ax,c='b')\n",
        "sns.kdeplot(y_test.ravel(),label=\"\",ax=ax,c='g')\n",
        "ax.legend(['Actual','Pred'],fontsize=14)\n",
        "ax.title.set_text('Test_set')\n",
        "\n",
        "fig,ax=plt.subplots(figsize=(8,6))\n",
        "sns.kdeplot(predictions_train.ravel(),label=\"\",ax=ax,c='b')\n",
        "sns.kdeplot(y_train.ravel(),label=\"\",ax=ax,c='g')\n",
        "ax.legend(['Actual','Pred'],fontsize=14)\n",
        "ax.title.set_text('Test_set')\n"
      ],
      "execution_count": 138,
      "outputs": [
        {
          "output_type": "display_data",
          "data": {
            "image/png": "[encoded data removed]",
            "text/plain": [
              "<Figure size 576x432 with 1 Axes>"
            ]
          },
          "metadata": {
            "tags": [],
            "needs_background": "light"
          }
        },
        {
          "output_type": "display_data",
          "data": {
            "image/png": "[encoded data removed]",
            "text/plain": [
              "<Figure size 576x432 with 1 Axes>"
            ]
          },
          "metadata": {
            "tags": [],
            "needs_background": "light"
          }
        }
      ]
    },
    {
      "cell_type": "code",
      "metadata": {
        "id": "WQnuPsSLf-RB",
        "colab": {
          "base_uri": "https://localhost:8080/"
        },
        "outputId": "d2dbd1ae-3379-4863-a002-03125a3e56dd"
      },
      "source": [
        "sns.kdeplot(y,label=\"\",ax=ax,c='b')"
      ],
      "execution_count": 139,
      "outputs": [
        {
          "output_type": "execute_result",
          "data": {
            "text/plain": [
              "<matplotlib.axes._subplots.AxesSubplot at 0x7f539a417be0>"
            ]
          },
          "metadata": {
            "tags": []
          },
          "execution_count": 139
        }
      ]
    },
    {
      "cell_type": "code",
      "metadata": {
        "id": "ZxIDnQTZf-RB",
        "colab": {
          "base_uri": "https://localhost:8080/",
          "height": 403
        },
        "outputId": "10c0e8a7-93ba-4657-e4b4-d76de78af69f"
      },
      "source": [
        "fig,ax=plt.subplots(figsize=(8,6))\n",
        "sns.kdeplot(y.ravel(),label=\"\",ax=ax,c='b')\n",
        "# sns.kdeplot(y_test.ravel(),label=\"\",ax=ax,c='g')\n",
        "ax.legend(['Actual','Pred'],fontsize=14)\n",
        "ax.title.set_text('Test_set')"
      ],
      "execution_count": 140,
      "outputs": [
        {
          "output_type": "display_data",
          "data": {
            "image/png": "[encoded data removed]",
            "text/plain": [
              "<Figure size 576x432 with 1 Axes>"
            ]
          },
          "metadata": {
            "tags": [],
            "needs_background": "light"
          }
        }
      ]
    },
    {
      "cell_type": "code",
      "metadata": {
        "id": "_UqGxyVcVBrR"
      },
      "source": [
        ""
      ],
      "execution_count": 140,
      "outputs": []
    }
  ]
}